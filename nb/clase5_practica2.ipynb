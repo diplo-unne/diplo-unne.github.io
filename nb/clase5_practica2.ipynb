{
 "cells": [
  {
   "cell_type": "code",
   "execution_count": 28,
   "id": "668af360-4ebb-4365-aafd-1f636a9505db",
   "metadata": {
    "tags": []
   },
   "outputs": [],
   "source": [
    "import numpy as np\n",
    "import matplotlib.pyplot as plt\n",
    "from scipy.special import legendre  # librería para Legendre"
   ]
  },
  {
   "cell_type": "markdown",
   "id": "3233554e-fda1-40d5-aefe-abbc05aafc77",
   "metadata": {},
   "source": [
    "# Plot"
   ]
  },
  {
   "cell_type": "markdown",
   "id": "0d71d70a-e2ba-4a0c-9b11-c8a16bf9d40a",
   "metadata": {},
   "source": [
    "### 1. La primer gráfica simple\n",
    "El voltaje en función del tiempo en un dispositivo está dado por la función $V(t) = 2t^2\\sin(t)$. Grafique la curva para valores de t en el rango de $-4$ a $4$ utilizando una línea discontinua (--) de color rojo. Coloque una grilla y marcadores en $x=-4,-2,0,2,4$, coloque nombre a los ejes, título a la figura y legenda."
   ]
  },
  {
   "cell_type": "markdown",
   "id": "2c31b997-8721-4fe4-8a8f-9ed22ef575ea",
   "metadata": {},
   "source": [
    "### 2. Dibujando varias funciones en el mismo eje\n",
    "Las funciones las vamos a tomar de una librería llamada Legendre. Abajo se muestra un ejemplo en el que se grafica el 3 polinomio de Legendre entre 0 y 1."
   ]
  },
  {
   "cell_type": "code",
   "execution_count": 25,
   "id": "f8fc89fe-363d-4c23-8f7c-ed823e857893",
   "metadata": {
    "tags": []
   },
   "outputs": [
    {
     "data": {
      "text/plain": [
       "[<matplotlib.lines.Line2D at 0x7672452f6cd0>]"
      ]
     },
     "execution_count": 25,
     "metadata": {},
     "output_type": "execute_result"
    },
    {
     "data": {
      "image/png": "[encoded data removed]",
      "text/plain": [
       "<Figure size 300x300 with 1 Axes>"
      ]
     },
     "metadata": {},
     "output_type": "display_data"
    }
   ],
   "source": [
    "x = np.linspace(0,1,100)\n",
    "fig = plt.figure(figsize=(3,3))\n",
    "n = 3                         # grado del polinomio\n",
    "plt.plot(x,legendre(n)(x))"
   ]
  },
  {
   "cell_type": "markdown",
   "id": "c2282c1d-d99f-47b8-a376-ba7365bf0fc0",
   "metadata": {},
   "source": [
    "En este problema debemos reproducir la gráfica de Wikipedia, y mejorarla agregándole título, y nombre a los ejes."
   ]
  },
  {
   "cell_type": "markdown",
   "id": "a91f913a-93de-4ba6-bb9e-f2663633806c",
   "metadata": {
    "tags": []
   },
   "source": [
    "<img src=\"legendre.png\" class=\"bg-primary mb-1\" width=\"400px\">"
   ]
  },
  {
   "cell_type": "markdown",
   "id": "55feab49-a632-464c-a6ce-c1ce98da907b",
   "metadata": {},
   "source": [
    "# Subplot"
   ]
  },
  {
   "cell_type": "markdown",
   "id": "56ef3ed1-e151-4fdd-a826-485fecd00d7f",
   "metadata": {
    "tags": []
   },
   "source": [
    "### 3. Dibujando varias funciones en distintos ejes\n",
    "Vamos a dibujar las funciones de Wikipedia del problema anterior pero en una matriz de gráficos de:\n",
    "\n",
    "- Seis filas y una columna, deben compartir el eje x y el espaciado debe ser mínimo.\n",
    "\n",
    "- Tres filas y dos columnas, deben compartir los ejes x e y, y el espaciado debe ser mínimo."
   ]
  },
  {
   "cell_type": "markdown",
   "id": "754e1b19-c39e-460a-be71-2fcf203c5c8d",
   "metadata": {},
   "source": [
    "\n",
    "## Ejercicio 1. Análisis exploratorio"
   ]
  },
  {
   "cell_type": "markdown",
   "id": "b04540e9-e8ec-4cb4-ade0-23a7dac7240c",
   "metadata": {},
   "source": [
    "En el archivo baguette_sales.npz encontrará las ventas de baguettes de una panaderia francesa desde el 01/01/2021 hasta el 30/09/2022. Importe el archivo y analice:\n",
    "\n",
    "1) ¿Cómo se comporta en número de clientes por día? ¿En que mes del año se venden más baguettes y es conveniente contratar más personal?\n",
    "2) Analice la distribución de frecuencia del número de baguettes vendidos cada día de la semana. ¿Qué día se vendieron más baguettes?\n",
    "3) Haga un boxplot del número de baguettes vendidos cada día de la semana."
   ]
  },
  {
   "cell_type": "markdown",
   "id": "a4ea1f91",
   "metadata": {},
   "source": [
    "\n",
    "## Ejercicio 2. Análisis de tormenta\n",
    "\n",
    "Leer el archivo de una tormenta storm18.npz con datos de radar.  \n",
    "\n",
    "1. Obtener los datos y comprobar que tienen una dimension de 15 tiempos en la cual cada imagen tiene 101x101 pixels correspondientes a 1km x1km cada pixel.\n",
    "\n",
    "2. Determinar en que tiempo y posicion se encuentra el punto mas intenso de la tormenta. Que valor tiene?\n",
    "\n",
    "3. Graficar la imagen que contiene el punto mas intenso y localizar con una X en el grafico el lugar donde se encuentra."
   ]
  },
  {
   "cell_type": "markdown",
   "id": "bf9370ff",
   "metadata": {},
   "source": [
    "##  Ejercicio 3. Análisis estadístico de la tormenta\n",
    "\n",
    "\n",
    "Leer el archivo de una tormenta storm18.npz con datos de radar.\n",
    "\n",
    "1. Graficar un histograma con todos los puntos.\n",
    "\n",
    "2. Graficar en tres paneles, el histograma con todos los puntos, el histograma para el primer tiempo y el histograma para el tiempo final. \n"
   ]
  },
  {
   "cell_type": "code",
   "execution_count": null,
   "id": "0873a4ce",
   "metadata": {},
   "outputs": [],
   "source": []
  }
 ],
 "metadata": {
  "kernelspec": {
   "display_name": "Python 3 (ipykernel)",
   "language": "python",
   "name": "python3"
  },
  "language_info": {
   "codemirror_mode": {
    "name": "ipython",
    "version": 3
   },
   "file_extension": ".py",
   "mimetype": "text/x-python",
   "name": "python",
   "nbconvert_exporter": "python",
   "pygments_lexer": "ipython3",
   "version": "3.11.5"
  }
 },
 "nbformat": 4,
 "nbformat_minor": 5
}
