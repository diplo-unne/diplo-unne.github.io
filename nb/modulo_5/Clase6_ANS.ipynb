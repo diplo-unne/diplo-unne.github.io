{
  "cells": [
    {
      "cell_type": "markdown",
      "metadata": {
        "id": "2-5himLhU66b"
      },
      "source": [
        "# **DIPLOMATURA UNIVERSITARIA EN CIENCIA DE DATOS**\n",
        "\n",
        "# Módulo 5: Aprendizaje No Supervisado\n",
        "\n",
        "## Técnicas de muestreo: Markov Chain Monte Carlo. Metropolis Hastings. Gibbs sampling.\n",
        "\n",
        "## **Docentes:** Lic. Luis Duarte - Dra. Griselda Bobeda  - Dra. Magdalena Lucini\n",
        "\n",
        "### Noviembre 2024, FaCENA - UNNE\n",
        "\n",
        "### Contacto:  \n",
        "* luis.duarte@comunidad.unne.edu.ar;\n",
        "* griseldabobeda@gmail.com;\n",
        "* mariamlucini@comunidad.unne.edu.ar"
      ]
    },
    {
      "cell_type": "code",
      "source": [],
      "metadata": {
        "id": "vsvw79A43jzR"
      },
      "execution_count": null,
      "outputs": []
    },
    {
      "cell_type": "code",
      "source": [
        "import numpy as np\n",
        "import matplotlib.pyplot as plt"
      ],
      "metadata": {
        "id": "mpWgRDYjGpEZ"
      },
      "execution_count": null,
      "outputs": []
    },
    {
      "cell_type": "markdown",
      "source": [
        "## **5.Muestreo por Metropoltan-Hasting:**"
      ],
      "metadata": {
        "id": "rv9P2R8N4g51"
      }
    },
    {
      "cell_type": "markdown",
      "source": [
        "En este procedimiento, trabajamos con cadenas de Markov y definimos los siguientes elementos:\n",
        "\n",
        "- $Q(Y \\mid X)$: una densidad de transición (propuesta) para $X$ y $Y$ de dimensión $p$, que nos permite simular fácilmente.\n",
        "- $P(X)$: nuestra densidad objetivo, es decir, la distribución estacionaria a la que la cadena de Markov converge.\n",
        "\n",
        "El algoritmo Metropolis-Hastings es un proceso iterativo que sigue tres pasos principales para determinar cómo moverse del estado actual $x$ al siguiente en el espacio de estados:\n",
        "\n",
        "1. **Simular un valor candidato**  \n",
        "   Generar $y \\sim Q(Y \\mid x)$, donde $y$ depende del estado actual $x$.\n",
        "\n",
        "2. **Calcular la razón de aceptación**  \n",
        "   $$  \\alpha(y \\mid x) = \\min\\left\\{ \\cfrac{P(y) Q(x \\mid y)}{P(x) Q(y \\mid x)}, 1 \\right\\}$$\n",
        "   Esta razón determina la probabilidad de aceptar el candidato $y$.\n",
        "\n",
        "3. **Decidir el siguiente estado**  \n",
        "   Generar $u \\sim \\mathcal{U}(0,1)$.\n",
        "   * Si $u \\leq \\alpha(y \\mid x)$, el próximo estado será $y$.\n",
        "   * Caso contrario, el estado permanece en $x$.\n"
      ],
      "metadata": {
        "id": "83CrKCsf42Ki"
      }
    },
    {
      "cell_type": "markdown",
      "source": [
        "### **5.1 Caso Univariado:**\n",
        "Sea $P(x)=3e^{-\\frac{x^2}{2}} + e^{-\\frac{(x-4)^2}{2}}$ la distribución de la cual queremos muestrear para estimar: $E_P\\left[X\\right]$ y $E_P\\left[\\sin\\right]$ . Tengamos en cuenta que esta es una distribución no normalizada con una constante de normalización $Z$ que podemos calcular, pero dejémosla tal como está. ($Z\\approx 10.0261955464$). Con una muestra de tamaño un millón, estime las esperanzas solicitadas."
      ],
      "metadata": {
        "id": "cwZ7awUE4XP_"
      }
    },
    {
      "cell_type": "code",
      "source": [
        "# Función objetivo\n",
        "def P(x):\n",
        "    return 3 * np.exp(-x*x/2) + np.exp(-(x - 4)**2/2)"
      ],
      "metadata": {
        "id": "QHceJTjjwzWg"
      },
      "execution_count": null,
      "outputs": []
    },
    {
      "cell_type": "code",
      "source": [
        "x_vals = np.linspace(-10, 10, 1000)\n",
        "y_vals = P(x_vals)\n",
        "plt.figure(1)\n",
        "plt.plot(x_vals, y_vals, 'r', label='P(x)')\n",
        "plt.legend(loc='upper right', shadow=True)\n",
        "plt.show()"
      ],
      "metadata": {
        "id": "_2k3wS9Jw0EB"
      },
      "execution_count": null,
      "outputs": []
    },
    {
      "cell_type": "code",
      "source": [
        "def fx(x):\n",
        "  return x\n",
        "\n",
        "def gx(x):\n",
        "  return np.sin(x)"
      ],
      "metadata": {
        "id": "s-PKO1Ylxbpw"
      },
      "execution_count": null,
      "outputs": []
    },
    {
      "cell_type": "markdown",
      "source": [
        "Recordemos que los valores reales son $E_P\\left[X\\right]\\approx 10.02686647165$ y $E_P\\left[\\sin\\right]\\approx -1.15088010640$."
      ],
      "metadata": {
        "id": "wLI20s4Wxgs9"
      }
    },
    {
      "cell_type": "code",
      "source": [
        "Z=10.0261955464\n",
        "true_expected_fx = 10.02686647165\n",
        "true_expected_gx = -1.15088010640"
      ],
      "metadata": {
        "id": "NeJyfsc0xSh_"
      },
      "execution_count": null,
      "outputs": []
    },
    {
      "cell_type": "markdown",
      "source": [
        "La cadena de Markov necesita un tiempo para estabilizarse, lo que se conoce como la fase de calentamiento (burn-in). En general, se \"tiran\" las primeras 1000 muestras como parte de esta fase de calentamiento.\n",
        "\n",
        "Aquí elegimos $Q(Y|X=x)$ como una distribución $\\mathcal{N}(x,1)$ que en realidad es igual a $Q(X|Y=y)$ y debería cancelarse, pero lo dejamos incluido en el código para mayor claridad."
      ],
      "metadata": {
        "id": "rIOxq1k8zMwC"
      }
    },
    {
      "cell_type": "code",
      "source": [
        "def Q(t0,t1):\n",
        "  return np.exp(-(t1 - t0)**2/2)/(np.sqrt(2 * np.pi))"
      ],
      "metadata": {
        "id": "blj0Leeb0XpN"
      },
      "execution_count": null,
      "outputs": []
    },
    {
      "cell_type": "code",
      "source": [
        "x0 = 0\n",
        "xt = x0\n",
        "samples = []\n",
        "for i in range(1001000):\n",
        "    y = np.random.normal(xt, 1)\n",
        "    accept_prob = (P(y) * Q(xt, y))/(P(xt) * Q(y, xt))\n",
        "    if np.random.uniform(0, 1) <= accept_prob:\n",
        "        xt = y\n",
        "    samples.append(xt)\n",
        "burn_in = 1000\n",
        "samples = np.array(samples[burn_in:])\n",
        "expected_fx = np.mean(fx(samples))\n",
        "expected_gx = np.mean(gx(samples))\n",
        "expected_fx *= Z\n",
        "expected_gx *= Z\n",
        "print('E[f(x)] = %.5f, Error = %.5f' % (expected_fx, abs(expected_fx - true_expected_fx)))\n",
        "print('E[g(x)] = %.5f, Error = %.5f' % (expected_gx, abs(expected_gx - true_expected_gx)))"
      ],
      "metadata": {
        "id": "DptU6DCL0QjF"
      },
      "execution_count": null,
      "outputs": []
    },
    {
      "cell_type": "markdown",
      "source": [
        "Determinemos el histograma de las muestras obtenidas con el algoritmo de Metropolis-Hastings y comparémoslo con la distribución normalizada $P(x)$ subyacente."
      ],
      "metadata": {
        "id": "5Axrf_dx4ErQ"
      }
    },
    {
      "cell_type": "code",
      "source": [
        "plt.hist(samples, bins=50, histtype='bar', facecolor='g', alpha=0.75, density=True, label='bins')\n",
        "plt.plot(x_vals, y_vals/Z, 'r', label='P(x)')\n",
        "plt.title('Metropolis Hastings')\n",
        "plt.legend(loc='upper right', shadow=True)\n",
        "plt.show()"
      ],
      "metadata": {
        "id": "qlldKyVj4EQM"
      },
      "execution_count": null,
      "outputs": []
    },
    {
      "cell_type": "markdown",
      "source": [
        " Es evidente que el algoritmo de Metropolis-Hastings genera muestras de dicha distribución normalizada."
      ],
      "metadata": {
        "id": "iIpG_VlD4vXX"
      }
    },
    {
      "cell_type": "markdown",
      "source": [
        "### **5.2 Random Walk Metropolis-Hastings**\n",
        "\n",
        "El algoritmo Random Walk Metropolis-Hastings utiliza una densidad de transición $Q(Y \\mid X=x)$ definida como $Y = X + \\varepsilon$, donde $\\varepsilon \\sim g$ y $g$ es simétrica respecto a 0. Esto implica que $Q(Y\\mid X=x) = Q(X \\mid Y=y) = g(\\varepsilon)$, simplificando la razón de aceptación a:  \n",
        "$$\\alpha(y \\mid x) = \\min \\left\\{ \\frac{P(y)}{P (x)}, 1 \\right\\}.$$\n",
        "\n",
        "**Pasos del algoritmo:**\n",
        "\n",
        "1. Simular $\\varepsilon \\sim g $ y calcular $ y = x + \\varepsilon $.  \n",
        "2. Calcular $ \\alpha(y \\mid x) $.  \n",
        "3. Simular $ u \\sim \\text{Unif}(0,1)$.  \n",
        "   - Si $ u \\leq \\alpha(y \\mid x)$, aceptar $y$ como el siguiente estado.  \n",
        "   - Si no, permanecer en $x$.  \n",
        "\n",
        "Este enfoque corresponde a la forma original del algoritmo de Metropolis.\n",
        "\n"
      ],
      "metadata": {
        "id": "3swv5Rxd7rnd"
      }
    },
    {
      "cell_type": "markdown",
      "source": [
        "### **5.2.1 Ejemplo: Muestreo de Variables Normales**\n",
        "\n",
        "Como un ejemplo sencillo, podemos mostrar cómo el algoritmo de Random Walk Metropolis-Hastings puede usarse para muestrear de una distribución Normal estándar. Sea $g $ una distribución uniforme sobre el intervalo $ (-\\delta, \\delta) $, donde $\\delta$ es un valor pequeño y mayor que 0 (su valor exacto no es relevante). Entonces podemos proceder así:\n",
        "\n",
        "1. Simular $\\varepsilon \\sim \\mathcal{U}(-\\delta, \\delta) $ y definir $y = x + \\varepsilon$.\n",
        "2. Calcular $\\alpha(y | x) = \\min \\left\\{ \\frac{\\varphi(y)}{\\varphi(x)}, 1 \\right\\},$\n",
        "   donde $\\varphi$ es la densidad de la Normal estándar.\n",
        "3. Simular $u \\sim \\mathbf(0,1)$.\n",
        "   - Si  $u \\leq \\alpha(y | x)$, aceptar $y$ como el siguiente estado;\n",
        "   - De lo contrario, permanecer en $x$.\n"
      ],
      "metadata": {
        "id": "mknBmj3OABXk"
      }
    },
    {
      "cell_type": "code",
      "source": [
        "delta = 0.5\n",
        "N = 500\n",
        "x = np.zeros(N)\n",
        "\n",
        "# Función de Densidad Normal Estandar\n",
        "def phi(x):\n",
        "  return np.exp(-x**2 / 2)/ np.sqrt(2 * np.pi)\n",
        "\n",
        "# Algoritmo de Metropolis-Hastings\n",
        "for i in range(1, N):\n",
        "    eps = np.random.uniform(-delta, delta)\n",
        "    y = x[i-1] + eps\n",
        "    alpha = min(phi(y)/phi(x[i-1]), 1)\n",
        "    u = np.random.uniform(0, 1)\n",
        "    if u <= alpha:\n",
        "        x[i] = y\n",
        "    else:\n",
        "        x[i] = x[i-1]\n",
        "\n",
        "x=x[50:]\n",
        "# Resumen de la cadena\n",
        "print(\"Resumen de la cadena:\")\n",
        "print(f\"Promedio: {np.mean(x)}\")\n",
        "print(f\"Desviación estándar: {np.std(x)}\")"
      ],
      "metadata": {
        "id": "zlkvUIupB4Zu"
      },
      "execution_count": null,
      "outputs": []
    },
    {
      "cell_type": "code",
      "source": [
        "x_vals = np.linspace(-4, 4, 1000)\n",
        "y_vals = phi(x_vals)\n",
        "plt.hist(x, bins=50, histtype='bar', facecolor='g', alpha=0.75, density=True, label='bins')\n",
        "plt.plot(x_vals, y_vals, 'r', label='$\\Phi(x)$')\n",
        "plt.title('Random-Metropolis Hastings')\n",
        "plt.legend(loc='upper right', shadow=True)\n",
        "plt.show()"
      ],
      "metadata": {
        "id": "tLIfahBuE2S4"
      },
      "execution_count": null,
      "outputs": []
    },
    {
      "cell_type": "markdown",
      "source": [
        "Podemos observar un gráfico de trazas (trace plot) de las muestras para analizar cómo se movió la cadena."
      ],
      "metadata": {
        "id": "dhVjHlUkIyzZ"
      }
    },
    {
      "cell_type": "code",
      "source": [
        "plt.plot(range(1, len(x)+1), x)\n",
        "plt.xlabel(\"Iteración\")\n",
        "plt.ylabel(\"Valor\")\n",
        "plt.title(\"Gráfico de Iteraciones\")\n",
        "plt.show()"
      ],
      "metadata": {
        "id": "0Qk7F9h2IQUg"
      },
      "execution_count": null,
      "outputs": []
    },
    {
      "cell_type": "markdown",
      "source": [
        "**¿Qué sucedería si cambiáramos el valor de $\\delta$?**\n",
        "\n",
        "Aquí hacemos que $\\delta$ sea más grande y podemos observar el efecto en el gráfico de trazas."
      ],
      "metadata": {
        "id": "U3rBqDpyI15f"
      }
    },
    {
      "cell_type": "code",
      "source": [
        "delta = 2\n",
        "N = 500\n",
        "x = np.zeros(N)\n",
        "\n",
        "# Algoritmo de Metropolis-Hastings\n",
        "for i in range(1, N):\n",
        "    eps = np.random.uniform(-delta, delta)\n",
        "    y = x[i-1] + eps\n",
        "    alpha = min(phi(y)/phi(x[i-1]), 1)\n",
        "    u = np.random.uniform(0, 1)\n",
        "    if u <= alpha:\n",
        "        x[i] = y\n",
        "    else:\n",
        "        x[i] = x[i-1]\n",
        "\n",
        "x=x[50:]\n",
        "# Resumen de la cadena\n",
        "print(\"Resumen de la cadena:\")\n",
        "print(f\"Promedio: {np.mean(x)}\")\n",
        "print(f\"Desviación estándar: {np.std(x)}\")"
      ],
      "metadata": {
        "id": "YZJKegqSKww0"
      },
      "execution_count": null,
      "outputs": []
    },
    {
      "cell_type": "code",
      "source": [
        "plt.plot(range(1, len(x)+1), x)\n",
        "plt.xlabel(\"Iteración\")\n",
        "plt.ylabel(\"Valor\")\n",
        "plt.title(\"Gráfico de Iteraciones\")\n",
        "plt.show()"
      ],
      "metadata": {
        "colab": {
          "base_uri": "https://localhost:8080/",
          "height": 472
        },
        "id": "fIGe0TyvLCBT",
        "outputId": "f24a0c65-4d3b-4c03-d029-22fe09bb36b3"
      },
      "execution_count": null,
      "outputs": [
        {
          "output_type": "display_data",
          "data": {
            "text/plain": [
              "<Figure size 640x480 with 1 Axes>"
            ],
            "image/png": "[encoded data removed]"
          },
          "metadata": {}
        }
      ]
    },
    {
      "cell_type": "markdown",
      "source": [
        "- Los gráficos de trazas muestran cómo el valor de $\\delta$ afecta el comportamiento del muestreador:\n",
        "  - Con un $\\delta$ pequeño:\n",
        "    - Mayor movimiento entre iteraciones.\n",
        "    - Pasos más pequeños.\n",
        "    - Mayor autocorrelación en la cadena.\n",
        "  - Con un $\\delta$ grande:\n",
        "    - Propuestas más alejadas del estado actual.\n",
        "    - Mayor probabilidad de rechazo si las propuestas no son consistentes con la distribución objetivo.\n",
        "- La teoría garantiza que ambas configuraciones ($\\delta$ pequeño y grande) convergen a la misma distribución.\n",
        "- Sin embargo, el valor de $\\delta$ influye en:\n",
        "  - La velocidad de convergencia.\n",
        "  - La cantidad de espacio muestral explorado.\n",
        "- Ajustar adecuadamente $\\delta$ es clave para mejorar la eficiencia del muestreador.\n"
      ],
      "metadata": {
        "id": "WoJIx_m1LbB9"
      }
    },
    {
      "cell_type": "markdown",
      "source": [
        "### **5.3 distribución Bivariada:**\n",
        "\n",
        "Sea $U(\\mathbf{z})=\\cfrac{1}{2}\\cdot \\left(\\cfrac{\\|\\mathbf{z}-2\\|^2}{0.4}\\right)-\\log \\left(e^{-0.5\\left[\\frac{z_1-2}{0.6}\\right]}+e^{-0.5\\left[\\frac{z_1+2}{0.6}\\right]}\\right)$; y $p(\\mathbf{z})=e^{-U(\\mathbf{z})}$ la distribución no normalizada que se quiere muestrear."
      ],
      "metadata": {
        "id": "lXu4eVcFP1Nr"
      }
    },
    {
      "cell_type": "code",
      "source": [
        "def U(z):\n",
        "    z = np.reshape(z, [z.shape[0], 2])\n",
        "    z1, z2 = z[:, 0], z[:, 1]\n",
        "    norm = np.sqrt(z1 ** 2 + z2 ** 2)\n",
        "    exp1 = np.exp(-0.5 * ((z1 - 2) / 0.6) ** 2)\n",
        "    exp2 = np.exp(-0.5 * ((z1 + 2) / 0.6) ** 2)\n",
        "    u = 0.5 * ((norm - 2) / 0.4) ** 2 - np.log(exp1 + exp2)\n",
        "    return np.exp(-u)"
      ],
      "metadata": {
        "id": "bAdO2wZFV3FK"
      },
      "execution_count": null,
      "outputs": []
    },
    {
      "cell_type": "code",
      "source": [
        "# Graficamos la densidad real:\n",
        "r = np.linspace(-5, 5, 1000)\n",
        "z = np.array(np.meshgrid(r, r)).transpose(1, 2, 0)\n",
        "z = np.reshape(z, [z.shape[0] * z.shape[1], -1])\n",
        "\n",
        "q0 = U(z)\n",
        "plt.hexbin(z[:,0], z[:,1], C=q0.squeeze(), cmap='rainbow')\n",
        "plt.gca().set_aspect('equal', adjustable='box')\n",
        "plt.xlim([-3, 3])\n",
        "plt.ylim([-3, 3])\n",
        "plt.show()"
      ],
      "metadata": {
        "id": "eqxVPNpBV842"
      },
      "execution_count": null,
      "outputs": []
    },
    {
      "cell_type": "markdown",
      "source": [
        "* **Utilicemos el algoritmo Metropolis-Hastings (MH) con una densidad propuesta normal multivariada.**"
      ],
      "metadata": {
        "id": "n1YTvRBqV2oV"
      }
    },
    {
      "cell_type": "code",
      "source": [
        "from tqdm import tqdm\n",
        "def M_H(dens_prop, size=500000):\n",
        "    burnin_size = 10000\n",
        "    size += burnin_size\n",
        "    x0 = np.array([[0, 0]])\n",
        "    xt = x0\n",
        "    samples = []\n",
        "    for i in tqdm(range(size)):\n",
        "        y = np.array([np.random.multivariate_normal(xt[0], np.eye(2))])\n",
        "        accept_prob = (dens_prop(y))/(dens_prop(xt))\n",
        "        if np.random.uniform(0, 1) < accept_prob:\n",
        "            xt = y\n",
        "        samples.append(xt)\n",
        "    samples = np.array(samples[burnin_size:])\n",
        "    samples = np.reshape(samples, [samples.shape[0], 2])\n",
        "    return samples\n"
      ],
      "metadata": {
        "id": "_FX6whe_XN_2"
      },
      "execution_count": null,
      "outputs": []
    },
    {
      "cell_type": "code",
      "source": [
        "samples = M_H(U)"
      ],
      "metadata": {
        "id": "nNbO2HtoX8l4"
      },
      "execution_count": null,
      "outputs": []
    },
    {
      "cell_type": "markdown",
      "source": [
        "**Graficamos la muestra obtenida:**"
      ],
      "metadata": {
        "id": "jg9T9pJ4Y28k"
      }
    },
    {
      "cell_type": "code",
      "source": [
        "plt.hexbin(samples[:,0], samples[:,1], cmap='rainbow')\n",
        "plt.gca().set_aspect('equal', adjustable='box')\n",
        "plt.xlim([-3, 3])\n",
        "plt.ylim([-3, 3])\n",
        "plt.show()"
      ],
      "metadata": {
        "id": "Dfl4J3F5Y9D3"
      },
      "execution_count": null,
      "outputs": []
    },
    {
      "cell_type": "markdown",
      "source": [
        "## **6. Muestreo de Gibss**\n",
        "\n",
        "El muestreo de Gibbs es un método de muestreo utilizado en simulaciones basadas en cadenas de Markov (MCMC) para generar muestras de una distribución conjunta compleja. Funciona generando muestras secuencialmente de las distribuciones condicionales de cada variable, manteniendo fijas las demás variables.\n"
      ],
      "metadata": {
        "id": "NKXYT1X1Xk7L"
      }
    },
    {
      "cell_type": "markdown",
      "source": [
        "### **6.1 Muestreo de Gibbs para una distribución bivariada normal.**\n",
        "\n",
        "Vamos a considerar una distribución bivariada normal con media $\\mathbf{\\mu}^T=[\\mu_1, \\mu_2]$ y matriz de covarianza $\\Sigma$.\n",
        "\n",
        "La forma de esta distribución es:\n",
        "\n",
        "* En forma matricial:\n",
        "\n",
        "$$\n",
        "f(\\mathbf{x}) = \\frac{1}{2\\pi |\\Sigma|^{1/2}} \\exp\\left(-\\frac{1}{2} (\\mathbf{x} - \\boldsymbol{\\mu})^\\top \\Sigma^{-1} (\\mathbf{x} - \\boldsymbol{\\mu})\\right),\n",
        "$$\n",
        "\n",
        "* En forma desarrollada:\n",
        "$$f(x_1, x_2) = \\frac{1}{2\\pi \\sigma_1\\sigma_2 \\sqrt{1 - \\rho^2}}\n",
        "\\exp\\left( -\\frac{1}{2(1 - \\rho^2)}\n",
        "\\left[ \\frac{(x_1 - \\mu_1)^2}{\\sigma_1^2}\n",
        "- 2\\rho \\frac{(x_1 - \\mu_1)(x_2 - \\mu_2)}{\\sigma_1 \\sigma_2}\n",
        "+ \\frac{(x_2 - \\mu_2)^2}{\\sigma_2^2} \\right] \\right).$$"
      ],
      "metadata": {
        "id": "AQkOpxl2Y40p"
      }
    },
    {
      "cell_type": "markdown",
      "source": [
        "* **Pasos del muestreo de Gibbs:**\n",
        "1. Inicializar valores de $\\left(X_1, X_2\\right)$.\n",
        "2. Muestra $X_1^{(t+1)}\\sim P\\left(X_1| X_2^{(t)}\\right).$\n",
        "\n",
        "Muestra: $X_2^{(t+1)}\\sim P\\left(X_2| X_1^{(t+1)}\\right).$\n",
        "3. Repetir el proceso hasta alcanzar la convergencia."
      ],
      "metadata": {
        "id": "Jz_xg8etassm"
      }
    },
    {
      "cell_type": "markdown",
      "source": [
        "Para poder implementar este método, es necesario conocer las distribuciones condicionales:\n",
        "* $X_1|X_2=x_2\\sim \\mathcal{N}\\left(\\mu_1+\\rho \\cdot (x_2-\\mu_2)\\cdot \\cfrac{\\sigma_1}{\\sigma_2}; \\left(1-\\rho^2\\right)\\cdot \\sigma_1^2\\right)$.\n",
        "\n",
        "* $X_2|X_1=x_1\\sim \\mathcal{N}\\left(\\mu_2+\\rho \\cdot (x_1-\\mu_1)\\cdot \\cfrac{\\sigma_2}{\\sigma_1}; \\left(1-\\rho^2\\right)\\cdot \\sigma_2^2\\right)$"
      ],
      "metadata": {
        "id": "3_7pycWh_7lG"
      }
    },
    {
      "cell_type": "markdown",
      "source": [
        "#### **6.1.1 Implementación de Códigos.**"
      ],
      "metadata": {
        "id": "nMLc3rCOfVb6"
      }
    },
    {
      "cell_type": "markdown",
      "source": [
        "* **Parámetros**"
      ],
      "metadata": {
        "id": "eNsCgffFfvxB"
      }
    },
    {
      "cell_type": "code",
      "source": [
        "mu1, mu2 = 0, 0  # Medias\n",
        "sigma1, sigma2 = 1, 1  # Desviaciones estándar\n",
        "rho = 0.8  # Correlación entre X1 y X2"
      ],
      "metadata": {
        "id": "vu4gjETjfT3h"
      },
      "execution_count": null,
      "outputs": []
    },
    {
      "cell_type": "markdown",
      "source": [
        "* **Inicializamos con valores arbitrarios de $\\left(X_1,X_2\\right)$.**"
      ],
      "metadata": {
        "id": "vhZOkc92f3UA"
      }
    },
    {
      "cell_type": "code",
      "source": [
        "n = 2*10**6\n",
        "x1_samples = np.zeros(n)\n",
        "x2_samples = np.zeros(n)\n",
        "x1_samples[0] = np.random.randn()\n",
        "x2_samples[0] = np.random.randn()"
      ],
      "metadata": {
        "id": "bBmAOE69gFj4"
      },
      "execution_count": null,
      "outputs": []
    },
    {
      "cell_type": "markdown",
      "source": [
        "* **Muestreo:**\n",
        "\n",
        "En cada iteración, se genera un nuevo valor para $X_1$ condicionado a $X_2$, y luego se genera un nuevo valor para $X_2$ condicionado a $X_1$."
      ],
      "metadata": {
        "id": "E70n-PhPgQk6"
      }
    },
    {
      "cell_type": "code",
      "source": [
        "for t in range(1, n):\n",
        "    # Muestra X1 condicionado a X2\n",
        "    x1_mean = mu1 + rho * (x2_samples[t-1] - mu2) * sigma1 / sigma2\n",
        "    x1_std = np.sqrt((1 - rho**2) * sigma1**2)\n",
        "    x1_samples[t] = np.random.normal(x1_mean, x1_std)\n",
        "\n",
        "    # Muestra X2 condicionado a X1\n",
        "    x2_mean = mu2 + rho * (x1_samples[t] - mu1) * sigma2 / sigma1\n",
        "    x2_std = np.sqrt((1 - rho**2) * sigma2**2)\n",
        "    x2_samples[t] = np.random.normal(x2_mean, x2_std)\n",
        "\n",
        "x1_samples=x1_samples[1000:]\n",
        "x2_samples=x2_samples[1000:]"
      ],
      "metadata": {
        "id": "47VHEaAzgoLX"
      },
      "execution_count": null,
      "outputs": []
    },
    {
      "cell_type": "markdown",
      "source": [
        "* **Graficamos las muestras generadas:**"
      ],
      "metadata": {
        "id": "G5JFCrcQhbRs"
      }
    },
    {
      "cell_type": "code",
      "source": [
        "plt.figure(figsize=(8, 6))\n",
        "im, x_, y_ = np.histogram2d(x1_samples, x2_samples, bins=100, density=True)\n",
        "plt.imshow(im, extent=[-10, 10, -10, 10], cmap='hot', origin='lower', interpolation='nearest')\n",
        "plt.title('Muestras generadas con el muestreo de Gibbs')\n",
        "plt.xlabel('X1')\n",
        "plt.ylabel('X2')\n",
        "plt.colorbar()\n",
        "plt.show()\n"
      ],
      "metadata": {
        "id": "KwN2VaCJh7mN"
      },
      "execution_count": null,
      "outputs": []
    },
    {
      "cell_type": "markdown",
      "source": [
        "### **6.2 Aplicación en Estadística Bayesiana: Modelo Beta-Binomial**\n",
        "\n",
        "Suiza tiene un sistema democrático semi-directo que permite a sus ciudadanos opinar sobre nuevas leyes en ciertas circunstancias. El 13 de junio de 2021, el electorado suizo votará sobre la iniciativa popular \"Por una Suiza sin pesticidas artificiales\". En resumen, cada ciudadano suizo podrá expresar su opinión (sí o no, aceptar o rechazar) sobre esa nueva ley y, si se alcanza una mayoría (> 50% de votos afirmativos), la nueva ley entrará en vigor.\n",
        "\n",
        "El resultado de la votación es típicamente un experimento binomial en el sentido de que tenemos una serie de ensayos de Bernoulli independientes, con incertidumbre sobre $ p $, el parámetro que representa la probabilidad de un voto afirmativo. El 29 de abril, supongamos que tenemos un estudio inicial realizado con 1,000 ciudadanos suizos, que revela que el 44% de las personas encuestadas aceptarían la iniciativa popular y, por lo tanto, votarían sí. Supongamos además que el margen de error es de aproximadamente el 6%. Podríamos usar esa información para construir un modelo bayesiano jerárquico simple. El modelo es el siguiente:\n",
        "\n",
        "$$y_i | p \\sim \\mathcal{B}(n, p_i)$$\n",
        "\n",
        "$$p_i \\sim \\mathcal{Beta}(\\alpha, \\beta)$$\n",
        "para $i = 1, \\ldots, N$.\n",
        "\n",
        "Supongamos que una variable aleatoria $Y$ sigue una distribución Binomial (una verosimilitud binomial para nuestros datos $y$), caracterizada por la función de probabilidad de masa:\n",
        "\n",
        "$$f_p(y) = \\pi(y \\mid p) = \\binom{n}{y} p^y (1 - p)^{n - y}$$\n",
        "\n",
        "donde $p$ es el parámetro que representa la probabilidad de éxito en cada ensayo.\n",
        "\n",
        "En estadística bayesiana, para modelar la incertidumbre sobre $p$, un prior conveniente sería la distribución Beta $\\mathcal{Beta}(\\alpha, \\beta) $, ya que su soporte es el intervalo $[0, 1]$. La distribución Beta tiene la siguiente función de densidad de probabilidad:\n",
        "\n",
        "$$f_{\\alpha,\\beta}(p) = \\pi(p) = \\frac{1}{B(\\alpha, \\beta)} p^{\\alpha-1} (1 - p)^{\\beta-1}\n",
        "= \\frac{\\Gamma(\\alpha + \\beta)}{\\Gamma(\\alpha)\\Gamma(\\beta)} p^{\\alpha-1} (1 - p)^{\\beta-1}$$\n",
        "\n",
        "donde $\\alpha$ y $\\beta$ son parámetros de forma, $ B(\\alpha, \\beta)$ es la función Beta, y $\\Gamma(\\alpha)$ es la función Gamma, definida como:\n",
        "\n",
        "$$\\Gamma(\\alpha) = \\int_{0}^{\\infty} y^{\\alpha-1} e^{-y} \\, dy = $$\n",
        "\n",
        "La densidad Beta es una elección conveniente para la distribución de $p$, ya que puede adoptar una amplia variedad de formas.\n"
      ],
      "metadata": {
        "id": "kVAJ14APPBJq"
      }
    },
    {
      "cell_type": "code",
      "source": [
        "import numpy as np\n",
        "import matplotlib.pyplot as plt\n",
        "from scipy.stats import beta\n",
        "\n",
        "params = [(0.5, 0.5), (1, 1), (5, 1), (1, 5), (5, 5), (5, 40)]\n",
        "\n",
        "p = np.linspace(0, 1, 500)\n",
        "\n",
        "fig, axes = plt.subplots(2, 3, figsize=(12, 6))\n",
        "axes = axes.flatten()\n",
        "\n",
        "for i, (a, b) in enumerate(params):\n",
        "    density = beta.pdf(p, a, b)\n",
        "    axes[i].plot(p, density, color='blue')\n",
        "    axes[i].set_title(f'Beta({a}, {b})', fontsize=12)\n",
        "    axes[i].set_xlabel('p', fontsize=10)\n",
        "    axes[i].set_ylabel('Densidad', fontsize=10)\n",
        "    axes[i].grid(alpha=0.3)\n",
        "\n",
        "plt.tight_layout()\n",
        "plt.show()\n"
      ],
      "metadata": {
        "id": "X-xpR8PXX_pt"
      },
      "execution_count": null,
      "outputs": []
    },
    {
      "cell_type": "markdown",
      "source": [
        "Si $p\\sim \\mathcal{Beta}(\\alpha, \\beta)$, entonces:\n",
        "$$E[p]=\\cfrac{\\alpha}{\\alpha +\\beta} \\qquad \\text{Var}(p)=\\cfrac{\\alpha \\beta}{(\\alpha+\\beta)^2(\\alpha+\\beta+1)}$$"
      ],
      "metadata": {
        "id": "r0VxdykCYovt"
      }
    },
    {
      "cell_type": "markdown",
      "source": [
        "Se puede probar que la distribución a posteriori de $p\\mid y$ también tiene distribución Beta con parámetros actualizados.\n",
        "$$p\\mid y\\sim \\mathcal{Beta}(y+\\alpha, n-y+\\beta)$$"
      ],
      "metadata": {
        "id": "TBw6y3K8ZteU"
      }
    },
    {
      "cell_type": "markdown",
      "source": [
        "Dado que tenemos información previa del estudio inicial, definimos $\\alpha = 29.92$ y $\\beta = 38.08$, de manera que la distribución a priori sobre $p$ esté centrada en 0.44 y tenga una desviación estándar de aproximadamente el 0.06.\n"
      ],
      "metadata": {
        "id": "33Ij_n_6fAoM"
      }
    },
    {
      "cell_type": "code",
      "source": [
        "import numpy as np\n",
        "import pandas as pd\n",
        "import matplotlib.pyplot as plt\n",
        "from scipy.stats import beta\n",
        "import seaborn as sns\n",
        "\n",
        "# Parámetros de la distribución Beta\n",
        "alpha = 29.92\n",
        "beta_param = 38.08\n",
        "\n",
        "# Media de la distribución Beta\n",
        "media = alpha / (alpha + beta_param)\n",
        "print(f\"Media: {media}\")\n",
        "\n",
        "# Desvío de la distribución Beta\n",
        "desvio = np.sqrt((alpha * beta_param) / ((alpha + beta_param)**2 * (alpha + beta_param + 1)))\n",
        "print(f\"Desvío Estándar: {desvio}\")"
      ],
      "metadata": {
        "id": "7jkyVJh_gEnC"
      },
      "execution_count": null,
      "outputs": []
    },
    {
      "cell_type": "markdown",
      "source": [
        "* Distribución a priori de $p$:"
      ],
      "metadata": {
        "id": "hPkcGzVchDUx"
      }
    },
    {
      "cell_type": "code",
      "source": [
        "p = np.linspace(0, 1, 100)\n",
        "plt.plot(p, beta.pdf(p, alpha, beta_param), color=\"blue\")\n",
        "plt.xlabel(\"p\")\n",
        "plt.ylabel(\"Density(p)\")\n",
        "plt.title(\"Beta(29.92, 38.08)\")\n",
        "plt.show()"
      ],
      "metadata": {
        "id": "XXKjVLiehCdH"
      },
      "execution_count": null,
      "outputs": []
    },
    {
      "cell_type": "markdown",
      "source": [
        "* Función Gibbs para simulaciones:"
      ],
      "metadata": {
        "id": "KM9VEW5Ahhmw"
      }
    },
    {
      "cell_type": "code",
      "source": [
        "import numpy as np\n",
        "from scipy.stats import binom, beta\n",
        "\n",
        "def gibbs_sampler(nsim, burn, alpha, beta_param, n):\n",
        "    # Crear una matriz vacía para registrar los valores simulados\n",
        "    X = np.zeros((nsim, 2))\n",
        "\n",
        "    # Establecer los valores iniciales\n",
        "    X[0, 0] = round(n * alpha / (alpha + beta_param))  # número inicial de votantes a favor\n",
        "    X[0, 1] = alpha / (alpha + beta_param)  # probabilidad inicial p, la proporción de votantes a favor\n",
        "\n",
        "    for i in range(1, nsim):\n",
        "        # Muestreo de la distribución binomial condicional\n",
        "        X[i, 0] = binom.rvs(n, X[i-1, 1])\n",
        "        # Muestreo de la distribución beta condicional\n",
        "        X[i, 1] = beta.rvs(alpha + X[i, 0], beta_param + n - X[i, 0])\n",
        "\n",
        "    x = X[burn:, :]\n",
        "\n",
        "    return x\n"
      ],
      "metadata": {
        "id": "YEHZ4SoZdEjh"
      },
      "execution_count": null,
      "outputs": []
    },
    {
      "cell_type": "markdown",
      "source": [
        "* Realizamos las simulaciones con los datos del problema:"
      ],
      "metadata": {
        "id": "vZhwjRdPh22F"
      }
    },
    {
      "cell_type": "code",
      "source": [
        "np.random.seed(2024)\n",
        "muestra_aleat = gibbs_sampler(nsim=11000, burn=1000, alpha=alpha, beta_param=beta_param, n=100)"
      ],
      "metadata": {
        "id": "cmIjViKtiava"
      },
      "execution_count": null,
      "outputs": []
    },
    {
      "cell_type": "markdown",
      "source": [
        "* Podemos extrapolar estos datos a la población actual de Suiza (8960800 en 2024) con una tasa de participación en la votación del 40%."
      ],
      "metadata": {
        "id": "4n4NSzsaihAq"
      }
    },
    {
      "cell_type": "code",
      "source": [
        "pob_votantes = 8960800 * 0.4\n",
        "muestra_aleat_df = pd.DataFrame(muestra_aleat, columns=[\"yes_voters\", \"simulated_score\"])\n",
        "muestra_aleat_df[\"yes_voters\"] = muestra_aleat_df[\"yes_voters\"] * pob_votantes / 100\n",
        "\n",
        "# Probabilidad de que la iniciativa popular sea aceptada\n",
        "accepted_prob = len(muestra_aleat_df[(muestra_aleat_df[\"yes_voters\"] > pob_votantes / 2) &\n",
        "                                      (muestra_aleat_df[\"simulated_score\"] > 0.5)]) / len(muestra_aleat_df)\n",
        "print(f\"Probabilidad de aceptación: {accepted_prob}\")"
      ],
      "metadata": {
        "id": "aTG88DFPjuYs"
      },
      "execution_count": null,
      "outputs": []
    },
    {
      "cell_type": "code",
      "source": [
        "# Gráfico de dispersión entre votantes sí y la puntuación simulada\n",
        "plt.figure(figsize=(10, 6))\n",
        "sns.scatterplot(x=muestra_aleat_df[\"yes_voters\"], y=muestra_aleat_df[\"simulated_score\"], s=30, color='blue')\n",
        "sns.regplot(x=muestra_aleat_df[\"yes_voters\"], y=muestra_aleat_df[\"simulated_score\"], scatter=False, color=\"red\")\n",
        "plt.xlabel(\"Votantes sí\")\n",
        "plt.ylabel(\"Puntuación simulada\")\n",
        "plt.title(\"Votantes sí vs Puntuación simulada\")\n",
        "plt.text(0.2, 0.8, f\"R² = {muestra_aleat_df['yes_voters'].corr(muestra_aleat_df['simulated_score'])**2:.4f}\", color=\"red\", fontsize=12)\n",
        "plt.show()"
      ],
      "metadata": {
        "id": "hIn5IitKn9Ez"
      },
      "execution_count": null,
      "outputs": []
    },
    {
      "cell_type": "code",
      "source": [
        "# Histograma de puntuaciones simuladas\n",
        "plt.figure(figsize=(10, 6))\n",
        "sns.histplot(muestra_aleat_df['simulated_score'], kde=True, color=\"grey\", stat=\"density\", binwidth=0.01)\n",
        "sns.kdeplot(muestra_aleat_df['simulated_score'], color=\"red\", linewidth=2)\n",
        "plt.xlabel(\"Puntuación simulada\")\n",
        "plt.ylabel(\"Densidad\")\n",
        "plt.title(\"Distribución de puntuaciones simuladas\")\n",
        "plt.show()\n"
      ],
      "metadata": {
        "id": "0is0Kdy8fTa3"
      },
      "execution_count": null,
      "outputs": []
    },
    {
      "cell_type": "markdown",
      "source": [
        "## **7. Naive Bayes**"
      ],
      "metadata": {
        "id": "ivg4sUo4Os5C"
      }
    },
    {
      "cell_type": "markdown",
      "source": [
        "Los métodos Naive Bayes son un conjunto de algoritmos de aprendizaje supervisado basados ​​en la aplicación del teorema de Bayes con el supuesto “ingenuo” de independencia condicional entre cada par de características dado el valor de la variable de clase."
      ],
      "metadata": {
        "id": "D6yBItdqPaqA"
      }
    },
    {
      "cell_type": "markdown",
      "source": [
        "### **7.1 Clasificación de tipos de vino con Naive Bayes**"
      ],
      "metadata": {
        "id": "fWCq2_wZP2of"
      }
    },
    {
      "cell_type": "markdown",
      "source": [
        "Vamos a implementar el algoritmo Naive Bayes utilizando el conjunto de datos Wine, que es un conjunto clásico de clasificación que contiene información sobre la química de distintos tipos de vino.\n",
        "\n",
        "El objetivo es clasificar el vino en tres tipos diferentes utilizando sus propiedades químicas.\n",
        "\n",
        "Cargamos el conjunto de datos wine y revisaremos algunas características importantes como la forma de los datos y los nombres de las características."
      ],
      "metadata": {
        "id": "Ocfs8T0CQGi6"
      }
    },
    {
      "cell_type": "code",
      "source": [
        "# Importamos bibliotecas necesarias\n",
        "from sklearn.datasets import load_wine\n",
        "import pandas as pd\n",
        "\n",
        "# Cargamos el conjunto de datos Wine\n",
        "wine = load_wine()\n",
        "\n",
        "df_wine = pd.DataFrame(wine.data, columns=wine.feature_names)\n",
        "df_wine['target'] = wine.target"
      ],
      "metadata": {
        "id": "Dc20cWMxQE38"
      },
      "execution_count": null,
      "outputs": []
    },
    {
      "cell_type": "markdown",
      "source": [
        "* Veamos las primeras filas de la base:"
      ],
      "metadata": {
        "id": "iZ5hfiU9pIRs"
      }
    },
    {
      "cell_type": "code",
      "source": [
        "print(df_wine.head())"
      ],
      "metadata": {
        "id": "Bf7wHhpxpPC2"
      },
      "execution_count": null,
      "outputs": []
    },
    {
      "cell_type": "markdown",
      "source": [
        "* Podemos acceder a la información de la base:"
      ],
      "metadata": {
        "id": "NqWF34SXpd_7"
      }
    },
    {
      "cell_type": "code",
      "source": [
        "df_wine.info()\n",
        "\n"
      ],
      "metadata": {
        "id": "kzB3i0vTpdQ1"
      },
      "execution_count": null,
      "outputs": []
    },
    {
      "cell_type": "markdown",
      "source": [
        "* Obtengamos las estadísticas básicas de las variables:"
      ],
      "metadata": {
        "id": "sFB9vP3ypn7o"
      }
    },
    {
      "cell_type": "code",
      "source": [
        "df_wine.describe()"
      ],
      "metadata": {
        "id": "beYxZNMopvGt"
      },
      "execution_count": null,
      "outputs": []
    },
    {
      "cell_type": "markdown",
      "source": [
        "#### **7.1.1 Análisis de la distribución de clases**"
      ],
      "metadata": {
        "id": "UyRFTF1rQQYt"
      }
    },
    {
      "cell_type": "markdown",
      "source": [
        "Es importante verificar el balance de clases antes de entrenar el modelo, dado que Naive Bayes podría verse afectado si las clases están muy desbalanceadas."
      ],
      "metadata": {
        "id": "mDb2b-ouQYVX"
      }
    },
    {
      "cell_type": "code",
      "source": [
        "# Contamos la cantidad de muestras por cada clase de vino\n",
        "print(df_wine['target'].value_counts())\n"
      ],
      "metadata": {
        "id": "ln4Gv6Z9Qeds"
      },
      "execution_count": null,
      "outputs": []
    },
    {
      "cell_type": "markdown",
      "source": [
        "#### **7.1.2 Visualización de las características**"
      ],
      "metadata": {
        "id": "FoPSzU1GQhGQ"
      }
    },
    {
      "cell_type": "markdown",
      "source": [
        "Análisis exploratorio visual para entender cómo se distribuyen las características en cada clase."
      ],
      "metadata": {
        "id": "ZBMeRk6RQqRt"
      }
    },
    {
      "cell_type": "code",
      "source": [
        "features = df_wine.drop(columns='target').columns  # Selecciona todas las columnas excepto 'target'\n",
        "\n",
        "# Ajustamos el tamaño de la figura para todos los gráficos\n",
        "plt.figure(figsize=(15, 20))\n",
        "\n",
        "# Recorremos todas las características (features)\n",
        "for i, feature in enumerate(features, 1):\n",
        "    plt.subplot(5, 3, i)\n",
        "    sns.boxplot(x='target', y=feature, data=df_wine)\n",
        "    plt.title(f'Boxplot de {feature}')\n",
        "    plt.tight_layout()\n",
        "\n",
        "plt.show()"
      ],
      "metadata": {
        "id": "-Bz6SrParBow"
      },
      "execution_count": null,
      "outputs": []
    },
    {
      "cell_type": "markdown",
      "source": [
        "#### **7.1.3 Entrenemos el modelo Naive Bayes**"
      ],
      "metadata": {
        "id": "AqPZ4bw7Rh0J"
      }
    },
    {
      "cell_type": "markdown",
      "source": [
        "Procedemos a dividir los datos en conjuntos de entrenamiento y prueba y entrenamos el modelo Naive Bayes."
      ],
      "metadata": {
        "id": "ftmk3CvdRqAy"
      }
    },
    {
      "cell_type": "code",
      "source": [
        "# Importamos las bibliotecas necesarias para el modelo\n",
        "from sklearn.model_selection import train_test_split\n",
        "from sklearn.naive_bayes import GaussianNB\n",
        "#https://scikit-learn.org/1.5/modules/naive_bayes.html\n",
        "from sklearn.metrics import accuracy_score, classification_report, confusion_matrix\n",
        "\n",
        "# Dividimos los datos en conjuntos de entrenamiento y prueba\n",
        "X_train, X_test, y_train, y_test = train_test_split(wine.data, wine.target, test_size=0.3, random_state=42) #30% de datos de test\n",
        "\n",
        "# Creamos el modelo Naive Bayes Gaussiano\n",
        "model = GaussianNB()\n",
        "\n",
        "# Entrenamos el modelo\n",
        "model.fit(X_train, y_train)\n",
        "\n",
        "# Hacemos predicciones\n",
        "y_pred = model.predict(X_test)"
      ],
      "metadata": {
        "id": "Cn4Sq4-MRydE"
      },
      "execution_count": null,
      "outputs": []
    },
    {
      "cell_type": "markdown",
      "source": [
        "#### **7.1.4 Evaluación del modelo**"
      ],
      "metadata": {
        "id": "3lrIIwHlR3vD"
      }
    },
    {
      "cell_type": "markdown",
      "source": [
        "Ahora evaluamos el rendimiento del modelo utilizando métricas comunes, como la precisión global, el reporte de clasificación y la matriz de confusión.\n",
        "\n",
        "1. **Precisión**: La precisión nos da una idea general del porcentaje de aciertos del modelo.\n",
        "2. **Reporte de Clasificación**: Nos proporciona precisión, recall y F1-score, que son más detallados y permiten entender el rendimiento en cada clase.\n",
        "3. **Matriz de Confusión**: Nos muestra cómo el modelo clasifica cada clase y dónde comete errores."
      ],
      "metadata": {
        "id": "fbIfMMpMSCp0"
      }
    },
    {
      "cell_type": "code",
      "source": [
        "# Precisión del modelo\n",
        "accuracy = accuracy_score(y_test, y_pred)\n",
        "print(f'Precisión del modelo: {accuracy * 100:.2f}%')\n",
        "\n",
        "# Reporte de clasificación\n",
        "print(\"\\nReporte de clasificación:\")\n",
        "print(classification_report(y_test, y_pred, target_names=wine.target_names))\n",
        "\n",
        "# Matriz de confusión\n",
        "print(\"\\nMatriz de confusión:\")\n",
        "print(confusion_matrix(y_test, y_pred))\n"
      ],
      "metadata": {
        "id": "XZBKA19tSjkZ"
      },
      "execution_count": null,
      "outputs": []
    },
    {
      "cell_type": "markdown",
      "source": [
        "#### **7.1.4 Interpretación de los resultados**"
      ],
      "metadata": {
        "id": "b5BCneXJS70p"
      }
    },
    {
      "cell_type": "markdown",
      "source": [
        "1. **Precisión**:\n",
        "El valor de precisión (por ejemplo, 95%) nos indica qué tan bien está funcionando el modelo en términos generales. Sin embargo, no debemos basar nuestra evaluación solo en la precisión general, ya que puede ocultar detalles importantes si las clases están desbalanceadas.\n",
        "\n",
        "2. **Reporte de clasificación**:\n",
        "Este reporte nos muestra la precisión, recall y F1-score para cada clase de vino.\n",
        "\n",
        "*Precisión* : El número de verdaderos positivos dividido entre el número total de positivos predichos (indicando cuántos de los positivos predichos eran realmente positivos).\n",
        "\n",
        "*Recall* : El número de verdaderos positivos dividido entre el número total de positivos reales (indicando cuántos de los verdaderos positivos fueron correctamente identificados por el modelo).\n",
        "\n",
        "*F1-score* : El promedio ponderado de la precisión y el recall. Es útil cuando las clases están desbalanceadas, ya que ofrece una única métrica para evaluar ambos aspectos.\n",
        "\n",
        "3. **Matriz de confusión**:\n",
        "La matriz de confusión nos muestra los verdaderos positivos (diagonal principal) y los errores de clasificación (valores fuera de la diagonal).\n"
      ],
      "metadata": {
        "id": "BWJuKwdxTABn"
      }
    },
    {
      "cell_type": "code",
      "source": [
        "import seaborn as sns\n",
        "plt.figure(figsize=(8,6))\n",
        "sns.heatmap(confusion_matrix(y_test, y_pred), annot=True, fmt='d', cmap='Blues', xticklabels=wine.target_names, yticklabels=wine.target_names)\n",
        "plt.ylabel('Clase Verdadera')\n",
        "plt.xlabel('Clase Predicha')\n",
        "plt.show()\n"
      ],
      "metadata": {
        "id": "zlqA3siCTua9"
      },
      "execution_count": null,
      "outputs": []
    },
    {
      "cell_type": "markdown",
      "source": [
        "### **7.2 Aplicación de Naive Bayes a imágenes**\n",
        "\n",
        "Base de datos extraida de: https://www.kaggle.com/datasets/hafiznouman786/potato-plant-diseases-data\n",
        "\n",
        "Este conjunto de datos consiste en una lista con 2152 imágenes de alta resolución de plantas de papa que exhiben diversas enfermedades, incluyendo tizón temprano (early blight), tizón tardío (late blight) y hojas sanas (healthy).\n",
        "Ha sido recopilado para ayudar en el desarrollo y prueba de modelos de reconocimiento de imágenes para una detección y clasificación precisa de enfermedades, promoviendo avances en el diagnóstico agrícola."
      ],
      "metadata": {
        "id": "u-AskP6SFNAG"
      }
    },
    {
      "cell_type": "markdown",
      "source": [
        "La base de datos contiene, entonces:\n",
        "* 1000 imágenes RGB de tamaño 256x256 pixeles de hojas con **tizón temprano (EB)**.\n",
        "* 1000 imágenes RGB de tamaño 256x256 pixeles de hojas con **tizón tardío (LB)**.\n",
        "* 152 imágenes RGB de tamaño 256x256 pixeles de hojas **sanas (h)**."
      ],
      "metadata": {
        "id": "HXzTURpIGU5N"
      }
    },
    {
      "cell_type": "code",
      "source": [
        "from google.colab import drive\n",
        "drive.mount('/content/drive')\n",
        "import os\n",
        "import cv2"
      ],
      "metadata": {
        "colab": {
          "base_uri": "https://localhost:8080/"
        },
        "id": "BonpePVdHtw1",
        "outputId": "b1640b2d-9a83-4a09-f414-3bf7dd62fa9a"
      },
      "execution_count": null,
      "outputs": [
        {
          "output_type": "stream",
          "name": "stdout",
          "text": [
            "Mounted at /content/drive\n"
          ]
        }
      ]
    },
    {
      "cell_type": "code",
      "source": [
        "from google.colab import drive\n",
        "drive.mount('/content/drive')"
      ],
      "metadata": {
        "id": "acwtF4QIKK9o"
      },
      "execution_count": null,
      "outputs": []
    },
    {
      "cell_type": "code",
      "source": [
        "#Lectura de archivo\n",
        "X = np.load('/content/drive/MyDrive/DIPLOMATURA/3. Muestreo/imagenes.npy')\n",
        "\n",
        "print(X.shape)"
      ],
      "metadata": {
        "colab": {
          "base_uri": "https://localhost:8080/"
        },
        "id": "NOWDpFMyGcXj",
        "outputId": "1edac470-3c54-43f8-d141-c826de88435a"
      },
      "execution_count": null,
      "outputs": [
        {
          "output_type": "stream",
          "name": "stdout",
          "text": [
            "(2152, 256, 256, 3)\n"
          ]
        }
      ]
    },
    {
      "cell_type": "code",
      "source": [
        "etiquetas_EB = [\"EB\"] * 1000\n",
        "etiquetas_LB = [\"LB\"] * 1000\n",
        "etiquetas_H = [\"H\"] * 152\n",
        "y = etiquetas_EB + etiquetas_LB + etiquetas_H\n",
        "y=np.array(y)"
      ],
      "metadata": {
        "id": "l7VU8kt0N0-6"
      },
      "execution_count": null,
      "outputs": []
    },
    {
      "cell_type": "code",
      "source": [
        "indices = np.concatenate([np.arange(2), np.arange(1000, 1002), np.arange(2000, 2002)])\n",
        "\n",
        "plt.figure(figsize=(15, 12))\n",
        "\n",
        "for i, indice in enumerate(indices):\n",
        "    plt.subplot(3, 2, i + 1)\n",
        "    plt.imshow(X[indice])\n",
        "    plt.title(y[indice])\n",
        "    plt.axis('off')\n",
        "\n",
        "plt.tight_layout()\n",
        "plt.show()"
      ],
      "metadata": {
        "id": "e3M2B4TtM0Iw"
      },
      "execution_count": null,
      "outputs": []
    },
    {
      "cell_type": "code",
      "source": [
        "X_train,X_test,  y_train, y_test = train_test_split(X, y, test_size=0.2, stratify=y)\n",
        "X_trainNB = X_train.reshape(X_train.shape[0], -1)\n",
        "X_testNB = X_test.reshape(X_test.shape[0], -1)"
      ],
      "metadata": {
        "id": "rC9iCb02Pvyd"
      },
      "execution_count": null,
      "outputs": []
    },
    {
      "cell_type": "code",
      "source": [
        "#Categorías y balance en la base de prueba.\n",
        "unicost, cantidadt = np.unique(y_test, return_counts = True)\n",
        "\n",
        "print(f'El dataset de prueba posee imágenes de los siguentes tipos de hojas: {unicost}, y a cada tipo de hoja le corresponde la siguente cantidad: {cantidadt}')"
      ],
      "metadata": {
        "id": "ZKWeBGS1P6op"
      },
      "execution_count": null,
      "outputs": []
    },
    {
      "cell_type": "code",
      "source": [
        "model = GaussianNB()\n",
        "\n",
        "# Entrenamos el modelo\n",
        "model.fit(X_trainNB, y_train)\n",
        "\n",
        "# Hacemos predicciones\n",
        "y_pred = model.predict(X_testNB)"
      ],
      "metadata": {
        "id": "DAtfvWG5QKbp"
      },
      "execution_count": null,
      "outputs": []
    },
    {
      "cell_type": "code",
      "source": [
        "# Precisión del modelo\n",
        "accuracy = accuracy_score(y_test, y_pred)\n",
        "print(f'Precisión del modelo: {accuracy * 100:.2f}%')\n",
        "\n",
        "# Reporte de clasificación\n",
        "print(\"\\nReporte de clasificación:\")\n",
        "print(classification_report(y_test, y_pred, target_names=wine.target_names))\n"
      ],
      "metadata": {
        "id": "1468vzLHQlyt"
      },
      "execution_count": null,
      "outputs": []
    },
    {
      "cell_type": "code",
      "source": [
        "plt.figure(figsize=(8,6))\n",
        "sns.heatmap(confusion_matrix(y_test, y_pred), annot=True, fmt='d', cmap='Blues', xticklabels=wine.target_names, yticklabels=wine.target_names)\n",
        "plt.ylabel('Clase Verdadera')\n",
        "plt.xlabel('Clase Predicha')\n",
        "plt.show()"
      ],
      "metadata": {
        "id": "hlhjw4XnQ4fF"
      },
      "execution_count": null,
      "outputs": []
    },
    {
      "cell_type": "markdown",
      "source": [
        "#### **7.2.1  Balanceo de la clase minoritaria utilizando Data Augmentation**"
      ],
      "metadata": {
        "id": "oT-MZKsYRNk3"
      }
    },
    {
      "cell_type": "code",
      "source": [
        "from imgaug import augmenters as iaa\n",
        "augmenter = iaa.Sequential([\n",
        "    iaa.Fliplr(0.5), # Flip horizontal con probabilidad 50%\n",
        "    iaa.Affine(rotate=(-20, 20)), # Rotación entre -20 y 20 grados\n",
        "    iaa.Multiply((0.8, 1.2)) # Cambios aleatorios en el brillo\n",
        "])\n",
        "\n",
        "# Aumentar la clase minoritaria\n",
        "img = X[2002,:,:]\n",
        "\n",
        "# Generar imágenes aumentadas\n",
        "X_augmented = []\n",
        "\n",
        "for _ in range(3):\n",
        "    augmented_img = augmenter(image=img)\n",
        "    X_augmented.append(augmented_img)\n",
        "X_augmented = np.array(X_augmented)\n",
        "\n",
        "print(X_augmented.shape)"
      ],
      "metadata": {
        "id": "w0gDnPJy2ZaI"
      },
      "execution_count": null,
      "outputs": []
    },
    {
      "cell_type": "code",
      "source": [
        "plt.figure(figsize=(15, 10))\n",
        "# Mostrar la imagen original\n",
        "plt.subplot(2, 2, 1)\n",
        "plt.imshow(img)\n",
        "plt.title('Imagen Original',fontsize=22)\n",
        "plt.axis('off')\n",
        "\n",
        "# Mostrar imágenes modificadas\n",
        "plt.subplot(2, 2, 2)\n",
        "plt.imshow(X_augmented[0,:,:])\n",
        "plt.title('Primera Imagen modificada',fontsize=22)\n",
        "plt.axis('off')\n",
        "\n",
        "plt.subplot(2, 2, 3)\n",
        "plt.imshow(X_augmented[1,:,:])\n",
        "plt.title('Segunda Imagen modificada',fontsize=22)\n",
        "plt.axis('off')\n",
        "\n",
        "plt.subplot(2, 2, 4)\n",
        "plt.imshow(X_augmented[2,:,:])\n",
        "plt.title('Tercera Imagen modificada',fontsize=22)\n",
        "plt.axis('off')\n",
        "\n",
        "# Ajustar el diseño y mostrar todas las imágenes\n",
        "plt.tight_layout()\n",
        "plt.show()"
      ],
      "metadata": {
        "id": "E0-MIu6M2fgx"
      },
      "execution_count": null,
      "outputs": []
    },
    {
      "cell_type": "markdown",
      "source": [
        "**Balanceamos las clases:**"
      ],
      "metadata": {
        "id": "seFA8JeB2g2L"
      }
    },
    {
      "cell_type": "code",
      "source": [
        "from imgaug import augmenters as iaa\n",
        "\n",
        "# Definir el aumento de datos\n",
        "augmenter = iaa.Sequential([\n",
        "    iaa.Fliplr(0.5), # Flip horizontal con probabilidad 50%\n",
        "    iaa.Affine(rotate=(-20, 20)), # Rotación entre -20 y 20 grados\n",
        "    iaa.Multiply((0.8, 1.2)) # Cambios aleatorios en el brillo\n",
        "])\n",
        "\n",
        "X_minority = X[np.where(y == 'H')[0]]\n",
        "y_minority = y[np.where(y == 'H')[0]]\n",
        "\n",
        "X_augmented = []\n",
        "y_augmented = []\n",
        "\n",
        "for img in X_minority:\n",
        "    for _ in range(5):  # Generar 5 aumentos por imagen\n",
        "        augmented_img = augmenter(image=img)\n",
        "        X_augmented.append(augmented_img)\n",
        "        y_augmented.append('H')\n",
        "\n",
        "X_augmented = np.array(X_augmented)\n",
        "y_augmented = np.array(y_augmented)\n",
        "\n",
        "X_b = np.concatenate((X, X_augmented), axis=0)\n",
        "y_b = np.concatenate((y, y_augmented), axis=0)"
      ],
      "metadata": {
        "id": "AvtAylVqRZAg"
      },
      "execution_count": null,
      "outputs": []
    },
    {
      "cell_type": "markdown",
      "source": [
        "**Repetir la implementación de Naive Bayes en la nueva base de datos, y comparar los resultados.**"
      ],
      "metadata": {
        "id": "TDc01MutRrlL"
      }
    },
    {
      "cell_type": "code",
      "source": [
        "#########\n",
        "# TO DO #\n",
        "#########"
      ],
      "metadata": {
        "id": "YdTekalKRosD"
      },
      "execution_count": null,
      "outputs": []
    }
  ],
  "metadata": {
    "colab": {
      "provenance": []
    },
    "kernelspec": {
      "display_name": "Python 3",
      "name": "python3"
    },
    "language_info": {
      "name": "python"
    }
  },
  "nbformat": 4,
  "nbformat_minor": 0
}