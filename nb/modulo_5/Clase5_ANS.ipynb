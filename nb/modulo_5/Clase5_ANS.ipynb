{
  "cells": [
    {
      "cell_type": "markdown",
      "metadata": {
        "id": "2-5himLhU66b"
      },
      "source": [
        "# **DIPLOMATURA UNIVERSITARIA EN CIENCIA DE DATOS**\n",
        "\n",
        "# Módulo 5: Aprendizaje No Supervisado\n",
        "\n",
        "## Técnicas de muestreo: Método de Inversión. Muestreo por rechazo. Muestreo de importancia. Importance-sampling-resampling.\n",
        "\n",
        "## **Docentes:** Lic. Luis Duarte - Dra. Griselda Bobeda  - Dra. Magdalena Lucini\n",
        "\n",
        "### Noviembre 2024, FaCENA - UNNE\n",
        "\n",
        "### Contacto:  \n",
        "* luis.duarte@comunidad.unne.edu.ar;\n",
        "* griseldabobeda@gmail.com;\n",
        "* mariamlucini@comunidad.unne.edu.ar"
      ]
    },
    {
      "cell_type": "markdown",
      "metadata": {
        "id": "ws9-y8BtU6LG"
      },
      "source": [
        "**Objetivos:**\n",
        "\n",
        "*   Explorar diferentes técnicas de muestreo.\n"
      ]
    },
    {
      "cell_type": "markdown",
      "source": [
        "## **1. Método de Inversión.**"
      ],
      "metadata": {
        "id": "oyLKYwLd7UmP"
      }
    },
    {
      "cell_type": "markdown",
      "source": [
        "### **1.1 Considere la variable aleatoria $X\\sim \\mathcal{E}(1)$. Utilizando el método de inversión, obtenga una muestra de un milllón de observaciones y estime la media y el desvío de dicha variable.**"
      ],
      "metadata": {
        "id": "8Gp25MfX85VI"
      }
    },
    {
      "cell_type": "markdown",
      "source": [
        "Recordemos que:\n",
        "* $f_X(x)=e^{-x}, \\forall x\\in [0,+\\infty)$\n",
        "* $F_X(x)=1-e^{-x}, \\forall x\\in [0,+\\infty)$"
      ],
      "metadata": {
        "id": "Lt9ABYxX9ipw"
      }
    },
    {
      "cell_type": "markdown",
      "source": [
        "Luego, $Y=F_x^{-1}\\sim \\mathcal{U}(0,1)$, por lo que:\n",
        "\n",
        "$$F_x^{-1}(y)=-ln(1-y)$$"
      ],
      "metadata": {
        "id": "NhbIwnfZ-fwm"
      }
    },
    {
      "cell_type": "code",
      "source": [
        "import numpy as np\n",
        "import matplotlib.pyplot as plt\n",
        "\n",
        "def dens_exp(x):\n",
        "  return np.exp(-x)\n",
        "xvals = np.linspace(0, 10, 100)\n",
        "plt.plot(xvals, dens_exp(xvals), label='$\\mathcal{E}(1)$')\n",
        "plt.legend(loc='upper right', shadow=True)\n",
        "plt.xlim(0, 10)\n",
        "plt.show()"
      ],
      "metadata": {
        "id": "g5PWDEGU_KPt"
      },
      "execution_count": null,
      "outputs": []
    },
    {
      "cell_type": "code",
      "source": [
        "y = np.random.uniform(0, 1, 10**6)\n",
        "x = -np.log((1 - y))\n",
        "plt.hist(x, density=True, bins=100, label='bins')\n",
        "plt.plot(xvals, dens_exp(xvals), label='$\\mathcal{E}(1)$')\n",
        "plt.xlim(0, 10)\n",
        "plt.legend(loc='upper right', shadow=True)\n",
        "plt.show()"
      ],
      "metadata": {
        "id": "4WXOlwbq_woA"
      },
      "execution_count": null,
      "outputs": []
    },
    {
      "cell_type": "code",
      "source": [
        "Media=np.mean(x)\n",
        "Desvio=np.std(x)\n",
        "print(\"La media es: \", Media)\n",
        "print(\"El desvío estándar es: \", Desvio)"
      ],
      "metadata": {
        "id": "NbGL5714AAMS",
        "colab": {
          "base_uri": "https://localhost:8080/"
        },
        "outputId": "206e1fc7-4e2c-43ae-f682-d8254e0f7d0e"
      },
      "execution_count": null,
      "outputs": [
        {
          "output_type": "stream",
          "name": "stdout",
          "text": [
            "La media es:  1.001042648712789\n",
            "El desvío estándar es:  1.0004297024956785\n"
          ]
        }
      ]
    },
    {
      "cell_type": "markdown",
      "source": [
        "### **1.2 Considere ahora la variable aleatoria $X\\sim \\text{Gumbel}(0,1)$. Utilizando el método de inversión, obtenga una muestra de un milllón de observaciones y estime la media y el desvío de dicha variable.**\n",
        "\n",
        "NOTA:\n",
        "* $f_X(x)=e^{-(x+e^{-x})}$.\n",
        "* $F_X(x)=e^{-e^{-x}}$."
      ],
      "metadata": {
        "id": "ac7VxEaFA-R2"
      }
    },
    {
      "cell_type": "code",
      "source": [
        "#########\n",
        "# TO DO #\n",
        "#########"
      ],
      "metadata": {
        "id": "WJOxZZHsCTgO"
      },
      "execution_count": null,
      "outputs": []
    },
    {
      "cell_type": "markdown",
      "source": [
        "## **2. Muestreo por Aceptación - Rechazo.**"
      ],
      "metadata": {
        "id": "82DyW0Kd6PW5"
      }
    },
    {
      "cell_type": "markdown",
      "metadata": {
        "id": "WyPzjdDNh_ec"
      },
      "source": [
        "### **2.1 ¿Cómo harían, utilizando muestreo, para estimar el área bajo la curva $y=x^2$, entre $x=0$ y $x=1$?**"
      ]
    },
    {
      "cell_type": "code",
      "execution_count": null,
      "metadata": {
        "id": "jbfTVzgi2318"
      },
      "outputs": [],
      "source": [
        "# Definimos la función y = x^2\n",
        "def f(x):\n",
        "    return x**2\n",
        "\n",
        "x = np.linspace(0, 1, 1000)\n",
        "y = f(x)\n",
        "\n",
        "plt.figure(figsize=(8, 6))\n",
        "\n",
        "plt.plot(x, y, label=r'$y = x^2$', color='blue')\n",
        "plt.fill_between(x, y, color='lightblue', alpha=0.5)\n",
        "plt.xlabel('x', fontsize=12)\n",
        "plt.ylabel('y', fontsize=12)\n",
        "plt.grid(True)\n",
        "plt.show()\n"
      ]
    },
    {
      "cell_type": "code",
      "execution_count": null,
      "metadata": {
        "id": "jSNqZhCg2IIX"
      },
      "outputs": [],
      "source": [
        "#Generamos dos vectores de números aleatorios uniformemente distribuidos en [0,1].\n",
        "import numpy as np\n",
        "import matplotlib.pyplot as plt\n",
        "n=10**6\n",
        "x = np.random.rand(n)\n",
        "y = np.random.rand(n)\n",
        "\n",
        "# Aceptación - Rechazo\n",
        "aceptados = y <= f(x)\n",
        "\n",
        "# Estimación del área\n",
        "area_estimada = np.sum(aceptados) / n\n",
        "\n",
        "# Imprimir el resultado\n",
        "print(f\"Área estimada: {area_estimada}\")\n",
        "\n",
        "# Graficar los puntos aceptados y rechazados\n",
        "plt.scatter(x[aceptados], y[aceptados], color='green', s=1, label=\"Aceptados\")\n",
        "plt.scatter(x[~aceptados], y[~aceptados], color='blue', s=1, label=\"Rechazados\")\n",
        "plt.plot(np.linspace(0, 1, 1000), f(np.linspace(0, 1, 1000)), color=\"black\", label=\"f(x) = x^2\")\n",
        "plt.legend()\n",
        "plt.title(\"Método de aceptación-rechazo\")\n",
        "plt.show()\n"
      ]
    },
    {
      "cell_type": "markdown",
      "metadata": {
        "id": "i-U86aCEz9fp"
      },
      "source": [
        "### **2.2 Se requiere obtener una muestra de tamaño 1000 de la distribución semicircular en $\\left[0,1\\right]$, y a partir de ella, estimar la media y la varianza de esta distribución.**"
      ]
    },
    {
      "cell_type": "code",
      "execution_count": null,
      "metadata": {
        "id": "0L22DGCwCLqs"
      },
      "outputs": [],
      "source": [
        "# Tamaño de la muestra\n",
        "n = 1000\n",
        "\n",
        "# Función objetivo (proporcional a la densidad)\n",
        "def f(x):\n",
        "    return np.sqrt(x*(1-x))\n",
        "\n",
        "# Constante de normalización\n",
        "M = 0.5  # Máximo de f(x) en [0,1]\n",
        "\n",
        "# Generamos las muestras por aceptación-rechazo\n",
        "muestras = []\n",
        "while len(muestras) < n:\n",
        "    x = np.random.uniform(0, 1)\n",
        "    u = np.random.uniform(0, M)\n",
        "\n",
        "    if u <= f(x):\n",
        "        muestras.append(x)\n",
        "\n",
        "muestras = np.array(muestras)\n",
        "\n",
        "print(muestras[:10])"
      ]
    },
    {
      "cell_type": "code",
      "execution_count": null,
      "metadata": {
        "id": "sXbGP50SG82w",
        "collapsed": true,
        "colab": {
          "base_uri": "https://localhost:8080/",
          "height": 472
        },
        "outputId": "df755edb-e2d0-43db-b3af-ee29aa81fdf9"
      },
      "outputs": [
        {
          "output_type": "display_data",
          "data": {
            "text/plain": [
              "<Figure size 640x480 with 1 Axes>"
            ],
            "image/png": "[encoded data removed]"
          },
          "metadata": {}
        }
      ],
      "source": [
        "# Graficar la distribución\n",
        "plt.hist(muestras, bins=50, density=True, color='lightblue', edgecolor='black', alpha=0.7, label='Histograma')\n",
        "x = np.linspace(0, 1, 500)\n",
        "plt.plot(x, 8/np.pi*f(x), 'r-', lw=2, label='Función semicircular')\n",
        "plt.title('Distribución semicircular')\n",
        "plt.xlabel('x')\n",
        "plt.ylabel('Densidad')\n",
        "plt.legend()\n",
        "plt.show()"
      ]
    },
    {
      "cell_type": "markdown",
      "metadata": {
        "id": "LQQZroXaK5TE"
      },
      "source": [
        "Estimemos la media y la varianza de esta distribución:"
      ]
    },
    {
      "cell_type": "code",
      "execution_count": null,
      "metadata": {
        "id": "w1PCmEi4K4pP"
      },
      "outputs": [],
      "source": [
        "Media=np.mean(muestras)\n",
        "Varianza=np.var(muestras)\n",
        "print(\"La media es: \", Media)\n",
        "print(\"La varianza es: \", Varianza)"
      ]
    },
    {
      "cell_type": "markdown",
      "metadata": {
        "id": "VHcmLIPKU9EU"
      },
      "source": [
        "### **2.3 Sea $P(x)=3e^{-\\frac{x^2}{2}} + e^{-\\frac{(x-4)^2}{2}}$ la distribución de la cual queremos muestrear para estimar: $E_P\\left[X\\right]$ y $E_P\\left[\\sin\\right]$ . Tengamos en cuenta que esta es una distribución no normalizada con una constante de normalización $Z$ que podemos calcular, pero dejémosla tal como está. ($Z\\approx 10.0261955464$). Con una muestra de tamaño un millón, estime las esperanzas solicitadas.**\n",
        "\n",
        "\n",
        "\n"
      ]
    },
    {
      "cell_type": "code",
      "execution_count": null,
      "metadata": {
        "id": "0ky31kq9U8k2"
      },
      "outputs": [],
      "source": [
        "# Función objetivo\n",
        "def P(x):\n",
        "    return 3 * np.exp(-x*x/2) + np.exp(-(x - 4)**2/2)\n"
      ]
    },
    {
      "cell_type": "code",
      "execution_count": null,
      "metadata": {
        "id": "ABfq9gb5XrTv"
      },
      "outputs": [],
      "source": [
        "x_vals = np.linspace(-10, 10, 1000)\n",
        "y_vals = P(x_vals)\n",
        "plt.figure(1)\n",
        "plt.plot(x_vals, y_vals, 'r', label='P(x)')\n",
        "plt.legend(loc='upper right', shadow=True)\n",
        "plt.show()"
      ]
    },
    {
      "cell_type": "markdown",
      "metadata": {
        "id": "p9TtBGU2ZzK-"
      },
      "source": [
        "Una forma alternativa de mayorar la función de la cual se quieren extraer muestras es utilizando distribuciones conocidas, por ejemplo, distribución normal. En este caso elegimos una distibución proporcional a $\\mathcal{N}\\left(1,4^2\\right)$."
      ]
    },
    {
      "cell_type": "code",
      "execution_count": null,
      "metadata": {
        "id": "uH0Kr548a4kb"
      },
      "outputs": [],
      "source": [
        "def Q(x):\n",
        "  return np.exp(-(x-1)**2/32)"
      ]
    },
    {
      "cell_type": "code",
      "execution_count": null,
      "metadata": {
        "id": "fXtvbiOQbWd-"
      },
      "outputs": [],
      "source": [
        "plt.plot(x_vals, y_vals, 'r', label='P(x)')\n",
        "plt.plot(x_vals, Q(x_vals), 'g', label='Q(x)')\n",
        "plt.legend(loc='upper right', shadow=True)\n",
        "plt.show()"
      ]
    },
    {
      "cell_type": "markdown",
      "source": [
        "Como vemos, la función propuesta para mayorar no es suficiente, por lo que podemos multilicarla por un factor que permita que la función propuesta efectivamente mayore a $P$."
      ],
      "metadata": {
        "id": "U74WO7fv1vIR"
      }
    },
    {
      "cell_type": "code",
      "source": [
        "def cQ(x):\n",
        "  return 4*np.exp(-(x-1)**2/32)\n",
        "\n",
        "plt.plot(x_vals, y_vals, 'r', label='P(x)')\n",
        "plt.plot(x_vals, cQ(x_vals), 'g', label='4Q(x)')\n",
        "plt.legend(loc='upper right', shadow=True)\n",
        "plt.show()"
      ],
      "metadata": {
        "id": "fKC2vIqZ2CX8"
      },
      "execution_count": null,
      "outputs": []
    },
    {
      "cell_type": "code",
      "source": [
        "# Tamaño de la muestra\n",
        "n = 10**6\n",
        "\n",
        "# Generamos las muestras por aceptación-rechazo\n",
        "muestras = []\n",
        "while len(muestras) < n:\n",
        "    x = np.random.normal(1,4)\n",
        "    P_x=P(x)\n",
        "    u = np.random.uniform(0, cQ(x))\n",
        "\n",
        "    if u <= P_x:\n",
        "        muestras.append(x)\n",
        "\n",
        "muestras = np.array(muestras)"
      ],
      "metadata": {
        "id": "HItICH122Zoy"
      },
      "execution_count": null,
      "outputs": []
    },
    {
      "cell_type": "code",
      "source": [
        "Z=10.0261955464\n",
        "plt.hist(muestras, bins=50, histtype='bar', facecolor='g', alpha=0.75, density=True, label='bins')\n",
        "plt.plot(x_vals, y_vals/Z, 'r', label='P(x)')\n",
        "plt.title('Muetreo por Aceptación - Rechazo')\n",
        "plt.legend(loc='upper right', shadow=True)\n",
        "plt.show()"
      ],
      "metadata": {
        "id": "jil2EvII263B"
      },
      "execution_count": null,
      "outputs": []
    },
    {
      "cell_type": "markdown",
      "source": [
        "Estimemos las esperanzas solicitadas:"
      ],
      "metadata": {
        "id": "NK7Rade_3spy"
      }
    },
    {
      "cell_type": "code",
      "source": [
        "def fx(x):\n",
        "  return x\n",
        "\n",
        "def gx(x):\n",
        "  return np.sin(x)\n",
        "\n",
        "E_fx = np.mean(fx(muestras))*Z\n",
        "E_gx = np.mean(gx(muestras))*Z\n",
        "\n",
        "print(f'E[f] = {E_fx:.5f}')\n",
        "print(f'E[g)] = {E_gx:.5f}')\n"
      ],
      "metadata": {
        "id": "RCP3uGqf3rYw",
        "colab": {
          "base_uri": "https://localhost:8080/"
        },
        "outputId": "7f0f6cae-45c2-47ea-f588-09f9e73f147d"
      },
      "execution_count": null,
      "outputs": [
        {
          "output_type": "stream",
          "name": "stdout",
          "text": [
            "E[f] = 10.05160\n",
            "E[g)] = -1.14629\n"
          ]
        }
      ]
    },
    {
      "cell_type": "markdown",
      "source": [
        "Sabiendo que los valores reales son $E_P\\left[X\\right]\\approx 10.02686647165$ y $E_P\\left[\\sin\\right]\\approx -1.15088010640$, podemos calcular los errores de estimación:"
      ],
      "metadata": {
        "id": "n4nt55q5LUWd"
      }
    },
    {
      "cell_type": "code",
      "source": [
        "true_expected_fx = 10.02686647165\n",
        "true_expected_gx = -1.15088010640\n",
        "print('E[f(x)] = %.5f, Error = %.5f' % (E_fx, abs(E_fx - true_expected_fx)))\n",
        "print('E[g(x)] = %.5f, Error = %.5f' % (E_gx, abs(E_gx - true_expected_gx)))"
      ],
      "metadata": {
        "id": "QW85DU99L6_w",
        "colab": {
          "base_uri": "https://localhost:8080/"
        },
        "outputId": "4d4f0ade-b583-4d71-a014-5dae6dff977e"
      },
      "execution_count": null,
      "outputs": [
        {
          "output_type": "stream",
          "name": "stdout",
          "text": [
            "E[f(x)] = 10.05160, Error = 0.02474\n",
            "E[g(x)] = -1.14629, Error = 0.00459\n"
          ]
        }
      ]
    },
    {
      "cell_type": "markdown",
      "source": [
        "### **2.4 Repetir el ítem anterior, utilizando como función mayorante la densidad de una distribución uniforme.**"
      ],
      "metadata": {
        "id": "qZ5znKaZ68IF"
      }
    },
    {
      "cell_type": "code",
      "source": [
        "#########\n",
        "# TO DO #\n",
        "#########"
      ],
      "metadata": {
        "id": "4CzdWyPT7RB5"
      },
      "execution_count": null,
      "outputs": []
    },
    {
      "cell_type": "markdown",
      "metadata": {
        "id": "kJDoN2q1MGNw"
      },
      "source": [
        "### **2.5 Se requiere ahora obtener una muestra de tamaño 1000 de la distribución triangular:**\n",
        "\n",
        "$$f(\\theta)\\propto \\begin{cases}\n",
        "\\theta & 0< \\theta \\leq 1/2\\\\\n",
        "1-\\theta & 1/2<\\theta < 1\n",
        "\\end{cases}$$\n",
        "\n",
        "y estimar su esperanza y varianza."
      ]
    },
    {
      "cell_type": "code",
      "execution_count": null,
      "metadata": {
        "id": "M-ciZz1TMEsw"
      },
      "outputs": [],
      "source": [
        "#########\n",
        "# TO DO #\n",
        "#########"
      ]
    },
    {
      "cell_type": "markdown",
      "source": [
        "## **3. Muestreo por importancia.**\n",
        "\n",
        "El **muestreo por importancia** es una técnica estadística utilizada para estimar valores esperados de una función $f(x)$ bajo una distribución de probabilidad $p(x)$ cuando no es posible muestrear directamente de $p(x)$, pero sí se puede muestrear de otra distribución llamada **distribución propuesta** $q(x)$.\n",
        "\n",
        "La idea básica es *ajustar* los valores muestreados de la distribución propuesta, ponderándolos con un **peso de importancia** para corregir la diferencia entre la distribución propuesta y la distribución objetivo.\n",
        "\n",
        "Matemáticamente, el valor esperado de una función $f(x)$ con respecto a $p(x)$ se puede escribir como:\n",
        "\n",
        "$$\\mathbb{E}_{p}[f] = \\int f(x) p(x) \\, dx$$\n",
        "\n",
        "Sin embargo, si no podemos muestrear directamente de $p(x)$, podemos muestrear de $q(x)$ (la distribución propuesta) y corregir utilizando un peso que depende de la relación entre $p(x)$ y $q(x)$.\n",
        "\n",
        "La fórmula usando muestreo por importancia es:\n",
        "\n",
        "$$\\mathbb{E}_{p}[f] = \\int f(x) \\frac{p(x)}{q(x)} q(x) \\, dx$$\n",
        "\n",
        "Aquí, $\\frac{p(x)}{q(x)}$ es el **peso de importancia** que ajusta los valores muestreados de $q(x)$ para estimar correctamente la expectativa bajo $p(x)$.\n"
      ],
      "metadata": {
        "id": "fdhu0J_eDExW"
      }
    },
    {
      "cell_type": "markdown",
      "source": [
        "### **3.1 Retomemos lo hecho en 2.3, utilizando como distribución propuesta $q(x)$ la distribución uniforme en $[-4,8].$**"
      ],
      "metadata": {
        "id": "F8SA-1whHWhJ"
      }
    },
    {
      "cell_type": "markdown",
      "source": [
        "Tomemos, entonces, la función $q(x)=\\cfrac{1}{12} \\forall x\\in [-4, 8]$\n"
      ],
      "metadata": {
        "id": "aNxzSNNfIJmg"
      }
    },
    {
      "cell_type": "code",
      "source": [
        "a=-4\n",
        "b=8\n",
        "dens_unif=1/(b-a)\n",
        "x_vals = np.linspace(-10, 10, 1000)\n",
        "y_vals = P(x_vals)\n",
        "\n",
        "plt.plot(x_vals, y_vals, 'r', label='P(x)')\n",
        "plt.plot(x_vals, fx(x_vals), 'b', label='x')\n",
        "plt.plot([-10, a, a, b, b, 10], [0, 0, dens_unif, dens_unif, 0, 0], 'g', label='q(x)')\n",
        "plt.plot(x_vals, np.sin(x_vals), label='sin(x)')\n",
        "plt.xlim(-10, 10)\n",
        "plt.ylim(-1, 3.5)\n",
        "plt.legend(loc='upper right', shadow=True)\n",
        "plt.show()"
      ],
      "metadata": {
        "id": "sPf-QIVWI36P"
      },
      "execution_count": null,
      "outputs": []
    },
    {
      "cell_type": "code",
      "source": [
        "E_fx = 0.\n",
        "E_gx = 0.\n",
        "n= 10**6\n",
        "den = 0.\n",
        "for i in range(n):\n",
        "    x = np.random.uniform(a, b)\n",
        "    importance = P(x) / dens_unif\n",
        "    den += importance\n",
        "    E_fx += importance * fx(x)\n",
        "    E_gx += importance * gx(x)\n",
        "\n",
        "E_fx /= den\n",
        "E_gx /= den\n",
        "E_fx *= Z\n",
        "E_gx *= Z\n",
        "print('E[f(x)] = %.5f, Error = %.5f' % (E_fx, abs(E_fx- true_expected_fx)))\n",
        "print('E[g(x)] = %.5f, Error = %.5f' % (E_gx, abs(E_gx - true_expected_gx)))"
      ],
      "metadata": {
        "id": "X1Ps7r5eJwTC",
        "colab": {
          "base_uri": "https://localhost:8080/"
        },
        "outputId": "ca485d3c-5eb9-4616-8572-6aad09f3d4ae"
      },
      "execution_count": null,
      "outputs": [
        {
          "output_type": "stream",
          "name": "stdout",
          "text": [
            "E[f(x)] = 9.99508, Error = 0.03178\n",
            "E[g(x)] = -1.15559, Error = 0.00471\n"
          ]
        }
      ]
    },
    {
      "cell_type": "markdown",
      "source": [
        "### **3.2 Probar con otros valores de parámetros con el objetivo de mejorar las estimaciones.**"
      ],
      "metadata": {
        "id": "Hho54IU8NRDM"
      }
    },
    {
      "cell_type": "code",
      "source": [
        "#########\n",
        "# TO DO #\n",
        "#########"
      ],
      "metadata": {
        "id": "MIWL3sKOKzpC"
      },
      "execution_count": null,
      "outputs": []
    },
    {
      "cell_type": "markdown",
      "source": [
        "### **3.3 Proponer otras distribuciones para $q(x)$ que tengan lógica en este problema.**"
      ],
      "metadata": {
        "id": "-cf8jzmwIJgU"
      }
    },
    {
      "cell_type": "code",
      "source": [
        "#########\n",
        "# TO DO #\n",
        "#########"
      ],
      "metadata": {
        "id": "RznvXIarPtTv"
      },
      "execution_count": null,
      "outputs": []
    },
    {
      "cell_type": "markdown",
      "source": [
        "## **4. Muestreo y Remuestreo.**\n",
        "\n",
        "El **Muestreo por Importancia** y el **Remuestreo** son técnicas clave en simulaciones Monte Carlo, donde se busca mejorar la eficiencia de las estimaciones probabilísticas, especialmente en situaciones donde hay eventos raros o las distribuciones son difíciles de muestrear directamente.\n"
      ],
      "metadata": {
        "id": "3qpYIi_0QJfV"
      }
    },
    {
      "cell_type": "markdown",
      "source": [
        "### **4.1 Supongamos que queremos calcular la esperanza $E\\left[f\\right]$, donde $X\\sim \\mathcal{N}(0,1)$, pero la función $f(x)$ toma valores muy altos en ciertas regiones, haciendo difícil estimar la integral usando muestreo directo. Tomemos, por ejemplo: $f(x)=e^{-x^2/2}$.**\n"
      ],
      "metadata": {
        "id": "yHGLjF2nZ54b"
      }
    },
    {
      "cell_type": "code",
      "source": [
        "def f(x):\n",
        "    return np.exp(-x**2 / 2)"
      ],
      "metadata": {
        "id": "0Jcxe6mIcB3l"
      },
      "execution_count": null,
      "outputs": []
    },
    {
      "cell_type": "markdown",
      "source": [
        "* **Función Objetivo:** Normal estandar.\n",
        "* **Distribución Propuesta:** Normal con media 2 y desvío 1."
      ],
      "metadata": {
        "id": "OWnq-STFdB-G"
      }
    },
    {
      "cell_type": "code",
      "source": [
        "def dist_prop(n):\n",
        "    return np.random.normal(2, 1, size=n)"
      ],
      "metadata": {
        "id": "ssT5zkPhdcV2"
      },
      "execution_count": null,
      "outputs": []
    },
    {
      "cell_type": "markdown",
      "source": [
        "* **Calculemos el peso (importancia) que no es más que la razón de densidades entre la distribución objetivo y la propuesta.**"
      ],
      "metadata": {
        "id": "0dP6sFTid2mX"
      }
    },
    {
      "cell_type": "code",
      "source": [
        "def peso(x):\n",
        "    # Normal estándar: N(0, 1)\n",
        "    dens_est = (1 / np.sqrt(2 * np.pi)) * np.exp(-x**2 / 2)\n",
        "    # Propuesta: N(2, 1)\n",
        "    dens_prop= (1 / np.sqrt(2 * np.pi)) * np.exp(-(x - 2)**2 / 2)\n",
        "    return dens_est / dens_prop"
      ],
      "metadata": {
        "id": "GmU2NtYBeJ0J"
      },
      "execution_count": null,
      "outputs": []
    },
    {
      "cell_type": "markdown",
      "source": [
        "* **Remuestreo (opcional, dependiendo de si algunos pesos son demasiado grandes)**\n",
        "\n",
        "Ocasionalmente, los pesos en muestreo por importancia pueden volverse muy heterogeneos, lo que podría inducir un sesgo en la estimación. El remuestreo puede ayudar a suavizar estas oscilaciones."
      ],
      "metadata": {
        "id": "PzA583NlS34J"
      }
    },
    {
      "cell_type": "code",
      "source": [
        "def remuestreo(pesos, muestra):\n",
        "    indices_remuestreo = np.random.choice(np.arange(len(muestra)), size=len(muestra), p=pesos/np.sum(pesos))\n",
        "    return muestra[indices_remuestreo]\n"
      ],
      "metadata": {
        "id": "X17UsTycTl4H"
      },
      "execution_count": null,
      "outputs": []
    },
    {
      "cell_type": "markdown",
      "source": [
        "* **Obtengamos ahora una muestra por importancia y la estimación:**"
      ],
      "metadata": {
        "id": "bJF0mIrGUUJe"
      }
    },
    {
      "cell_type": "code",
      "source": [
        "n=10**4\n",
        "muestra=dist_prop(n)\n",
        "pesos=peso(muestra)\n",
        "estim = np.mean(f(muestra) * pesos)"
      ],
      "metadata": {
        "id": "m4mbZQxkUmpP"
      },
      "execution_count": null,
      "outputs": []
    },
    {
      "cell_type": "markdown",
      "source": [
        "* **Remuestreo y estimación:**"
      ],
      "metadata": {
        "id": "KP3Zt0ByVg1l"
      }
    },
    {
      "cell_type": "code",
      "source": [
        "remuestra = remuestreo(pesos, muestra)\n",
        "estim_rem = np.mean(f(remuestra))"
      ],
      "metadata": {
        "id": "4eKX3e8dVk5I"
      },
      "execution_count": null,
      "outputs": []
    },
    {
      "cell_type": "code",
      "source": [
        "print(\"Estimación con Muestreo por Importancia:\", estim)\n",
        "print(\"Estimación con Remuestreo:\", estim_rem)"
      ],
      "metadata": {
        "id": "EIG0mxv8WkIj"
      },
      "execution_count": null,
      "outputs": []
    },
    {
      "cell_type": "markdown",
      "source": [
        "* **Visualización de las muestras antes y después del remuestreo.**"
      ],
      "metadata": {
        "id": "XHgOcBMcXAkb"
      }
    },
    {
      "cell_type": "code",
      "source": [
        "plt.figure(figsize=(12, 6))\n",
        "\n",
        "plt.subplot(1, 2, 1)\n",
        "plt.hist(muestra, bins=50, alpha=0.7, label=\"Muestras originales\", density=True)\n",
        "plt.title(\"Muestras de la distribución propuesta\")\n",
        "plt.legend()\n",
        "\n",
        "plt.subplot(1, 2, 2)\n",
        "plt.hist(remuestra, bins=50, alpha=0.7, label=\"Muestras re-muestreadas\", density=True)\n",
        "plt.title(\"Muestras después de Remuestreo\")\n",
        "plt.legend()\n",
        "\n",
        "plt.show()"
      ],
      "metadata": {
        "id": "hSAMJIbaXQQN"
      },
      "execution_count": null,
      "outputs": []
    }
  ],
  "metadata": {
    "colab": {
      "provenance": []
    },
    "kernelspec": {
      "display_name": "Python 3",
      "name": "python3"
    },
    "language_info": {
      "name": "python"
    }
  },
  "nbformat": 4,
  "nbformat_minor": 0
}