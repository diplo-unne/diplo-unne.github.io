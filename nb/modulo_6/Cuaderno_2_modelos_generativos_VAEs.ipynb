{
  "nbformat": 4,
  "nbformat_minor": 0,
  "metadata": {
    "colab": {
      "provenance": [],
      "gpuType": "T4"
    },
    "kernelspec": {
      "name": "python3",
      "display_name": "Python 3"
    },
    "language_info": {
      "name": "python"
    },
    "accelerator": "GPU"
  },
  "cells": [
    {
      "cell_type": "markdown",
      "source": [
        "# Modelos Generativos basados en Redes Neuronales Profundas\n",
        "\n",
        "La siguiente figura resume los 4 tipos de modelos generativos basados en redes neuronales:\n",
        "\n",
        "<p align=\"center\">\n",
        "    <img src=\"https://drive.google.com/uc?id=1aKbPicYt534xD1xM4CIVLKPrbCEOvKor\" width=\"600\" />\n",
        "</p>\n",
        "\n",
        "Todos estos modelos establecen un espacio latente representado por una variable oculta $z$, a partir del cual se pueden generar nuevas instancias de la variable observable $x$, como ser imágenes, por ejemplo.\n",
        "\n",
        "Estas arquitecturas generalizan el concepto de las mezclas gaussianas a un número infinito de componentes, donde la variable latente $z$\n",
        "asume valores continuos en lugar de discretos, permitiendo una representación más flexible y rica de los datos.\n",
        "\n",
        "En este cuaderno, nos centraremos específicamente en los **Autoencoders Variacionales (VAEs)**. De manera análoga a los Modelos de Mezclas Gaussianas (GMMs), los VAEs también buscan maximizar el ELBO o Evidence Lower BOund.\n",
        "\n",
        "### Dataset\n",
        "\n",
        "Continuamos trabajando con el dataset FashionMNIST, asi podemos analizar comparativamente el desempeño de los diferentes modelos generativos.  "
      ],
      "metadata": {
        "id": "bbFuzaZm1lWk"
      }
    },
    {
      "cell_type": "code",
      "execution_count": null,
      "metadata": {
        "id": "ac61362d",
        "cellView": "form",
        "colab": {
          "base_uri": "https://localhost:8080/",
          "height": 36
        },
        "outputId": "7b6c257f-cae9-4156-816d-dbaeb88fbba4"
      },
      "outputs": [
        {
          "output_type": "execute_result",
          "data": {
            "text/plain": [
              "'cuda'"
            ],
            "application/vnd.google.colaboratory.intrinsic+json": {
              "type": "string"
            }
          },
          "metadata": {},
          "execution_count": 2
        }
      ],
      "source": [
        "#@title Inicializacion\n",
        "\n",
        "\n",
        "# Importa los módulos\n",
        "import math\n",
        "import numpy as np\n",
        "import torch\n",
        "import torch.nn as nn\n",
        "import torch.nn.functional as F\n",
        "import torch.optim as optim\n",
        "import torchvision\n",
        "\n",
        "from torch.autograd import Variable\n",
        "from torch.optim.lr_scheduler import ReduceLROnPlateau\n",
        "from torch.utils.data import DataLoader\n",
        "from torchvision import transforms, utils\n",
        "from torchvision.datasets import MNIST\n",
        "\n",
        "import matplotlib.pyplot as plt\n",
        "from tqdm import tqdm\n",
        "\n",
        "\n",
        "# Definicion de variables globales\n",
        "BATCH_SIZE = 20     # Tamaño de lote\n",
        "IMG_SIZE = 32       # Tamaño de la imagen\n",
        "C_IN = 1            # Numero de canales de entrada\n",
        "\n",
        "DEVICE = 'cuda' if torch.cuda.is_available() else 'cpu'\n",
        "Tensor = torch.cuda.FloatTensor if torch.cuda.is_available() else torch.FloatTensor\n",
        "\n",
        "DEVICE"
      ]
    },
    {
      "cell_type": "code",
      "source": [
        "#@title Carga y preprocesamiento de los datos\n",
        "\n",
        "# Define una función para cargar y transformar los datos de entrada\n",
        "def load_transformed_dataset():\n",
        "    data_transforms = [\n",
        "        transforms.Resize((IMG_SIZE, IMG_SIZE)),    # Cambia el tamaño de las imágenes\n",
        "        transforms.RandomHorizontalFlip(),          # Aplica un volteo horizontal aleatorio a las imágenes, lo que ayuda a aumentar la variedad de datos para mejorar la generalización del modelo.\n",
        "        transforms.ToTensor(),                      # Convierte las imagenes a tensores de PyTorch, escalando automáticamente los valores de píxeles a un rango [0, 1]\n",
        "        transforms.Lambda(lambda t: (t * 2) - 1)    # Aplica una transformación para escalar los valores de los tensores de [0, 1] a [-1, 1]\n",
        "    ]\n",
        "\n",
        "    data_transform = transforms.Compose(data_transforms) # Combina las transformaciones definidas en data_transforms en un único objeto que se aplicará a las imágenes de forma secuencial.\n",
        "\n",
        "    # Descarga el conjunto de datos de entrenamiento (train=True) de FashionMNIST (si no está disponible localmente) en el directorio actual (root=\".\"), aplicando las transformaciones definidas.\n",
        "    data = torchvision.datasets.FashionMNIST(root=\".\", download=True, train=True, transform=data_transform)\n",
        "    return data\n",
        "\n",
        "# Define una función para mostrar las imágenes\n",
        "def plot_images(images, title=None):\n",
        "    plt.figure(figsize=(16, 3))\n",
        "    plt.imshow(torch.cat([\n",
        "        torch.cat([i for i in images], dim=-1)\n",
        "    ], dim=-2).permute(1, 2, 0).cpu())\n",
        "    if title:\n",
        "      plt.title(title)\n",
        "    plt.show()\n",
        "\n",
        "\n",
        "data = load_transformed_dataset()\n",
        "\n",
        "# Crea un generador que itera sobre el conjunto de datos para particinarlos en lotes\n",
        "dataloader = DataLoader(data,\n",
        "                        batch_size=BATCH_SIZE, # Tamaño de cada lote\n",
        "                        shuffle=True,          # Mezcla aleatoriamente los datos antes de iterarlos\n",
        "                        drop_last=True         # Descarta el último lote si no tiene el tamaño completo\n",
        "                        )\n",
        "batch_x, batch_y = next(iter(dataloader))\n",
        "plot_images(batch_x[:8])"
      ],
      "metadata": {
        "colab": {
          "base_uri": "https://localhost:8080/",
          "height": 565
        },
        "id": "-0J54S8g9qLv",
        "outputId": "fd69998c-cba5-4bf7-f8dd-548fbe402e54"
      },
      "execution_count": null,
      "outputs": [
        {
          "output_type": "stream",
          "name": "stdout",
          "text": [
            "Downloading http://fashion-mnist.s3-website.eu-central-1.amazonaws.com/train-images-idx3-ubyte.gz\n",
            "Downloading http://fashion-mnist.s3-website.eu-central-1.amazonaws.com/train-images-idx3-ubyte.gz to ./FashionMNIST/raw/train-images-idx3-ubyte.gz\n"
          ]
        },
        {
          "output_type": "stream",
          "name": "stderr",
          "text": [
            "100%|██████████| 26.4M/26.4M [00:02<00:00, 11.6MB/s]\n"
          ]
        },
        {
          "output_type": "stream",
          "name": "stdout",
          "text": [
            "Extracting ./FashionMNIST/raw/train-images-idx3-ubyte.gz to ./FashionMNIST/raw\n",
            "\n",
            "Downloading http://fashion-mnist.s3-website.eu-central-1.amazonaws.com/train-labels-idx1-ubyte.gz\n",
            "Downloading http://fashion-mnist.s3-website.eu-central-1.amazonaws.com/train-labels-idx1-ubyte.gz to ./FashionMNIST/raw/train-labels-idx1-ubyte.gz\n"
          ]
        },
        {
          "output_type": "stream",
          "name": "stderr",
          "text": [
            "100%|██████████| 29.5k/29.5k [00:00<00:00, 198kB/s]\n"
          ]
        },
        {
          "output_type": "stream",
          "name": "stdout",
          "text": [
            "Extracting ./FashionMNIST/raw/train-labels-idx1-ubyte.gz to ./FashionMNIST/raw\n",
            "\n",
            "Downloading http://fashion-mnist.s3-website.eu-central-1.amazonaws.com/t10k-images-idx3-ubyte.gz\n",
            "Downloading http://fashion-mnist.s3-website.eu-central-1.amazonaws.com/t10k-images-idx3-ubyte.gz to ./FashionMNIST/raw/t10k-images-idx3-ubyte.gz\n"
          ]
        },
        {
          "output_type": "stream",
          "name": "stderr",
          "text": [
            "100%|██████████| 4.42M/4.42M [00:01<00:00, 3.74MB/s]\n"
          ]
        },
        {
          "output_type": "stream",
          "name": "stdout",
          "text": [
            "Extracting ./FashionMNIST/raw/t10k-images-idx3-ubyte.gz to ./FashionMNIST/raw\n",
            "\n",
            "Downloading http://fashion-mnist.s3-website.eu-central-1.amazonaws.com/t10k-labels-idx1-ubyte.gz\n",
            "Downloading http://fashion-mnist.s3-website.eu-central-1.amazonaws.com/t10k-labels-idx1-ubyte.gz to ./FashionMNIST/raw/t10k-labels-idx1-ubyte.gz\n"
          ]
        },
        {
          "output_type": "stream",
          "name": "stderr",
          "text": [
            "100%|██████████| 5.15k/5.15k [00:00<00:00, 5.23MB/s]\n"
          ]
        },
        {
          "output_type": "stream",
          "name": "stdout",
          "text": [
            "Extracting ./FashionMNIST/raw/t10k-labels-idx1-ubyte.gz to ./FashionMNIST/raw\n",
            "\n"
          ]
        },
        {
          "output_type": "display_data",
          "data": {
            "text/plain": [
              "<Figure size 1600x300 with 1 Axes>"
            ],
            "image/png": "[encoded data removed]"
          },
          "metadata": {}
        }
      ]
    },
    {
      "cell_type": "markdown",
      "source": [
        "## Autoencoder Variacional (VAE)\n",
        "\n",
        "Un VAE consta de dos Redes Neuronales: un codificador (encoder) y un decodificador (decoder). El codificador transforma los datos de entrada en un espacio latente $z$, donde los datos están representados por distribuciones de probabilidad. A partir de muestras tomadas de este espacio latente, el decodificador genera los datos de salida."
      ],
      "metadata": {
        "id": "eqSUMX8YKeOr"
      }
    },
    {
      "cell_type": "code",
      "source": [
        "#@title Definición del Modelo\n",
        "\n",
        "# Clase que define el Codificador Variacional (Variational Encoder)\n",
        "class VariationalEncoder(nn.Module):\n",
        "    def __init__(self, input_dim, hidden_dim, latent_dim):\n",
        "        super(VariationalEncoder, self).__init__()\n",
        "        self.input_dim = input_dim                              # Dimensión de entrada\n",
        "        self.hidden_dim = hidden_dim                            # Dimensión de la capa oculta\n",
        "        self.latent_dim = latent_dim                            # Dimensión del espacio latente\n",
        "\n",
        "        # Definición de las capas del codificador\n",
        "        self.fc1 = nn.Sequential(\n",
        "            nn.Linear(self.input_dim, self.hidden_dim),         # Capa lineal que transforma la entrada a la dimensión oculta\n",
        "            nn.BatchNorm1d(hidden_dim),                         # Normalización por lotes para estabilizar el entrenamiento\n",
        "            nn.ReLU(),                                          # Función de activación ReLU\n",
        "            nn.Linear(self.hidden_dim, self.hidden_dim // 2),   # Segunda capa lineal, reduciendo la dimensionalidad\n",
        "            nn.BatchNorm1d(self.hidden_dim // 2),               # Normalización por lotes para esta capa\n",
        "            nn.ReLU(),  # Función de activación ReLU\n",
        "        )\n",
        "\n",
        "        # Capas lineales para calcular la media y la varianza logarítmica del espacio latente\n",
        "        self.fc2_mean = nn.Linear(hidden_dim // 2, latent_dim)    # Media\n",
        "        self.fc2_logvar = nn.Linear(hidden_dim // 2, latent_dim)  # Varianza logarítmica\n",
        "\n",
        "    # Método forward para el paso hacia adelante\n",
        "    def forward(self, x):\n",
        "        h = self.fc1(x)  # Pasa la entrada por las capas iniciales\n",
        "\n",
        "        mean = self.fc2_mean(h)         # Calcula la media del espacio latente\n",
        "        logvar = self.fc2_logvar(h)     # Calcula la varianza logarítmica\n",
        "\n",
        "        # Reparametrización: mu + sigma * epsilon, donde epsilon es ruido aleatorio\n",
        "\n",
        "        std = torch.exp(0.5 * logvar)  # Calcula la desviación estándar\n",
        "        eps = torch.randn_like(std)    # Genera ruido aleatorio del mismo tamaño que std\n",
        "        z = mean + eps * std           # Vector latente reparametrizado\n",
        "        # Nota: Sin el truco de reparametrización, z dependería directamente de una operación de muestreo no diferenciable (como torch.randn)\n",
        "        return z, mean, logvar         # Devuelve el vector latente y los parámetros del espacio latente\n",
        "\n",
        "\n",
        "# Clase que define el Decodificador\n",
        "class Decoder(nn.Module):\n",
        "    def __init__(self, latent_dim, hidden_dim, output_dim):\n",
        "        super(Decoder, self).__init__()\n",
        "\n",
        "        self.latent_dim = latent_dim  # Dimensión del espacio latente\n",
        "        self.hidden_dim = hidden_dim  # Dimensión de la capa oculta\n",
        "        self.output_dim = output_dim  # Dimensión de salida (reconstrucción)\n",
        "\n",
        "        # Definición de las capas del decodificador\n",
        "        self.fc = nn.Sequential(\n",
        "            nn.Linear(latent_dim, hidden_dim // 2),  # Primera capa lineal\n",
        "            nn.ReLU(),  # Activación ReLU\n",
        "            nn.Linear(hidden_dim // 2, hidden_dim),  # Segunda capa lineal\n",
        "            nn.ReLU(),  # Activación ReLU\n",
        "            nn.Linear(hidden_dim, output_dim),  # Capa final que produce la salida reconstruida\n",
        "            nn.Tanh(),  # Activación Tanh para la salida (útil si los datos están normalizados entre -1 y 1)\n",
        "        )\n",
        "\n",
        "    # Método forward para el paso hacia adelante\n",
        "    def forward(self, z):\n",
        "        h = self.fc(z)  # Pasa el vector latente a través del decodificador\n",
        "        return h  # Devuelve la reconstrucción\n",
        "\n",
        "\n",
        "# Clase que define el Autoencoder Variacional (VAE)\n",
        "class VariationalAutoEncoder(nn.Module):\n",
        "    def __init__(self, input_dim, hidden_dim, latent_dim):\n",
        "        super(VariationalAutoEncoder, self).__init__()\n",
        "        self.latent_dim = latent_dim  # Dimensión del espacio latente\n",
        "        self.encoder = VariationalEncoder(input_dim, hidden_dim, latent_dim)  # Codificador\n",
        "        self.decoder = Decoder(latent_dim, hidden_dim, input_dim)  # Decodificador\n",
        "\n",
        "    # Método forward para el paso hacia adelante del autoencoder\n",
        "    def forward(self, x):\n",
        "        z, _, _ = self.encoder(x)  # Obtiene el vector latente del codificador\n",
        "        return self.decoder(z)  # Decodifica el vector latente para reconstruir la entrada"
      ],
      "metadata": {
        "id": "PHJRdAtBFRHR",
        "cellView": "form"
      },
      "execution_count": null,
      "outputs": []
    },
    {
      "cell_type": "markdown",
      "source": [
        "### Entrenamiento de un VAE\n",
        "\n",
        "Para entrenar un modelo de VAE, nos gustaría maximizar la log-verosimilitud marginal $\\max_{w} \\log p(X \\mid w)$ de nuestro conjunto de datos (notese que aqui usamos $w$ en lugar de $\\theta$ para representar los parametros). Sin embargo, esto es computacionalmente muy complejo, por lo que en su lugar maximizamos la Cota Inferior Variacional (ELBO) o $\\mathcal{L}(w,q)$ con respecto a los parámetros $w$ y las distribuciones variacionales $q$.\n",
        "\n",
        "\n",
        "$$\\log p(X \\mid w) \\geq \\mathcal{L}(w, q)  $$\n",
        "\n",
        " $\\mathcal{L}(w,q)$ esta dada por:\n",
        "\n",
        "$$ \\mathcal{L}(w,q) = \\int q(z|x,\\phi) \\log p(x|z, w) dz\n",
        "- \\sum_{i=1}^N \\text{KL}(q(z|x,\\phi) \\mid\\mid p(z))  $$\n",
        "\n",
        "\n",
        "\n",
        "Recordemos que para el modelo GMM, el ELBO se optimizaba iterativamente mediante el algoritmo EM, alternando entre actualizar las distribuciones variacionales $q$ en el paso E y los parámetros $w$ del modelo en el paso M.\n",
        "\n",
        "En cambio en un VAE, $q$ y $w$ se obtienen mediante dos redes neuronales, denominadas encoder y decoder, respectivamente, que tienen parámetros independientes entre si y se entrenan de manera simultánea (en un solo paso) para maximizar $ \\mathcal{L}(w,q)$.\n",
        "\n",
        "El segundo término de $KL$ actúa como un regularizador, evitando que la distribución $q$ se desvíe demasiado de una distribución normal estándar, definida por $p(z)$.\n",
        "\n",
        "El primer termino de $\\mathcal{L}(w,q)$ mide la perdida de reconstrucción de los datos originales. El encoder $q(z|x,\\phi)$, con parámetros $\\phi$ toma un vector de datos $x$ y lo mapea a un espacio latente $z$. A su vez el decoder $p(x|z,w)$ con parámetros $w$,  toma un vector del espacio latente $z$ y lo mapea de vuelta al espacio de datos $x$.\n",
        "\n",
        "Esta perdida de recosntrucción es similar a un modelo de autoencoder simple, excepto que ahora definimos una distribución de probabilidad sobre el espacio latente, al imponer una distribución normal para el codificador.  \n",
        "\n",
        "\n",
        "![](https://github.com/hse-aml/bayesian-methods-for-ml/blob/master/week5/VAE.png?raw=1)\n",
        "\n",
        "Una elección típica para el encoder es una distribución gaussiana con una matriz de covarianza diagonal, cuyos parámetros de media y covarianza, $ m_j $ y $ s_j $, son proporcionados por las salidas de una red neuronal que toma $ x $ como entrada:\n",
        "\n",
        "$$\n",
        "q(z|x, \\phi) = \\prod_{j=1}^{M} \\mathcal{N}(z_j | m_j(x, \\phi), s_j(x, \\phi)).\n",
        "$$\n",
        "\n",
        "\n"
      ],
      "metadata": {
        "id": "7FGBgtrnxRy6"
      }
    },
    {
      "cell_type": "code",
      "source": [
        "#@title Entrenamiento\n",
        "\n",
        "# Clase para manejar el Autoencoder Variacional (VAE)\n",
        "class VAEManager():\n",
        "    def __init__(self, input_dim, hidden_dim, latent_dim, lr):\n",
        "        # Inicializa el modelo VAE y lo mueve al dispositivo adecuado (CPU/GPU)\n",
        "        self.vae = VariationalAutoEncoder(input_dim, hidden_dim, latent_dim).to(DEVICE)\n",
        "\n",
        "        # Define el optimizador Adam para entrenar el modelo\n",
        "        self.optimizer = torch.optim.Adam(self.vae.parameters(), lr=lr)\n",
        "\n",
        "        # Programa de reducción del learning rate basado en la pérdida\n",
        "        self.scheduler = ReduceLROnPlateau(self.optimizer, mode='min', factor=0.1, patience=5, verbose=True)\n",
        "\n",
        "        # Define la función de pérdida de error cuadrático medio (MSE)\n",
        "        self.loss = nn.MSELoss(reduction='sum')\n",
        "\n",
        "    # Método para entrenar el modelo\n",
        "    def train(self, dataloader, epochs):\n",
        "        # Historial para registrar las pérdidas durante el entrenamiento\n",
        "        history = dict(loss=[])\n",
        "\n",
        "        for epoch in range(epochs):\n",
        "            total_loss = []  # Lista para acumular la pérdida de cada batch\n",
        "\n",
        "            # Itera sobre los batches del dataloader\n",
        "            for i, (batch_x, _) in enumerate(tqdm(dataloader)):\n",
        "                # Prepara los datos de entrada (aplana las imágenes)\n",
        "                batch_x = batch_x.squeeze(1).view(BATCH_SIZE, -1).to(DEVICE)\n",
        "\n",
        "                # Pasa los datos por el codificador para obtener el espacio latente\n",
        "                z, mean, logvar = self.vae.encoder(batch_x)\n",
        "\n",
        "                # Reconstruye las imágenes a partir del espacio latente\n",
        "                reconstructed = self.vae.decoder(z)\n",
        "\n",
        "                # Calcula la pérdida de reconstrucción (MSE)\n",
        "                reconstruction_loss = self.loss(reconstructed, batch_x)\n",
        "\n",
        "                # Calcula la pérdida KL-divergence para regularizar el espacio latente\n",
        "                kl_loss = 0.5 * torch.sum(-1 - logvar + mean.pow(2) + logvar.exp())\n",
        "\n",
        "                # Pérdida total (reconstrucción + regularización)\n",
        "                loss = reconstruction_loss + kl_loss\n",
        "\n",
        "                # Optimiza los parámetros del modelo\n",
        "                self.optimizer.zero_grad()\n",
        "                loss.backward()\n",
        "                self.optimizer.step()\n",
        "\n",
        "                # Registra la pérdida normalizada por batch\n",
        "                total_loss.append(loss.item() / batch_x.size(0))\n",
        "\n",
        "            # Calcula la pérdida media de la época\n",
        "            mean_loss = np.mean(total_loss)\n",
        "            # Actualiza el learning rate basado en la pérdida media\n",
        "            self.scheduler.step(mean_loss)\n",
        "\n",
        "            # Imprime el progreso del entrenamiento\n",
        "            print(\n",
        "                \"[Epoch: %d/%d] [loss: %.4f]\"\n",
        "                % (epoch + 1, epochs, mean_loss)\n",
        "            )\n",
        "\n",
        "            # Genera muestras de imágenes para monitorear el entrenamiento\n",
        "            self.sample(8, plot=False)\n",
        "\n",
        "            # Guarda la pérdida en el historial\n",
        "            history['loss'].append(mean_loss)\n",
        "\n",
        "        # Retorna el historial de pérdidas\n",
        "        return history\n",
        "\n",
        "    # Método para generar muestras desde el espacio latente\n",
        "    def sample(self, n, plot=True):\n",
        "        # Genera dos vectores latentes aleatorios\n",
        "        z1 = torch.randn(1, self.vae.latent_dim).to(DEVICE)\n",
        "        z2 = torch.randn(1, self.vae.latent_dim).to(DEVICE)\n",
        "\n",
        "        # Interpola entre los dos vectores para generar nuevos puntos en el espacio latente\n",
        "        zs = torch.zeros((n, self.vae.latent_dim)).to(DEVICE)\n",
        "        for i in range(n):\n",
        "            alpha = i / (n - 1)  # Factor de interpolación\n",
        "            zs[i] = (1 - alpha) * z1 + alpha * z2\n",
        "\n",
        "        # Decodifica los puntos del espacio latente para obtener imágenes\n",
        "        with torch.no_grad():\n",
        "            images = torch.cat([self.vae.decoder(z) for z in zs], dim=0).view(n, 1, 32, 32).detach()\n",
        "\n",
        "            # Si está activada la opción de graficar, muestra las imágenes\n",
        "            if plot:\n",
        "                plot_images(images)\n",
        "\n",
        "            # Retorna las imágenes generadas\n",
        "            return images\n",
        "\n",
        "\n",
        "vae = VAEManager(\n",
        "    32 * 32,\n",
        "    hidden_dim=256,\n",
        "    latent_dim=64,\n",
        "    lr=0.0002\n",
        ")\n",
        "vae_history = vae.train(dataloader, epochs=40)"
      ],
      "metadata": {
        "id": "oo3LCtm5Ks3q",
        "colab": {
          "base_uri": "https://localhost:8080/"
        },
        "outputId": "e5f5018d-013d-4e9c-eb89-ad685081a51b"
      },
      "execution_count": null,
      "outputs": [
        {
          "output_type": "stream",
          "name": "stderr",
          "text": [
            "/usr/local/lib/python3.10/dist-packages/torch/optim/lr_scheduler.py:62: UserWarning: The verbose parameter is deprecated. Please use get_last_lr() to access the learning rate.\n",
            "  warnings.warn(\n",
            "100%|██████████| 3000/3000 [00:26<00:00, 114.03it/s]\n"
          ]
        },
        {
          "output_type": "stream",
          "name": "stdout",
          "text": [
            "[Epoch: 1/40] [loss: 140.0126]\n"
          ]
        },
        {
          "output_type": "stream",
          "name": "stderr",
          "text": [
            "100%|██████████| 3000/3000 [00:26<00:00, 114.46it/s]\n"
          ]
        },
        {
          "output_type": "stream",
          "name": "stdout",
          "text": [
            "[Epoch: 2/40] [loss: 102.1998]\n"
          ]
        },
        {
          "output_type": "stream",
          "name": "stderr",
          "text": [
            "100%|██████████| 3000/3000 [00:26<00:00, 114.16it/s]\n"
          ]
        },
        {
          "output_type": "stream",
          "name": "stdout",
          "text": [
            "[Epoch: 3/40] [loss: 90.9305]\n"
          ]
        },
        {
          "output_type": "stream",
          "name": "stderr",
          "text": [
            "100%|██████████| 3000/3000 [00:26<00:00, 114.23it/s]\n"
          ]
        },
        {
          "output_type": "stream",
          "name": "stdout",
          "text": [
            "[Epoch: 4/40] [loss: 83.8767]\n"
          ]
        },
        {
          "output_type": "stream",
          "name": "stderr",
          "text": [
            "100%|██████████| 3000/3000 [00:26<00:00, 114.75it/s]\n"
          ]
        },
        {
          "output_type": "stream",
          "name": "stdout",
          "text": [
            "[Epoch: 5/40] [loss: 79.0582]\n"
          ]
        },
        {
          "output_type": "stream",
          "name": "stderr",
          "text": [
            "100%|██████████| 3000/3000 [00:26<00:00, 112.49it/s]\n"
          ]
        },
        {
          "output_type": "stream",
          "name": "stdout",
          "text": [
            "[Epoch: 6/40] [loss: 75.6758]\n"
          ]
        },
        {
          "output_type": "stream",
          "name": "stderr",
          "text": [
            "100%|██████████| 3000/3000 [00:26<00:00, 112.73it/s]\n"
          ]
        },
        {
          "output_type": "stream",
          "name": "stdout",
          "text": [
            "[Epoch: 7/40] [loss: 73.4214]\n"
          ]
        },
        {
          "output_type": "stream",
          "name": "stderr",
          "text": [
            "100%|██████████| 3000/3000 [00:26<00:00, 114.29it/s]\n"
          ]
        },
        {
          "output_type": "stream",
          "name": "stdout",
          "text": [
            "[Epoch: 8/40] [loss: 71.7292]\n"
          ]
        },
        {
          "output_type": "stream",
          "name": "stderr",
          "text": [
            "100%|██████████| 3000/3000 [00:26<00:00, 114.06it/s]\n"
          ]
        },
        {
          "output_type": "stream",
          "name": "stdout",
          "text": [
            "[Epoch: 9/40] [loss: 70.4380]\n"
          ]
        },
        {
          "output_type": "stream",
          "name": "stderr",
          "text": [
            "100%|██████████| 3000/3000 [00:26<00:00, 112.17it/s]\n"
          ]
        },
        {
          "output_type": "stream",
          "name": "stdout",
          "text": [
            "[Epoch: 10/40] [loss: 69.7690]\n"
          ]
        },
        {
          "output_type": "stream",
          "name": "stderr",
          "text": [
            "100%|██████████| 3000/3000 [00:27<00:00, 110.96it/s]\n"
          ]
        },
        {
          "output_type": "stream",
          "name": "stdout",
          "text": [
            "[Epoch: 11/40] [loss: 68.8187]\n"
          ]
        },
        {
          "output_type": "stream",
          "name": "stderr",
          "text": [
            "100%|██████████| 3000/3000 [00:28<00:00, 104.51it/s]\n"
          ]
        },
        {
          "output_type": "stream",
          "name": "stdout",
          "text": [
            "[Epoch: 12/40] [loss: 68.3082]\n"
          ]
        },
        {
          "output_type": "stream",
          "name": "stderr",
          "text": [
            "100%|██████████| 3000/3000 [00:26<00:00, 111.99it/s]\n"
          ]
        },
        {
          "output_type": "stream",
          "name": "stdout",
          "text": [
            "[Epoch: 13/40] [loss: 67.6549]\n"
          ]
        },
        {
          "output_type": "stream",
          "name": "stderr",
          "text": [
            "100%|██████████| 3000/3000 [00:26<00:00, 112.91it/s]\n"
          ]
        },
        {
          "output_type": "stream",
          "name": "stdout",
          "text": [
            "[Epoch: 14/40] [loss: 66.9514]\n"
          ]
        },
        {
          "output_type": "stream",
          "name": "stderr",
          "text": [
            "100%|██████████| 3000/3000 [00:26<00:00, 114.33it/s]\n"
          ]
        },
        {
          "output_type": "stream",
          "name": "stdout",
          "text": [
            "[Epoch: 15/40] [loss: 66.5273]\n"
          ]
        },
        {
          "output_type": "stream",
          "name": "stderr",
          "text": [
            "100%|██████████| 3000/3000 [00:26<00:00, 113.72it/s]\n"
          ]
        },
        {
          "output_type": "stream",
          "name": "stdout",
          "text": [
            "[Epoch: 16/40] [loss: 66.1707]\n"
          ]
        },
        {
          "output_type": "stream",
          "name": "stderr",
          "text": [
            "100%|██████████| 3000/3000 [00:26<00:00, 111.60it/s]\n"
          ]
        },
        {
          "output_type": "stream",
          "name": "stdout",
          "text": [
            "[Epoch: 17/40] [loss: 65.6249]\n"
          ]
        },
        {
          "output_type": "stream",
          "name": "stderr",
          "text": [
            "100%|██████████| 3000/3000 [00:26<00:00, 115.01it/s]\n"
          ]
        },
        {
          "output_type": "stream",
          "name": "stdout",
          "text": [
            "[Epoch: 18/40] [loss: 65.2481]\n"
          ]
        },
        {
          "output_type": "stream",
          "name": "stderr",
          "text": [
            "100%|██████████| 3000/3000 [00:26<00:00, 111.82it/s]\n"
          ]
        },
        {
          "output_type": "stream",
          "name": "stdout",
          "text": [
            "[Epoch: 19/40] [loss: 65.0593]\n"
          ]
        },
        {
          "output_type": "stream",
          "name": "stderr",
          "text": [
            "100%|██████████| 3000/3000 [00:26<00:00, 114.79it/s]\n"
          ]
        },
        {
          "output_type": "stream",
          "name": "stdout",
          "text": [
            "[Epoch: 20/40] [loss: 64.7211]\n"
          ]
        },
        {
          "output_type": "stream",
          "name": "stderr",
          "text": [
            "100%|██████████| 3000/3000 [00:26<00:00, 115.06it/s]\n"
          ]
        },
        {
          "output_type": "stream",
          "name": "stdout",
          "text": [
            "[Epoch: 21/40] [loss: 64.5456]\n"
          ]
        },
        {
          "output_type": "stream",
          "name": "stderr",
          "text": [
            "100%|██████████| 3000/3000 [00:26<00:00, 115.36it/s]\n"
          ]
        },
        {
          "output_type": "stream",
          "name": "stdout",
          "text": [
            "[Epoch: 22/40] [loss: 64.2692]\n"
          ]
        },
        {
          "output_type": "stream",
          "name": "stderr",
          "text": [
            "100%|██████████| 3000/3000 [00:26<00:00, 114.46it/s]\n"
          ]
        },
        {
          "output_type": "stream",
          "name": "stdout",
          "text": [
            "[Epoch: 23/40] [loss: 63.9988]\n"
          ]
        },
        {
          "output_type": "stream",
          "name": "stderr",
          "text": [
            "100%|██████████| 3000/3000 [00:26<00:00, 114.94it/s]\n"
          ]
        },
        {
          "output_type": "stream",
          "name": "stdout",
          "text": [
            "[Epoch: 24/40] [loss: 63.9253]\n"
          ]
        },
        {
          "output_type": "stream",
          "name": "stderr",
          "text": [
            "100%|██████████| 3000/3000 [00:27<00:00, 110.99it/s]\n"
          ]
        },
        {
          "output_type": "stream",
          "name": "stdout",
          "text": [
            "[Epoch: 25/40] [loss: 63.5221]\n"
          ]
        },
        {
          "output_type": "stream",
          "name": "stderr",
          "text": [
            "100%|██████████| 3000/3000 [00:27<00:00, 110.52it/s]\n"
          ]
        },
        {
          "output_type": "stream",
          "name": "stdout",
          "text": [
            "[Epoch: 26/40] [loss: 63.4240]\n"
          ]
        },
        {
          "output_type": "stream",
          "name": "stderr",
          "text": [
            "100%|██████████| 3000/3000 [00:26<00:00, 112.27it/s]\n"
          ]
        },
        {
          "output_type": "stream",
          "name": "stdout",
          "text": [
            "[Epoch: 27/40] [loss: 63.2329]\n"
          ]
        },
        {
          "output_type": "stream",
          "name": "stderr",
          "text": [
            "100%|██████████| 3000/3000 [00:26<00:00, 114.49it/s]\n"
          ]
        },
        {
          "output_type": "stream",
          "name": "stdout",
          "text": [
            "[Epoch: 28/40] [loss: 63.0300]\n"
          ]
        },
        {
          "output_type": "stream",
          "name": "stderr",
          "text": [
            "100%|██████████| 3000/3000 [00:26<00:00, 112.38it/s]\n"
          ]
        },
        {
          "output_type": "stream",
          "name": "stdout",
          "text": [
            "[Epoch: 29/40] [loss: 62.9765]\n"
          ]
        },
        {
          "output_type": "stream",
          "name": "stderr",
          "text": [
            "100%|██████████| 3000/3000 [00:26<00:00, 112.42it/s]\n"
          ]
        },
        {
          "output_type": "stream",
          "name": "stdout",
          "text": [
            "[Epoch: 30/40] [loss: 62.7428]\n"
          ]
        },
        {
          "output_type": "stream",
          "name": "stderr",
          "text": [
            "100%|██████████| 3000/3000 [00:26<00:00, 113.17it/s]\n"
          ]
        },
        {
          "output_type": "stream",
          "name": "stdout",
          "text": [
            "[Epoch: 31/40] [loss: 62.4324]\n"
          ]
        },
        {
          "output_type": "stream",
          "name": "stderr",
          "text": [
            "100%|██████████| 3000/3000 [00:26<00:00, 114.30it/s]\n"
          ]
        },
        {
          "output_type": "stream",
          "name": "stdout",
          "text": [
            "[Epoch: 32/40] [loss: 62.4419]\n"
          ]
        },
        {
          "output_type": "stream",
          "name": "stderr",
          "text": [
            "100%|██████████| 3000/3000 [00:27<00:00, 110.99it/s]\n"
          ]
        },
        {
          "output_type": "stream",
          "name": "stdout",
          "text": [
            "[Epoch: 33/40] [loss: 62.3148]\n"
          ]
        },
        {
          "output_type": "stream",
          "name": "stderr",
          "text": [
            "100%|██████████| 3000/3000 [00:26<00:00, 115.12it/s]\n"
          ]
        },
        {
          "output_type": "stream",
          "name": "stdout",
          "text": [
            "[Epoch: 34/40] [loss: 62.2321]\n"
          ]
        },
        {
          "output_type": "stream",
          "name": "stderr",
          "text": [
            "100%|██████████| 3000/3000 [00:26<00:00, 114.32it/s]\n"
          ]
        },
        {
          "output_type": "stream",
          "name": "stdout",
          "text": [
            "[Epoch: 35/40] [loss: 62.0478]\n"
          ]
        },
        {
          "output_type": "stream",
          "name": "stderr",
          "text": [
            "100%|██████████| 3000/3000 [00:26<00:00, 114.56it/s]\n"
          ]
        },
        {
          "output_type": "stream",
          "name": "stdout",
          "text": [
            "[Epoch: 36/40] [loss: 62.0054]\n"
          ]
        },
        {
          "output_type": "stream",
          "name": "stderr",
          "text": [
            "100%|██████████| 3000/3000 [00:25<00:00, 115.92it/s]\n"
          ]
        },
        {
          "output_type": "stream",
          "name": "stdout",
          "text": [
            "[Epoch: 37/40] [loss: 61.9183]\n"
          ]
        },
        {
          "output_type": "stream",
          "name": "stderr",
          "text": [
            "100%|██████████| 3000/3000 [00:26<00:00, 115.27it/s]\n"
          ]
        },
        {
          "output_type": "stream",
          "name": "stdout",
          "text": [
            "[Epoch: 38/40] [loss: 61.7815]\n"
          ]
        },
        {
          "output_type": "stream",
          "name": "stderr",
          "text": [
            "100%|██████████| 3000/3000 [00:25<00:00, 115.47it/s]\n"
          ]
        },
        {
          "output_type": "stream",
          "name": "stdout",
          "text": [
            "[Epoch: 39/40] [loss: 61.6147]\n"
          ]
        },
        {
          "output_type": "stream",
          "name": "stderr",
          "text": [
            "100%|██████████| 3000/3000 [00:26<00:00, 114.08it/s]"
          ]
        },
        {
          "output_type": "stream",
          "name": "stdout",
          "text": [
            "[Epoch: 40/40] [loss: 61.5187]\n"
          ]
        },
        {
          "output_type": "stream",
          "name": "stderr",
          "text": [
            "\n"
          ]
        }
      ]
    },
    {
      "cell_type": "code",
      "source": [
        "#@title Graficar la perdida del VAE\n",
        "\n",
        "def plot_losses(vae_history):\n",
        "    figsize = (5, 3)\n",
        "    plt.figure(figsize=figsize)\n",
        "    plt.plot(vae_history['loss'], label='VAE Loss')\n",
        "    plt.title('VAE Loss over Time')\n",
        "    plt.xlabel('Epoch')\n",
        "    plt.ylabel('Loss')\n",
        "    plt.legend()\n",
        "    plt.show()\n",
        "\n",
        "plot_losses(vae_history)"
      ],
      "metadata": {
        "colab": {
          "base_uri": "https://localhost:8080/",
          "height": 333
        },
        "cellView": "form",
        "id": "7u_ZjJdjaXL2",
        "outputId": "5fcbcc76-8bab-42c7-d83b-785426169fa1"
      },
      "execution_count": null,
      "outputs": [
        {
          "output_type": "display_data",
          "data": {
            "text/plain": [
              "<Figure size 500x300 with 1 Axes>"
            ],
            "image/png": "[encoded data removed]"
          },
          "metadata": {}
        }
      ]
    },
    {
      "cell_type": "markdown",
      "source": [
        "## Muestreo del espacio latente\n",
        "\n",
        "\n",
        "### Truco de reparametrización\n",
        "Para aproximar la integral sobre $z_n$ en el primer termino de $\\mathcal{L}$, se realiza un muestreo por Monte Carlo del espacio latente,\n",
        "\n",
        "$$  \\int q(z_n | x_n, \\phi) \\log p(x_n | z_n, w) \\, dz_n \\approx \\frac{1}{L} \\sum_{l=1}^{L} \\log p(x_n | z_{n}^{(l)}, w) $$\n",
        "\n",
        "donde $\\{z_n\\}$ son muestras tomadas de la distribución $q(z|x,\\phi)$. Durante el entrenamiendo debemos calcular los gradientes de esta cantidad con respecto a $w$ y $\\phi$. Calcular el gradiente con respecto a $w$ es fácil, pero el gradiente con respecto a $\\phi$ es problemático porque los cambios en $\\phi$ alterarán la distribución $q(z_n | x_n, \\phi)$ de la cual se extraen las muestras, y sin embargo, estas muestras son valores fijos, lo que impide obtener las derivadas con respecto a $\\phi$.  \n",
        "\n",
        "Podemos resolver esto empleando el **truco de reparametrización** que sugiere que, en lugar de muestrear de la distribución $ z \\sim q(z \\mid x, \\phi) $, se debe muestrear de una distribución $\\epsilon$ que no dependa de ningún parámetro, como por ejemplo una distribución normal estándar, $\\epsilon \\sim \\mathcal{N}(0, I)$. Luego, utilizamos las muestras de $\\epsilon$ para evaluar deterministicamente el valor de $z$:\n",
        "\n",
        "$$ z = m(x, \\phi) + \\varepsilon \\cdot s(x, \\phi) $$\n",
        "\n",
        "donde $m(x, \\phi)$ y $s(x, \\phi)$ estan definidos por las salidas del encoder.\n",
        "\n",
        "\n",
        "### VAE en régimen generativo\n",
        "Una vez entrenado el modelo, podemos generar nuevas imágenes de prendas muestreando directamente $z$ de la distribución a priori $p(z)$, que típicamente se elige como una distribución normal estándar:\n",
        "\n",
        "$$ z \\sim \\mathcal{N}(0, I) $$\n",
        "\n",
        "Sin embargo, en este caso, el modelo tiende a \"alucinar\", es decir, a generar imágenes que no son coherentes o que carecen de sentido visual, ya que no está condicionado a datos reales.\n",
        "\n",
        "En cambio, se obtienen mejores resultados cuando se muestrea de la distribucion *a posteriori* aproximada $q(z|x,\\phi)$. Para ello utilizamos el codificador para transformar un conjunto de imagenes existentes $x$ en el espacio latente, obteniendo así los parámetros de la distribución $ q(z|x,\\phi) $, que incluye la media $ m $ y la desviación estándar $ s $. Luego aplicamos el truco de reparametrización para obtener un nuevo valor de $ z $,  \n",
        "\n",
        "$$ z = m(x, \\phi) + \\epsilon \\cdot s(x, \\phi) $$\n",
        "\n",
        "Finalmente, pasamos el valor muestreado $ z $ al decodificador $ p(x|z,w) $ para generar una nueva imagen de la prenda correspondiente.\n",
        "\n",
        "Veamos algunos ejemplos en la practica."
      ],
      "metadata": {
        "id": "R-51mOBb_UQF"
      }
    },
    {
      "cell_type": "code",
      "source": [
        "#@title Generación de imágenes\n",
        "\n",
        "def compare_training_vs_generative(vae, dataloader, n=8):\n",
        "    \"\"\"Comparar reconstrucción y generación de imágenes.\"\"\"\n",
        "    # Reconstrucción\n",
        "    batch = next(iter(dataloader))\n",
        "    original_images = batch[0][:n].to(DEVICE).squeeze(1).view(n, -1)\n",
        "    with torch.no_grad():\n",
        "        z, _, _ = vae.vae.encoder(original_images)\n",
        "        reconstructed_images = vae.vae.decoder(z)\n",
        "\n",
        "    # Generación de nuevas imágenes\n",
        "    with torch.no_grad():\n",
        "        random_z = torch.randn(n, vae.vae.latent_dim).to(DEVICE)\n",
        "        generated_images = vae.vae.decoder(random_z)\n",
        "\n",
        "    # Visualizar todas juntas\n",
        "    plot_images(original_images.view(n, 1, 32, 32), title=\"Imagenes originales\")\n",
        "    plot_images(reconstructed_images.view(n, 1, 32, 32), title=\"Imagenes reconstruidas\")\n",
        "    plot_images(generated_images.view(n, 1, 32, 32), title=\"Imagenes generadas\")\n",
        "\n",
        "compare_training_vs_generative(vae, dataloader, n=8)"
      ],
      "metadata": {
        "colab": {
          "base_uri": "https://localhost:8080/",
          "height": 680
        },
        "cellView": "form",
        "id": "smpnsES-Ek32",
        "outputId": "d81e9923-ca2c-41ad-c556-0cd22fede784"
      },
      "execution_count": null,
      "outputs": [
        {
          "output_type": "display_data",
          "data": {
            "text/plain": [
              "<Figure size 1600x300 with 1 Axes>"
            ],
            "image/png": "[encoded data removed]"
          },
          "metadata": {}
        },
        {
          "output_type": "display_data",
          "data": {
            "text/plain": [
              "<Figure size 1600x300 with 1 Axes>"
            ],
            "image/png": "[encoded data removed]"
          },
          "metadata": {}
        },
        {
          "output_type": "display_data",
          "data": {
            "text/plain": [
              "<Figure size 1600x300 with 1 Axes>"
            ],
            "image/png": "[encoded data removed]"
          },
          "metadata": {}
        }
      ]
    },
    {
      "cell_type": "markdown",
      "source": [
        "## Preguntas:\n",
        "\n",
        "1. ¿Qué diferencias notas entre las reconstrucciones y las imágenes generadas? ¿A que piensas que se deben esas diferencias?\n",
        "\n",
        "2. ¿Cómo afecta el tamaño del espacio latente a las imágenes generadas? Probar con un espacio latante de mayor/menor dimension\n",
        "\n"
      ],
      "metadata": {
        "id": "r0a1WmH5fNtw"
      }
    }
  ]
}