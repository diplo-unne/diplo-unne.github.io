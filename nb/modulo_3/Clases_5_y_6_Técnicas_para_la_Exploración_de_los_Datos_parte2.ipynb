{
  "nbformat": 4,
  "nbformat_minor": 0,
  "metadata": {
    "colab": {
      "provenance": []
    },
    "kernelspec": {
      "name": "python3",
      "display_name": "Python 3"
    },
    "language_info": {
      "name": "python"
    }
  },
  "cells": [
    {
      "cell_type": "markdown",
      "source": [
        "# Clases 5 y 6: Técnicas para la exploración de los datos\n",
        "\n",
        "Parte 1: Filtrado de datos\n",
        "\n",
        "Resumen de métodos avanzados de filtrado y manipulación de datos en Pandas, incluyendo LOC, ILOC, Where, Query, y funciones como Pivot, Apply, Merge y Concat.\n",
        "\n",
        "**Parte 2: Limpieza de texto**\n",
        "\n",
        "Síntesis de los pasos clave en la limpieza y preparación de texto para análisis, como normalización, eliminación de ruido, lematización y stemming.\n",
        "\n",
        "Parte 3: Selección de características\n",
        "\n",
        "Introducción concisa al proceso de identificar y elegir características relevantes para optimizar modelos predictivos.\n",
        "\n",
        "##  Limpieza de Texto\n",
        "Antes de analizar el texto, necesitamos limpiarlo eliminando elementos que pueden no ser útiles o que podrían sesgar los resultados. Aquí hay algunos pasos comunes en la limpieza de texto:\n",
        "\n",
        "* Convertir a minúsculas\n",
        "* Eliminar caracteres especiales y números\n",
        "* Eliminar stopwords\n",
        "* Eliminar espacios en blanco adicionales\n",
        "* Lemmatización\n",
        "* Stemming"
      ],
      "metadata": {
        "id": "_VyX1AysY6Ue"
      }
    },
    {
      "cell_type": "markdown",
      "source": [
        "# Limpieza de texto"
      ],
      "metadata": {
        "id": "zgnos56ThuFb"
      }
    },
    {
      "cell_type": "code",
      "execution_count": null,
      "metadata": {
        "colab": {
          "base_uri": "https://localhost:8080/"
        },
        "id": "L5Y812mIsSug",
        "outputId": "932ed149-afa9-4776-b30b-cbe2067cc920"
      },
      "outputs": [
        {
          "output_type": "stream",
          "name": "stdout",
          "text": [
            "Texto Original:\n",
            "\n",
            "        ¡Hola! Este es un ejemplo de texto para limpieza.\n",
            "Contiene varios elementos: números 12345, símbolos @#$%, y caracteres especiales.\n",
            "Además, algunas palabras se REPITEN, repiten varias ve.-ascv a{ñskcf?=)(&/%$#\n",
            "ces para probar                     la limpieza.\n",
            "\n"
          ]
        }
      ],
      "source": [
        "# Texto sucio\n",
        "texto_original = \"\"\"\n",
        "        ¡Hola! Este es un ejemplo de texto para limpieza.\n",
        "Contiene varios elementos: números 12345, símbolos @#$%, y caracteres especiales.\n",
        "Además, algunas palabras se REPITEN, repiten varias ve.-ascv a{ñskcf?=)(&/%$#\n",
        "ces para probar                     la limpieza.\n",
        "\"\"\"\n",
        "print(\"Texto Original:\")\n",
        "print(texto_original)"
      ]
    },
    {
      "cell_type": "code",
      "source": [
        "# limpiar espacios y conversión a minusculas\n",
        "# strip() elimina espacion al inicio y al final\n",
        "# lower() convierte a minusculas\n",
        "\n",
        "def limpiar_espacios_y_minusculas(texto):\n",
        "    return texto.strip().lower()\n",
        "\n",
        "# Aplicar limpieza\n",
        "texto_limpio_1 = limpiar_espacios_y_minusculas(texto_original)\n",
        "\n",
        "print(\"Texto Limpio (Espacios y Minúsculas):\")\n",
        "print(texto_limpio_1)"
      ],
      "metadata": {
        "colab": {
          "base_uri": "https://localhost:8080/"
        },
        "id": "ZuSdAuxWsypD",
        "outputId": "e2016647-75f3-48e7-b15d-af1fd9ad0c8e"
      },
      "execution_count": null,
      "outputs": [
        {
          "output_type": "stream",
          "name": "stdout",
          "text": [
            "Texto Limpio (Espacios y Minúsculas):\n",
            "¡hola! este es un ejemplo de texto para limpieza.\n",
            "contiene varios elementos: números 12345, símbolos @#$%, y caracteres especiales.\n",
            "además, algunas palabras se repiten, repiten varias ve.-ascv a{ñskcf?=)(&/%$#\n",
            "ces para probar                     la limpieza.\n"
          ]
        }
      ]
    },
    {
      "cell_type": "markdown",
      "source": [
        "###Las expresiones regulares\n",
        "\n",
        "Utilizamo el módulo re de Python, que es una herramienta para trabajar con expresiones regulares. Las expresiones regulares nos permiten buscar y manipular patrones de texto de manera eficiente.\n",
        "\n",
        "En el código re.sub(r'\\s+', ' ', texto), estamos utilizando \\s+ para buscar uno o más espacios en blanco consecutivos en el texto y reemplazarlos con un solo espacio.\n",
        "\n",
        "En otro caso, re.sub(r'[^\\w\\s]', '', texto) utiliza una expresión regular para eliminar todos los caracteres especiales, números y cualquier cosa que no sea una letra o un espacio, dejándonos solo con palabras.\""
      ],
      "metadata": {
        "id": "uQGYY8PYnrPC"
      }
    },
    {
      "cell_type": "code",
      "source": [
        "# Eliminar caracteres especiales y espacios extras\n",
        "\n",
        "import re\n",
        "# esta funcion elimina caracteres especiales y espacios duplicados\n",
        "def limpiar(texto):\n",
        "    # Reemplazar múltiples espacios por uno solo\n",
        "    texto = re.sub(r'\\s+', ' ', texto)\n",
        "    # Eliminar caracteres especiales\n",
        "    texto = re.sub(r'[^\\w\\s]', '', texto) # cualquier cosa que no sea una letra, un número o un espacio\n",
        "    return texto\n",
        "\n",
        "# Aplicar eliminación de caracteres especiales\n",
        "texto_limpio_2 = limpiar(texto_limpio_1)\n",
        "print(\"Texto Limpio (Sin Caracteres Especiales):\")\n",
        "print(texto_limpio_2)"
      ],
      "metadata": {
        "colab": {
          "base_uri": "https://localhost:8080/"
        },
        "id": "Bwy9BQKns6Qz",
        "outputId": "95f604b3-7589-4e8b-ccee-5b65479b06e5"
      },
      "execution_count": null,
      "outputs": [
        {
          "output_type": "stream",
          "name": "stdout",
          "text": [
            "Texto Limpio (Sin Caracteres Especiales):\n",
            "hola este es un ejemplo de texto para limpieza contiene varios elementos números 12345 símbolos  y caracteres especiales además algunas palabras se repiten repiten varias veascv añskcf ces para probar la limpieza\n"
          ]
        }
      ]
    },
    {
      "cell_type": "code",
      "source": [
        "# eliminación de stopwords\n",
        "import nltk #NLTK (Natural Language Toolkit) es una biblioteca para NLP\n",
        "\n",
        "# Descargamos un conjunto de datos de stopwords para varios idiomas\n",
        "nltk.download('stopwords')\n",
        "\n",
        "# eliminación de stopwords\n",
        "from nltk.corpus import stopwords\n",
        "\n",
        "def eliminar_stopwords(texto):\n",
        "    stop_words = set(stopwords.words('spanish')) # lo convertimos a un objeto conjunto para optimizar la busqueda\n",
        "    palabras = texto.split()\n",
        "    return ' '.join([palabra for palabra in palabras if palabra not in stop_words])\n",
        "\n",
        "##TODO Cómo crearpias esta funcionalidad en una sola linea para aumentar la eficiencia del método?"
      ],
      "metadata": {
        "colab": {
          "base_uri": "https://localhost:8080/"
        },
        "id": "sKhFxFhWs9xM",
        "outputId": "3a133daa-332b-40d9-a5b7-be1a5ccb76b2"
      },
      "execution_count": null,
      "outputs": [
        {
          "output_type": "stream",
          "name": "stderr",
          "text": [
            "[nltk_data] Downloading package stopwords to /root/nltk_data...\n",
            "[nltk_data]   Unzipping corpora/stopwords.zip.\n"
          ]
        }
      ]
    },
    {
      "cell_type": "code",
      "source": [
        "texto_limpio_3 = eliminar_stopwords(texto_limpio_2)\n",
        "\n",
        "print(\"Texto:\")\n",
        "print(texto_limpio_2)\n",
        "\n",
        "print(\"Texto Limpio (stopword):\")\n",
        "print(texto_limpio_3)"
      ],
      "metadata": {
        "colab": {
          "base_uri": "https://localhost:8080/"
        },
        "id": "TGraKT3KkXCY",
        "outputId": "7e02c4f2-fa25-4859-c9a8-56dd78afc483"
      },
      "execution_count": null,
      "outputs": [
        {
          "output_type": "stream",
          "name": "stdout",
          "text": [
            "Texto:\n",
            "hola este es un ejemplo de texto para limpieza contiene varios elementos números 12345 símbolos  y caracteres especiales además algunas palabras se repiten repiten varias veascv añskcf ces para probar la limpieza\n",
            "Texto Limpio (stopword):\n",
            "hola ejemplo texto limpieza contiene varios elementos números 12345 símbolos caracteres especiales además palabras repiten repiten varias veascv añskcf ces probar limpieza\n"
          ]
        }
      ]
    },
    {
      "cell_type": "markdown",
      "source": [
        "### Stemming"
      ],
      "metadata": {
        "id": "fiKnXG9_dspT"
      }
    },
    {
      "cell_type": "code",
      "source": [
        "# Stemming\n",
        "from nltk import word_tokenize\n",
        "from nltk.stem import SnowballStemmer\n",
        "\n",
        "stemmer = SnowballStemmer('spanish')\n",
        "stemmer_text_list = [stemmer.stem(word) for word in texto_limpio_3.split(\" \")]\n",
        "stemmer_text_list"
      ],
      "metadata": {
        "colab": {
          "base_uri": "https://localhost:8080/"
        },
        "id": "WnyGB9svWYgV",
        "outputId": "e95cb891-8f7f-488e-9316-cae8d722d4ab"
      },
      "execution_count": null,
      "outputs": [
        {
          "output_type": "execute_result",
          "data": {
            "text/plain": [
              "['hol',\n",
              " 'ejempl',\n",
              " 'text',\n",
              " 'limpiez',\n",
              " 'contien',\n",
              " 'vari',\n",
              " 'element',\n",
              " 'numer',\n",
              " '12345',\n",
              " 'simbol',\n",
              " 'caracter',\n",
              " 'especial',\n",
              " 'ademas',\n",
              " 'palabr',\n",
              " 'repit',\n",
              " 'repit',\n",
              " 'vari',\n",
              " 'veascv',\n",
              " 'añskcf',\n",
              " 'ces',\n",
              " 'prob',\n",
              " 'limpiez']"
            ]
          },
          "metadata": {},
          "execution_count": 20
        }
      ]
    },
    {
      "cell_type": "code",
      "source": [
        "## Unimos las palabras\n",
        "clean_text_stem = ' '.join(stemmer_text_list)\n",
        "clean_text_stem"
      ],
      "metadata": {
        "colab": {
          "base_uri": "https://localhost:8080/",
          "height": 36
        },
        "id": "BpfP6G3gaPth",
        "outputId": "15281703-526d-47dc-fc05-431d9f68f04c"
      },
      "execution_count": null,
      "outputs": [
        {
          "output_type": "execute_result",
          "data": {
            "text/plain": [
              "'hol ejempl text limpiez contien vari element numer 12345 simbol caracter especial ademas palabr repit repit vari veascv añskcf ces prob limpiez'"
            ],
            "application/vnd.google.colaboratory.intrinsic+json": {
              "type": "string"
            }
          },
          "metadata": {},
          "execution_count": 21
        }
      ]
    },
    {
      "cell_type": "markdown",
      "source": [
        "### Lemmatization"
      ],
      "metadata": {
        "id": "sutE51vvao4x"
      }
    },
    {
      "cell_type": "code",
      "source": [
        "!pip install spacy\n",
        "!python -m spacy download es_core_news_sm"
      ],
      "metadata": {
        "colab": {
          "base_uri": "https://localhost:8080/"
        },
        "id": "ioPDKD2jasVX",
        "outputId": "ff1b5f34-5cc9-44aa-8951-9865dfa5cc63"
      },
      "execution_count": null,
      "outputs": [
        {
          "output_type": "stream",
          "name": "stdout",
          "text": [
            "Requirement already satisfied: spacy in /usr/local/lib/python3.10/dist-packages (3.7.6)\n",
            "Requirement already satisfied: spacy-legacy<3.1.0,>=3.0.11 in /usr/local/lib/python3.10/dist-packages (from spacy) (3.0.12)\n",
            "Requirement already satisfied: spacy-loggers<2.0.0,>=1.0.0 in /usr/local/lib/python3.10/dist-packages (from spacy) (1.0.5)\n",
            "Requirement already satisfied: murmurhash<1.1.0,>=0.28.0 in /usr/local/lib/python3.10/dist-packages (from spacy) (1.0.10)\n",
            "Requirement already satisfied: cymem<2.1.0,>=2.0.2 in /usr/local/lib/python3.10/dist-packages (from spacy) (2.0.8)\n",
            "Requirement already satisfied: preshed<3.1.0,>=3.0.2 in /usr/local/lib/python3.10/dist-packages (from spacy) (3.0.9)\n",
            "Requirement already satisfied: thinc<8.3.0,>=8.2.2 in /usr/local/lib/python3.10/dist-packages (from spacy) (8.2.5)\n",
            "Requirement already satisfied: wasabi<1.2.0,>=0.9.1 in /usr/local/lib/python3.10/dist-packages (from spacy) (1.1.3)\n",
            "Requirement already satisfied: srsly<3.0.0,>=2.4.3 in /usr/local/lib/python3.10/dist-packages (from spacy) (2.4.8)\n",
            "Requirement already satisfied: catalogue<2.1.0,>=2.0.6 in /usr/local/lib/python3.10/dist-packages (from spacy) (2.0.10)\n",
            "Requirement already satisfied: weasel<0.5.0,>=0.1.0 in /usr/local/lib/python3.10/dist-packages (from spacy) (0.4.1)\n",
            "Requirement already satisfied: typer<1.0.0,>=0.3.0 in /usr/local/lib/python3.10/dist-packages (from spacy) (0.12.5)\n",
            "Requirement already satisfied: tqdm<5.0.0,>=4.38.0 in /usr/local/lib/python3.10/dist-packages (from spacy) (4.66.5)\n",
            "Requirement already satisfied: requests<3.0.0,>=2.13.0 in /usr/local/lib/python3.10/dist-packages (from spacy) (2.32.3)\n",
            "Requirement already satisfied: pydantic!=1.8,!=1.8.1,<3.0.0,>=1.7.4 in /usr/local/lib/python3.10/dist-packages (from spacy) (2.8.2)\n",
            "Requirement already satisfied: jinja2 in /usr/local/lib/python3.10/dist-packages (from spacy) (3.1.4)\n",
            "Requirement already satisfied: setuptools in /usr/local/lib/python3.10/dist-packages (from spacy) (71.0.4)\n",
            "Requirement already satisfied: packaging>=20.0 in /usr/local/lib/python3.10/dist-packages (from spacy) (24.1)\n",
            "Requirement already satisfied: langcodes<4.0.0,>=3.2.0 in /usr/local/lib/python3.10/dist-packages (from spacy) (3.4.0)\n",
            "Requirement already satisfied: numpy>=1.19.0 in /usr/local/lib/python3.10/dist-packages (from spacy) (1.26.4)\n",
            "Requirement already satisfied: language-data>=1.2 in /usr/local/lib/python3.10/dist-packages (from langcodes<4.0.0,>=3.2.0->spacy) (1.2.0)\n",
            "Requirement already satisfied: annotated-types>=0.4.0 in /usr/local/lib/python3.10/dist-packages (from pydantic!=1.8,!=1.8.1,<3.0.0,>=1.7.4->spacy) (0.7.0)\n",
            "Requirement already satisfied: pydantic-core==2.20.1 in /usr/local/lib/python3.10/dist-packages (from pydantic!=1.8,!=1.8.1,<3.0.0,>=1.7.4->spacy) (2.20.1)\n",
            "Requirement already satisfied: typing-extensions>=4.6.1 in /usr/local/lib/python3.10/dist-packages (from pydantic!=1.8,!=1.8.1,<3.0.0,>=1.7.4->spacy) (4.12.2)\n",
            "Requirement already satisfied: charset-normalizer<4,>=2 in /usr/local/lib/python3.10/dist-packages (from requests<3.0.0,>=2.13.0->spacy) (3.3.2)\n",
            "Requirement already satisfied: idna<4,>=2.5 in /usr/local/lib/python3.10/dist-packages (from requests<3.0.0,>=2.13.0->spacy) (3.8)\n",
            "Requirement already satisfied: urllib3<3,>=1.21.1 in /usr/local/lib/python3.10/dist-packages (from requests<3.0.0,>=2.13.0->spacy) (2.0.7)\n",
            "Requirement already satisfied: certifi>=2017.4.17 in /usr/local/lib/python3.10/dist-packages (from requests<3.0.0,>=2.13.0->spacy) (2024.8.30)\n",
            "Requirement already satisfied: blis<0.8.0,>=0.7.8 in /usr/local/lib/python3.10/dist-packages (from thinc<8.3.0,>=8.2.2->spacy) (0.7.11)\n",
            "Requirement already satisfied: confection<1.0.0,>=0.0.1 in /usr/local/lib/python3.10/dist-packages (from thinc<8.3.0,>=8.2.2->spacy) (0.1.5)\n",
            "Requirement already satisfied: click>=8.0.0 in /usr/local/lib/python3.10/dist-packages (from typer<1.0.0,>=0.3.0->spacy) (8.1.7)\n",
            "Requirement already satisfied: shellingham>=1.3.0 in /usr/local/lib/python3.10/dist-packages (from typer<1.0.0,>=0.3.0->spacy) (1.5.4)\n",
            "Requirement already satisfied: rich>=10.11.0 in /usr/local/lib/python3.10/dist-packages (from typer<1.0.0,>=0.3.0->spacy) (13.8.0)\n",
            "Requirement already satisfied: cloudpathlib<1.0.0,>=0.7.0 in /usr/local/lib/python3.10/dist-packages (from weasel<0.5.0,>=0.1.0->spacy) (0.19.0)\n",
            "Requirement already satisfied: smart-open<8.0.0,>=5.2.1 in /usr/local/lib/python3.10/dist-packages (from weasel<0.5.0,>=0.1.0->spacy) (7.0.4)\n",
            "Requirement already satisfied: MarkupSafe>=2.0 in /usr/local/lib/python3.10/dist-packages (from jinja2->spacy) (2.1.5)\n",
            "Requirement already satisfied: marisa-trie>=0.7.7 in /usr/local/lib/python3.10/dist-packages (from language-data>=1.2->langcodes<4.0.0,>=3.2.0->spacy) (1.2.0)\n",
            "Requirement already satisfied: markdown-it-py>=2.2.0 in /usr/local/lib/python3.10/dist-packages (from rich>=10.11.0->typer<1.0.0,>=0.3.0->spacy) (3.0.0)\n",
            "Requirement already satisfied: pygments<3.0.0,>=2.13.0 in /usr/local/lib/python3.10/dist-packages (from rich>=10.11.0->typer<1.0.0,>=0.3.0->spacy) (2.16.1)\n",
            "Requirement already satisfied: wrapt in /usr/local/lib/python3.10/dist-packages (from smart-open<8.0.0,>=5.2.1->weasel<0.5.0,>=0.1.0->spacy) (1.16.0)\n",
            "Requirement already satisfied: mdurl~=0.1 in /usr/local/lib/python3.10/dist-packages (from markdown-it-py>=2.2.0->rich>=10.11.0->typer<1.0.0,>=0.3.0->spacy) (0.1.2)\n",
            "Collecting es-core-news-sm==3.7.0\n",
            "  Downloading https://github.com/explosion/spacy-models/releases/download/es_core_news_sm-3.7.0/es_core_news_sm-3.7.0-py3-none-any.whl (12.9 MB)\n",
            "\u001b[2K     \u001b[90m━━━━━━━━━━━━━━━━━━━━━━━━━━━━━━━━━━━━━━━━\u001b[0m \u001b[32m12.9/12.9 MB\u001b[0m \u001b[31m39.0 MB/s\u001b[0m eta \u001b[36m0:00:00\u001b[0m\n",
            "\u001b[?25hRequirement already satisfied: spacy<3.8.0,>=3.7.0 in /usr/local/lib/python3.10/dist-packages (from es-core-news-sm==3.7.0) (3.7.6)\n",
            "Requirement already satisfied: spacy-legacy<3.1.0,>=3.0.11 in /usr/local/lib/python3.10/dist-packages (from spacy<3.8.0,>=3.7.0->es-core-news-sm==3.7.0) (3.0.12)\n",
            "Requirement already satisfied: spacy-loggers<2.0.0,>=1.0.0 in /usr/local/lib/python3.10/dist-packages (from spacy<3.8.0,>=3.7.0->es-core-news-sm==3.7.0) (1.0.5)\n",
            "Requirement already satisfied: murmurhash<1.1.0,>=0.28.0 in /usr/local/lib/python3.10/dist-packages (from spacy<3.8.0,>=3.7.0->es-core-news-sm==3.7.0) (1.0.10)\n",
            "Requirement already satisfied: cymem<2.1.0,>=2.0.2 in /usr/local/lib/python3.10/dist-packages (from spacy<3.8.0,>=3.7.0->es-core-news-sm==3.7.0) (2.0.8)\n",
            "Requirement already satisfied: preshed<3.1.0,>=3.0.2 in /usr/local/lib/python3.10/dist-packages (from spacy<3.8.0,>=3.7.0->es-core-news-sm==3.7.0) (3.0.9)\n",
            "Requirement already satisfied: thinc<8.3.0,>=8.2.2 in /usr/local/lib/python3.10/dist-packages (from spacy<3.8.0,>=3.7.0->es-core-news-sm==3.7.0) (8.2.5)\n",
            "Requirement already satisfied: wasabi<1.2.0,>=0.9.1 in /usr/local/lib/python3.10/dist-packages (from spacy<3.8.0,>=3.7.0->es-core-news-sm==3.7.0) (1.1.3)\n",
            "Requirement already satisfied: srsly<3.0.0,>=2.4.3 in /usr/local/lib/python3.10/dist-packages (from spacy<3.8.0,>=3.7.0->es-core-news-sm==3.7.0) (2.4.8)\n",
            "Requirement already satisfied: catalogue<2.1.0,>=2.0.6 in /usr/local/lib/python3.10/dist-packages (from spacy<3.8.0,>=3.7.0->es-core-news-sm==3.7.0) (2.0.10)\n",
            "Requirement already satisfied: weasel<0.5.0,>=0.1.0 in /usr/local/lib/python3.10/dist-packages (from spacy<3.8.0,>=3.7.0->es-core-news-sm==3.7.0) (0.4.1)\n",
            "Requirement already satisfied: typer<1.0.0,>=0.3.0 in /usr/local/lib/python3.10/dist-packages (from spacy<3.8.0,>=3.7.0->es-core-news-sm==3.7.0) (0.12.5)\n",
            "Requirement already satisfied: tqdm<5.0.0,>=4.38.0 in /usr/local/lib/python3.10/dist-packages (from spacy<3.8.0,>=3.7.0->es-core-news-sm==3.7.0) (4.66.5)\n",
            "Requirement already satisfied: requests<3.0.0,>=2.13.0 in /usr/local/lib/python3.10/dist-packages (from spacy<3.8.0,>=3.7.0->es-core-news-sm==3.7.0) (2.32.3)\n",
            "Requirement already satisfied: pydantic!=1.8,!=1.8.1,<3.0.0,>=1.7.4 in /usr/local/lib/python3.10/dist-packages (from spacy<3.8.0,>=3.7.0->es-core-news-sm==3.7.0) (2.8.2)\n",
            "Requirement already satisfied: jinja2 in /usr/local/lib/python3.10/dist-packages (from spacy<3.8.0,>=3.7.0->es-core-news-sm==3.7.0) (3.1.4)\n",
            "Requirement already satisfied: setuptools in /usr/local/lib/python3.10/dist-packages (from spacy<3.8.0,>=3.7.0->es-core-news-sm==3.7.0) (71.0.4)\n",
            "Requirement already satisfied: packaging>=20.0 in /usr/local/lib/python3.10/dist-packages (from spacy<3.8.0,>=3.7.0->es-core-news-sm==3.7.0) (24.1)\n",
            "Requirement already satisfied: langcodes<4.0.0,>=3.2.0 in /usr/local/lib/python3.10/dist-packages (from spacy<3.8.0,>=3.7.0->es-core-news-sm==3.7.0) (3.4.0)\n",
            "Requirement already satisfied: numpy>=1.19.0 in /usr/local/lib/python3.10/dist-packages (from spacy<3.8.0,>=3.7.0->es-core-news-sm==3.7.0) (1.26.4)\n",
            "Requirement already satisfied: language-data>=1.2 in /usr/local/lib/python3.10/dist-packages (from langcodes<4.0.0,>=3.2.0->spacy<3.8.0,>=3.7.0->es-core-news-sm==3.7.0) (1.2.0)\n",
            "Requirement already satisfied: annotated-types>=0.4.0 in /usr/local/lib/python3.10/dist-packages (from pydantic!=1.8,!=1.8.1,<3.0.0,>=1.7.4->spacy<3.8.0,>=3.7.0->es-core-news-sm==3.7.0) (0.7.0)\n",
            "Requirement already satisfied: pydantic-core==2.20.1 in /usr/local/lib/python3.10/dist-packages (from pydantic!=1.8,!=1.8.1,<3.0.0,>=1.7.4->spacy<3.8.0,>=3.7.0->es-core-news-sm==3.7.0) (2.20.1)\n",
            "Requirement already satisfied: typing-extensions>=4.6.1 in /usr/local/lib/python3.10/dist-packages (from pydantic!=1.8,!=1.8.1,<3.0.0,>=1.7.4->spacy<3.8.0,>=3.7.0->es-core-news-sm==3.7.0) (4.12.2)\n",
            "Requirement already satisfied: charset-normalizer<4,>=2 in /usr/local/lib/python3.10/dist-packages (from requests<3.0.0,>=2.13.0->spacy<3.8.0,>=3.7.0->es-core-news-sm==3.7.0) (3.3.2)\n",
            "Requirement already satisfied: idna<4,>=2.5 in /usr/local/lib/python3.10/dist-packages (from requests<3.0.0,>=2.13.0->spacy<3.8.0,>=3.7.0->es-core-news-sm==3.7.0) (3.8)\n",
            "Requirement already satisfied: urllib3<3,>=1.21.1 in /usr/local/lib/python3.10/dist-packages (from requests<3.0.0,>=2.13.0->spacy<3.8.0,>=3.7.0->es-core-news-sm==3.7.0) (2.0.7)\n",
            "Requirement already satisfied: certifi>=2017.4.17 in /usr/local/lib/python3.10/dist-packages (from requests<3.0.0,>=2.13.0->spacy<3.8.0,>=3.7.0->es-core-news-sm==3.7.0) (2024.8.30)\n",
            "Requirement already satisfied: blis<0.8.0,>=0.7.8 in /usr/local/lib/python3.10/dist-packages (from thinc<8.3.0,>=8.2.2->spacy<3.8.0,>=3.7.0->es-core-news-sm==3.7.0) (0.7.11)\n",
            "Requirement already satisfied: confection<1.0.0,>=0.0.1 in /usr/local/lib/python3.10/dist-packages (from thinc<8.3.0,>=8.2.2->spacy<3.8.0,>=3.7.0->es-core-news-sm==3.7.0) (0.1.5)\n",
            "Requirement already satisfied: click>=8.0.0 in /usr/local/lib/python3.10/dist-packages (from typer<1.0.0,>=0.3.0->spacy<3.8.0,>=3.7.0->es-core-news-sm==3.7.0) (8.1.7)\n",
            "Requirement already satisfied: shellingham>=1.3.0 in /usr/local/lib/python3.10/dist-packages (from typer<1.0.0,>=0.3.0->spacy<3.8.0,>=3.7.0->es-core-news-sm==3.7.0) (1.5.4)\n",
            "Requirement already satisfied: rich>=10.11.0 in /usr/local/lib/python3.10/dist-packages (from typer<1.0.0,>=0.3.0->spacy<3.8.0,>=3.7.0->es-core-news-sm==3.7.0) (13.8.0)\n",
            "Requirement already satisfied: cloudpathlib<1.0.0,>=0.7.0 in /usr/local/lib/python3.10/dist-packages (from weasel<0.5.0,>=0.1.0->spacy<3.8.0,>=3.7.0->es-core-news-sm==3.7.0) (0.19.0)\n",
            "Requirement already satisfied: smart-open<8.0.0,>=5.2.1 in /usr/local/lib/python3.10/dist-packages (from weasel<0.5.0,>=0.1.0->spacy<3.8.0,>=3.7.0->es-core-news-sm==3.7.0) (7.0.4)\n",
            "Requirement already satisfied: MarkupSafe>=2.0 in /usr/local/lib/python3.10/dist-packages (from jinja2->spacy<3.8.0,>=3.7.0->es-core-news-sm==3.7.0) (2.1.5)\n",
            "Requirement already satisfied: marisa-trie>=0.7.7 in /usr/local/lib/python3.10/dist-packages (from language-data>=1.2->langcodes<4.0.0,>=3.2.0->spacy<3.8.0,>=3.7.0->es-core-news-sm==3.7.0) (1.2.0)\n",
            "Requirement already satisfied: markdown-it-py>=2.2.0 in /usr/local/lib/python3.10/dist-packages (from rich>=10.11.0->typer<1.0.0,>=0.3.0->spacy<3.8.0,>=3.7.0->es-core-news-sm==3.7.0) (3.0.0)\n",
            "Requirement already satisfied: pygments<3.0.0,>=2.13.0 in /usr/local/lib/python3.10/dist-packages (from rich>=10.11.0->typer<1.0.0,>=0.3.0->spacy<3.8.0,>=3.7.0->es-core-news-sm==3.7.0) (2.16.1)\n",
            "Requirement already satisfied: wrapt in /usr/local/lib/python3.10/dist-packages (from smart-open<8.0.0,>=5.2.1->weasel<0.5.0,>=0.1.0->spacy<3.8.0,>=3.7.0->es-core-news-sm==3.7.0) (1.16.0)\n",
            "Requirement already satisfied: mdurl~=0.1 in /usr/local/lib/python3.10/dist-packages (from markdown-it-py>=2.2.0->rich>=10.11.0->typer<1.0.0,>=0.3.0->spacy<3.8.0,>=3.7.0->es-core-news-sm==3.7.0) (0.1.2)\n",
            "Installing collected packages: es-core-news-sm\n",
            "Successfully installed es-core-news-sm-3.7.0\n",
            "\u001b[38;5;2m✔ Download and installation successful\u001b[0m\n",
            "You can now load the package via spacy.load('es_core_news_sm')\n",
            "\u001b[38;5;3m⚠ Restart to reload dependencies\u001b[0m\n",
            "If you are in a Jupyter or Colab notebook, you may need to restart Python in\n",
            "order to load all the package's dependencies. You can do this by selecting the\n",
            "'Restart kernel' or 'Restart runtime' option.\n"
          ]
        }
      ]
    },
    {
      "cell_type": "code",
      "source": [
        "import spacy\n",
        "nlp = spacy.load('es_core_news_sm')"
      ],
      "metadata": {
        "id": "BEbhQFF3bmWL"
      },
      "execution_count": null,
      "outputs": []
    },
    {
      "cell_type": "code",
      "source": [
        "clean_text_lemm = ' '.join([word.lemma_ for word in nlp(texto_limpio_3)])\n",
        "clean_text_lemm"
      ],
      "metadata": {
        "colab": {
          "base_uri": "https://localhost:8080/",
          "height": 36
        },
        "id": "CJ2OsXPjanyM",
        "outputId": "b5902731-00b9-4453-f333-b151c383c50c"
      },
      "execution_count": null,
      "outputs": [
        {
          "output_type": "execute_result",
          "data": {
            "text/plain": [
              "'holar ejemplo texto limpieza contener varios elemento número 12345 símbolo caracter especial además palabra repetir repetir varios veascv añskcf ces probar limpieza'"
            ],
            "application/vnd.google.colaboratory.intrinsic+json": {
              "type": "string"
            }
          },
          "metadata": {},
          "execution_count": 18
        }
      ]
    },
    {
      "cell_type": "markdown",
      "source": [
        "## Ejercicio : Extracción de información de una página web\n",
        "Objetivo: Extraer información específica de una página web utilizando técnicas de manipulación de texto y expresiones regulares.\n",
        "\n",
        "Instrucciones:\n",
        "1. Descarguen el contenido HTML de la página web de la diplomatura\n",
        "2. Extraigan el texto de la sección relacionado al módulo 3\n",
        "\"\"\"\n",
        "Módulo 3 – Análisis exploratorio de datos\n",
        "Carácter: Obligatorio\n",
        "....por el cliente o la empresa.\"\"\n",
        "\n",
        "3. Limpie el texto para que quede legible\n",
        "4. Muestren el texto extraído."
      ],
      "metadata": {
        "id": "h_mTOqPwvxFY"
      }
    },
    {
      "cell_type": "code",
      "source": [
        "from urllib.request import urlopen\n",
        "page = urlopen(\"https://exa.unne.edu.ar/diplomatura/index.php/plan-de-estudios\")\n",
        "page_html = page.read().decode(\"utf-8\")\n",
        "print(page_html[10000:18000])\n",
        "#print(page_html)"
      ],
      "metadata": {
        "colab": {
          "base_uri": "https://localhost:8080/"
        },
        "id": "7YQM0jxmt_iE",
        "outputId": "a8c1ed6b-cab1-4470-a678-61b5ce7b6b46"
      },
      "execution_count": null,
      "outputs": [
        {
          "output_type": "stream",
          "name": "stdout",
          "text": [
            "-red-color{color: var(--wp--preset--color--vivid-red) !important;}.has-luminous-vivid-orange-color{color: var(--wp--preset--color--luminous-vivid-orange) !important;}.has-luminous-vivid-amber-color{color: var(--wp--preset--color--luminous-vivid-amber) !important;}.has-light-green-cyan-color{color: var(--wp--preset--color--light-green-cyan) !important;}.has-vivid-green-cyan-color{color: var(--wp--preset--color--vivid-green-cyan) !important;}.has-pale-cyan-blue-color{color: var(--wp--preset--color--pale-cyan-blue) !important;}.has-vivid-cyan-blue-color{color: var(--wp--preset--color--vivid-cyan-blue) !important;}.has-vivid-purple-color{color: var(--wp--preset--color--vivid-purple) !important;}.has-black-background-color{background-color: var(--wp--preset--color--black) !important;}.has-cyan-bluish-gray-background-color{background-color: var(--wp--preset--color--cyan-bluish-gray) !important;}.has-white-background-color{background-color: var(--wp--preset--color--white) !important;}.has-pale-pink-background-color{background-color: var(--wp--preset--color--pale-pink) !important;}.has-vivid-red-background-color{background-color: var(--wp--preset--color--vivid-red) !important;}.has-luminous-vivid-orange-background-color{background-color: var(--wp--preset--color--luminous-vivid-orange) !important;}.has-luminous-vivid-amber-background-color{background-color: var(--wp--preset--color--luminous-vivid-amber) !important;}.has-light-green-cyan-background-color{background-color: var(--wp--preset--color--light-green-cyan) !important;}.has-vivid-green-cyan-background-color{background-color: var(--wp--preset--color--vivid-green-cyan) !important;}.has-pale-cyan-blue-background-color{background-color: var(--wp--preset--color--pale-cyan-blue) !important;}.has-vivid-cyan-blue-background-color{background-color: var(--wp--preset--color--vivid-cyan-blue) !important;}.has-vivid-purple-background-color{background-color: var(--wp--preset--color--vivid-purple) !important;}.has-black-border-color{border-color: var(--wp--preset--color--black) !important;}.has-cyan-bluish-gray-border-color{border-color: var(--wp--preset--color--cyan-bluish-gray) !important;}.has-white-border-color{border-color: var(--wp--preset--color--white) !important;}.has-pale-pink-border-color{border-color: var(--wp--preset--color--pale-pink) !important;}.has-vivid-red-border-color{border-color: var(--wp--preset--color--vivid-red) !important;}.has-luminous-vivid-orange-border-color{border-color: var(--wp--preset--color--luminous-vivid-orange) !important;}.has-luminous-vivid-amber-border-color{border-color: var(--wp--preset--color--luminous-vivid-amber) !important;}.has-light-green-cyan-border-color{border-color: var(--wp--preset--color--light-green-cyan) !important;}.has-vivid-green-cyan-border-color{border-color: var(--wp--preset--color--vivid-green-cyan) !important;}.has-pale-cyan-blue-border-color{border-color: var(--wp--preset--color--pale-cyan-blue) !important;}.has-vivid-cyan-blue-border-color{border-color: var(--wp--preset--color--vivid-cyan-blue) !important;}.has-vivid-purple-border-color{border-color: var(--wp--preset--color--vivid-purple) !important;}.has-vivid-cyan-blue-to-vivid-purple-gradient-background{background: var(--wp--preset--gradient--vivid-cyan-blue-to-vivid-purple) !important;}.has-light-green-cyan-to-vivid-green-cyan-gradient-background{background: var(--wp--preset--gradient--light-green-cyan-to-vivid-green-cyan) !important;}.has-luminous-vivid-amber-to-luminous-vivid-orange-gradient-background{background: var(--wp--preset--gradient--luminous-vivid-amber-to-luminous-vivid-orange) !important;}.has-luminous-vivid-orange-to-vivid-red-gradient-background{background: var(--wp--preset--gradient--luminous-vivid-orange-to-vivid-red) !important;}.has-very-light-gray-to-cyan-bluish-gray-gradient-background{background: var(--wp--preset--gradient--very-light-gray-to-cyan-bluish-gray) !important;}.has-cool-to-warm-spectrum-gradient-background{background: var(--wp--preset--gradient--cool-to-warm-spectrum) !important;}.has-blush-light-purple-gradient-background{background: var(--wp--preset--gradient--blush-light-purple) !important;}.has-blush-bordeaux-gradient-background{background: var(--wp--preset--gradient--blush-bordeaux) !important;}.has-luminous-dusk-gradient-background{background: var(--wp--preset--gradient--luminous-dusk) !important;}.has-pale-ocean-gradient-background{background: var(--wp--preset--gradient--pale-ocean) !important;}.has-electric-grass-gradient-background{background: var(--wp--preset--gradient--electric-grass) !important;}.has-midnight-gradient-background{background: var(--wp--preset--gradient--midnight) !important;}.has-small-font-size{font-size: var(--wp--preset--font-size--small) !important;}.has-medium-font-size{font-size: var(--wp--preset--font-size--medium) !important;}.has-large-font-size{font-size: var(--wp--preset--font-size--large) !important;}.has-x-large-font-size{font-size: var(--wp--preset--font-size--x-large) !important;}\n",
            ".wp-block-navigation a:where(:not(.wp-element-button)){color: inherit;}\n",
            ":where(.wp-block-post-template.is-layout-flex){gap: 1.25em;}:where(.wp-block-post-template.is-layout-grid){gap: 1.25em;}\n",
            ":where(.wp-block-columns.is-layout-flex){gap: 2em;}:where(.wp-block-columns.is-layout-grid){gap: 2em;}\n",
            ".wp-block-pullquote{font-size: 1.5em;line-height: 1.6;}\n",
            "</style>\n",
            "<link rel='stylesheet' id='slick-style-css' href='https://exa.unne.edu.ar/diplomatura/wp-content/plugins/blog-designer-pack/assets/css/slick.css?ver=3.3' type='text/css' media='all' />\n",
            "<link rel='stylesheet' id='bdp-public-style-css' href='https://exa.unne.edu.ar/diplomatura/wp-content/plugins/blog-designer-pack/assets/css/bdp-public.css?ver=3.3' type='text/css' media='all' />\n",
            "<link rel='stylesheet' id='blossomthemes-toolkit-css' href='https://exa.unne.edu.ar/diplomatura/wp-content/plugins/blossomthemes-toolkit/public/css/blossomthemes-toolkit-public.min.css?ver=2.2.1' type='text/css' media='all' />\n",
            "<link rel='stylesheet' id='animate-css' href='https://exa.unne.edu.ar/diplomatura/wp-content/themes/blossom-feminine/css/animate.min.css?ver=3.5.2' type='text/css' media='all' />\n",
            "<link rel='stylesheet' id='blossom-feminine-style-css' href='https://exa.unne.edu.ar/diplomatura/wp-content/themes/blossom-feminine/style.css?ver=6.3' type='text/css' media='all' />\n",
            "<link rel='stylesheet' id='blossom-mommy-blog-style-css' href='https://exa.unne.edu.ar/diplomatura/wp-content/themes/blossom-mommy-blog/style.css?ver=1.1.0' type='text/css' media='all' />\n",
            "<link rel='stylesheet' id='owl-carousel-css' href='https://exa.unne.edu.ar/diplomatura/wp-content/themes/blossom-feminine/css/owl.carousel.min.css?ver=2.2.1' type='text/css' media='all' />\n",
            "<link rel='stylesheet' id='blossom-feminine-google-fonts-css' href='https://fonts.googleapis.com/css?family=Playfair+Display%3A700italic' type='text/css' media='all' />\n",
            "<link rel='stylesheet' id='elementor-icons-css' href='https://exa.unne.edu.ar/diplomatura/wp-content/plugins/elementor/assets/lib/eicons/css/elementor-icons.min.css?ver=5.21.0' type='text/css' media='all' />\n",
            "<link rel='stylesheet' id='elementor-frontend-css' href='https://exa.unne.edu.ar/diplomatura/wp-content/plugins/elementor/assets/css/frontend-lite.min.css?ver=3.15.2' type='text/css' media='all' />\n",
            "<link rel='stylesheet' id='swiper-css' href='https://exa.unne.edu.ar/diplomatura/wp-content/plugins/elementor/assets/lib/swiper/v8/css/swiper.min.css?ver=8.4.5' type='text/css' media='all' />\n",
            "<link rel='stylesheet' id='elementor-post-6-css' href='https://exa.unne.edu.ar/diplomatura/wp-content/uploads/elementor/css/post-6.css?ver=1699030162' type='text/css' media='all' />\n",
            "<link rel='stylesheet' id='elementor-global-css' href='https://exa.unne.edu.ar/diplomatura/wp-content/uploads/elementor/css/global.css?ver=1699030599' type='text/css' media='all' />\n",
            "<link rel='stylesheet' id='elementor-post-62-css' href='https://exa.unne.edu.ar/diplomatura/wp-content/uploads/elementor/css/post-62.css?ver=1699038408' type='tex\n"
          ]
        }
      ]
    }
  ]
}