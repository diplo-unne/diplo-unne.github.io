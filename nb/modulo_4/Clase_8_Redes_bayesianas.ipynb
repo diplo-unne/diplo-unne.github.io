{
 "cells": [
  {
   "cell_type": "markdown",
   "metadata": {},
   "source": [
    "# **Diplomatura en Ciencia de Datos - UNNE - 2024**\n",
    "### Módulo 4: Aprendizaje Automático\n",
    "### Clase 8: Redes Bayesianas\n",
    "\n",
    "![alt text](https://www.researchgate.net/profile/Ronan-Daly/publication/220254267/figure/fig2/AS:393986503135236@1470945110452/The-ASIA-Bayesian-network-structure.png)\n"
   ]
  },
  {
   "cell_type": "markdown",
   "metadata": {},
   "source": [
    "## Asian Disease\n",
    "\n",
    "En este ejemplo las CPD (distribuciones de probabilidades condicionales) son valores conocidos.\n",
    "\n",
    "![alt text](https://i.sstatic.net/IaI0b.png)"
   ]
  },
  {
   "cell_type": "code",
   "execution_count": null,
   "metadata": {},
   "outputs": [],
   "source": [
    "from pgmpy.models import BayesianNetwork\n",
    "from pgmpy.factors.discrete import TabularCPD\n",
    "from pgmpy.inference import VariableElimination\n",
    "\n",
    "# Define the Bayesian Network structure\n",
    "model = BayesianNetwork([\n",
    "    ('Smoking', 'Lung Cancer'),\n",
    "    ('Smoking', 'Bronchitis'),\n",
    "    ('Asia', 'Tuberculosis'),\n",
    "    ('Tuberculosis', 'TB or Lung Cancer'),\n",
    "    ('Lung Cancer', 'TB or Lung Cancer'),\n",
    "    ('TB or Lung Cancer', 'Positive X-ray'),\n",
    "    ('Bronchitis', 'Positive X-ray'),\n",
    "    ('TB or Lung Cancer', 'Dyspnea'),\n",
    "    ('Bronchitis', 'Dyspnea')\n",
    "])\n",
    "\n",
    "# Define CPDs for each variable\n",
    "\n",
    "# Smoking CPD (assume 30% of people smoke)\n",
    "cpd_smoking = TabularCPD(variable='Smoking', variable_card=2, values=[[0.7], [0.3]])\n",
    "\n",
    "# Visit to Asia CPD (assume 20% of people visit Asia)\n",
    "cpd_asia = TabularCPD(variable='Asia', variable_card=2, values=[[0.8], [0.2]])\n",
    "\n",
    "# Tuberculosis CPD (dependent on Asia visit)\n",
    "cpd_tb = TabularCPD(variable='Tuberculosis', variable_card=2,\n",
    "                    values=[[0.99, 0.95],  # No TB if no Asia visit or if visit\n",
    "                            [0.01, 0.05]],  # TB is more likely if visited Asia\n",
    "                    evidence=['Asia'], evidence_card=[2])\n",
    "\n",
    "# Lung Cancer CPD (dependent on Smoking)\n",
    "cpd_lc = TabularCPD(variable='Lung Cancer', variable_card=2,\n",
    "                    values=[[0.99, 0.90],  # No lung cancer\n",
    "                            [0.01, 0.10]],  # Lung cancer more likely if smoker\n",
    "                    evidence=['Smoking'], evidence_card=[2])\n",
    "\n",
    "# Bronchitis CPD (dependent on Smoking)\n",
    "cpd_bronchitis = TabularCPD(variable='Bronchitis', variable_card=2,\n",
    "                            values=[[0.9, 0.6],  # No bronchitis\n",
    "                                    [0.1, 0.4]],  # Bronchitis more likely if smoker\n",
    "                            evidence=['Smoking'], evidence_card=[2])\n",
    "\n",
    "# Either TB or Lung Cancer CPD (dependent on TB and Lung Cancer)\n",
    "cpd_tb_or_lc = TabularCPD(variable='TB or Lung Cancer', variable_card=2,\n",
    "                          values=[[1.0, 0.0, 0.0, 0.0],  # No TB or LC\n",
    "                                  [0.0, 1.0, 1.0, 1.0]],  # Either TB or LC present\n",
    "                          evidence=['Tuberculosis', 'Lung Cancer'], evidence_card=[2, 2])\n",
    "\n",
    "# Positive X-ray CPD (dependent on TB or LC and Bronchitis)\n",
    "cpd_xray = TabularCPD(variable='Positive X-ray', variable_card=2,\n",
    "                      values=[[0.99, 0.7, 0.8, 0.1],  # No positive x-ray\n",
    "                              [0.01, 0.3, 0.2, 0.9]],  # Positive x-ray\n",
    "                      evidence=['TB or Lung Cancer', 'Bronchitis'], evidence_card=[2, 2])\n",
    "\n",
    "# Dyspnea CPD (dependent on TB or LC and Bronchitis)\n",
    "cpd_dyspnea = TabularCPD(variable='Dyspnea', variable_card=2,\n",
    "                         values=[[0.9, 0.7, 0.8, 0.1],  # No dyspnea\n",
    "                                 [0.1, 0.3, 0.2, 0.9]],  # Dyspnea more likely if either TB/LC or Bronchitis\n",
    "                         evidence=['TB or Lung Cancer', 'Bronchitis'], evidence_card=[2, 2])\n",
    "\n",
    "# Add CPDs to the model\n",
    "model.add_cpds(cpd_smoking, cpd_asia, cpd_tb, cpd_lc, cpd_bronchitis, cpd_tb_or_lc, cpd_xray, cpd_dyspnea)\n",
    "\n",
    "# Validate the model\n",
    "assert model.check_model()\n"
   ]
  },
  {
   "cell_type": "code",
   "execution_count": null,
   "metadata": {},
   "outputs": [],
   "source": [
    "# Create the inference object\n",
    "inference = VariableElimination(model)\n",
    "\n",
    "# Query the probability of Dyspnea given that the person smokes and has a positive X-ray\n",
    "result = inference.query(variables=['Dyspnea'], evidence={'Smoking': 1, 'Positive X-ray': 1})\n",
    "print(result)\n"
   ]
  },
  {
   "cell_type": "code",
   "execution_count": null,
   "metadata": {},
   "outputs": [],
   "source": [
    "# Query the probability of having TB or Lung Cancer given Dyspnea\n",
    "result = inference.query(variables=['TB or Lung Cancer'], evidence={'Smoking': 0, 'Dyspnea': 1})\n",
    "print(result)\n"
   ]
  },
  {
   "cell_type": "markdown",
   "metadata": {},
   "source": [
    "## Weather and Rain\n",
    "\n",
    "![alt text](https://i.sstatic.net/NEAYo.jpg)"
   ]
  },
  {
   "cell_type": "code",
   "execution_count": null,
   "metadata": {},
   "outputs": [],
   "source": [
    "# Define the Bayesian Network structure\n",
    "weather_model = BayesianNetwork([\n",
    "    ('C', 'R'),  # Cloudy affects Rain\n",
    "    ('C', 'S'),  # Cloudy affects Sprinkler\n",
    "    ('R', 'W'),  # Rain affects Wet grass\n",
    "    ('S', 'W')   # Sprinkler affects Wet grass\n",
    "])\n",
    "\n",
    "# Define CPDs\n",
    "cpd_C = TabularCPD(variable='C', variable_card=2, values=[[0.5], [0.5]])  # 50% chance of Cloudy\n",
    "cpd_R = TabularCPD(variable='R', variable_card=2, \n",
    "                   values=[[0.8, 0.2], [0.2, 0.8]], evidence=['C'], evidence_card=[2])  # Rain depends on Cloudy\n",
    "cpd_S = TabularCPD(variable='S', variable_card=2, \n",
    "                   values=[[0.5, 0.9], [0.5, 0.1]], evidence=['C'], evidence_card=[2])  # Sprinkler depends on Cloudy\n",
    "cpd_W = TabularCPD(variable='W', variable_card=2, \n",
    "                   values=[[1.0, 0.1, 0.1, 0.01], [0.0, 0.9, 0.9, 0.99]], \n",
    "                   evidence=['S', 'R'], evidence_card=[2, 2])  # Wet grass depends on Rain and Sprinkler\n",
    "\n",
    "# Add CPDs to the model\n",
    "weather_model.add_cpds(cpd_C, cpd_R, cpd_S, cpd_W)\n",
    "\n",
    "# Validate the model\n",
    "assert weather_model.check_model()\n",
    "\n",
    "# Perform inference\n",
    "weather_inference = VariableElimination(weather_model)\n",
    "\n",
    "# Query the probability of Wet grass being wet given that it's raining\n",
    "weather_result = weather_inference.query(variables=['W'], evidence={'R': 1})\n",
    "print(weather_result)\n"
   ]
  },
  {
   "cell_type": "markdown",
   "metadata": {},
   "source": [
    "## Symptoms"
   ]
  },
  {
   "cell_type": "code",
   "execution_count": null,
   "metadata": {},
   "outputs": [],
   "source": [
    "# Define the Bayesian Network structure\n",
    "medical_model = BayesianNetwork([\n",
    "    ('D', 'S'),  # Disease affects Symptom\n",
    "    ('D', 'T')   # Disease affects Test result\n",
    "])\n",
    "\n",
    "# Define CPDs\n",
    "cpd_D = TabularCPD(variable='D', variable_card=2, values=[[0.95], [0.05]])  # 5% chance of Disease\n",
    "cpd_S = TabularCPD(variable='S', variable_card=2, \n",
    "                   values=[[0.99, 0.30], [0.01, 0.70]], evidence=['D'], evidence_card=[2])  # Symptom depends on Disease\n",
    "cpd_T = TabularCPD(variable='T', variable_card=2, \n",
    "                   values=[[0.90, 0.20], [0.10, 0.80]], evidence=['D'], evidence_card=[2])  # Test depends on Disease\n",
    "\n",
    "# Add CPDs to the model\n",
    "medical_model.add_cpds(cpd_D, cpd_S, cpd_T)\n",
    "\n",
    "# Validate the model\n",
    "assert medical_model.check_model()\n",
    "\n",
    "# Perform inference\n",
    "medical_inference = VariableElimination(medical_model)\n",
    "\n",
    "# Query the probability of a positive test given the symptom is present\n",
    "medical_result = medical_inference.query(variables=['T'], evidence={'S': 1})\n",
    "print(medical_result)\n"
   ]
  },
  {
   "cell_type": "markdown",
   "metadata": {},
   "source": [
    "Learning CPDs from Data (Medical Diagnosis)  \n",
    "We'll use a simple dataset that contains information about a medical diagnosis system. We'll assume that we have data for three variables:\n",
    "\n",
    "- Disease (D): Whether a patient has a disease (1) or not (0).\n",
    "- Symptom (S): Whether a patient has a symptom (1) or not (0).\n",
    "- Test Result (T): Whether a test result is positive (1) or negative (0).\n",
    "- First, let’s simulate some data and then learn the probabilities from it.\n",
    "\n",
    "Step-by-Step:\n",
    "- Create a dataset: Simulate a dataset based on the structure of the Bayesian network.\n",
    "- Learn CPDs: Use Maximum Likelihood Estimation (MLE) to learn the CPDs from the dataset."
   ]
  },
  {
   "cell_type": "code",
   "execution_count": null,
   "metadata": {},
   "outputs": [],
   "source": [
    "import pandas as pd\n",
    "from pgmpy.models import BayesianNetwork\n",
    "from pgmpy.estimators import MaximumLikelihoodEstimator\n",
    "from pgmpy.inference import VariableElimination\n",
    "\n",
    "# Simulate some data for our Bayesian network\n",
    "data = pd.DataFrame(data={\n",
    "    'D': [0, 0, 0, 1, 1, 1, 1, 1, 0, 0],  # Disease (0: no, 1: yes)\n",
    "    'S': [0, 0, 1, 1, 1, 1, 1, 0, 0, 0],  # Symptom (0: no, 1: yes)\n",
    "    'T': [0, 0, 1, 1, 0, 1, 1, 0, 0, 1]   # Test result (0: negative, 1: positive)\n",
    "})\n",
    "\n",
    "# Define the structure of the Bayesian network\n",
    "model = BayesianNetwork([('D', 'S'), ('D', 'T')])  # Disease causes Symptom and Test result\n",
    "\n",
    "# Learn the CPDs using Maximum Likelihood Estimation\n",
    "model.fit(data, estimator=MaximumLikelihoodEstimator)\n",
    "\n",
    "# Check the learned CPDs\n",
    "for cpd in model.get_cpds():\n",
    "    print(cpd)\n",
    "\n",
    "# Perform inference with the learned model\n",
    "inference = VariableElimination(model)\n",
    "\n",
    "# Query the probability of Disease given a positive test\n",
    "result = inference.query(variables=['D'], evidence={'T': 1})\n",
    "print(result)\n"
   ]
  },
  {
   "cell_type": "markdown",
   "metadata": {},
   "source": [
    "Explanation:\n",
    "- Simulating Data: A small dataset is created with variables D (Disease), S (Symptom), and T (Test). This represents patients' disease status, symptoms, and test results.\n",
    "- Define the Structure: We define the structure of the Bayesian network where Disease (D) influences both Symptom (S) and Test result (T).\n",
    "- Fit the Model: Using Maximum Likelihood Estimation (MLE), we fit the model to the data. This learns the conditional probability distributions (CPDs) from the dataset.\n",
    "- Check Learned CPDs: We print the CPDs to inspect the learned probabilities.\n",
    "- Perform Inference: Finally, we query the model to compute the probability of having the disease (D) given a positive test result (T=1)."
   ]
  },
  {
   "cell_type": "markdown",
   "metadata": {},
   "source": [
    "Learning the Structure from Data\n",
    "\n",
    "If you don’t know the structure of the Bayesian network, you can also learn it from the data using structure learning algorithms like Hill-Climb Search or Constraint-Based Search (e.g., PC algorithm). Here's how to learn the structure:"
   ]
  },
  {
   "cell_type": "code",
   "execution_count": null,
   "metadata": {},
   "outputs": [],
   "source": [
    "from pgmpy.estimators import HillClimbSearch, BicScore\n",
    "\n",
    "# Learn the structure using Hill-Climb search\n",
    "hc = HillClimbSearch(data)\n",
    "best_model = hc.estimate(scoring_method=BicScore(data))\n",
    "\n",
    "# Print the learned edges\n",
    "print(best_model.edges())\n"
   ]
  },
  {
   "cell_type": "markdown",
   "metadata": {},
   "source": [
    "## Titanic\n",
    "\n",
    "The Titanic dataset contains the following key columns:\n",
    "\n",
    "- Pclass: Passenger class (1 = 1st, 2 = 2nd, 3 = 3rd).\n",
    "- Sex: Gender (0 = female, 1 = male).\n",
    "- Age: Age of the passenger.\n",
    "- Fare: Fare paid by the passenger.\n",
    "- Embarked: Port of embarkation (C = Cherbourg, Q = Queenstown, S = Southampton).\n",
    "- Survived: Survival status (0 = No, 1 = Yes)."
   ]
  },
  {
   "cell_type": "code",
   "execution_count": 1,
   "metadata": {},
   "outputs": [],
   "source": [
    "import pandas as pd\n",
    "from sklearn.model_selection import train_test_split\n",
    "from sklearn.preprocessing import LabelEncoder\n",
    "\n",
    "# Load Titanic dataset (You can download it from Kaggle or other sources)\n",
    "titanic_data = pd.read_csv(\"titanic.csv\")\n",
    "\n",
    "# Keep relevant columns\n",
    "titanic_data = titanic_data[['Pclass', 'Sex', 'Age', 'Fare', 'Embarked', 'Survived']]\n",
    "\n",
    "# Handle missing values by filling with median for Age, and mode for Embarked\n",
    "titanic_data['Age'].fillna(titanic_data['Age'].median(), inplace=True)\n",
    "titanic_data['Embarked'].fillna(titanic_data['Embarked'].mode()[0], inplace=True)\n",
    "\n",
    "# Encode categorical data\n",
    "labelencoder = LabelEncoder()\n",
    "titanic_data['Sex'] = labelencoder.fit_transform(titanic_data['Sex'])  # Female = 0, Male = 1\n",
    "titanic_data['Embarked'] = labelencoder.fit_transform(titanic_data['Embarked'])  # S = 2, C = 0, Q = 1\n",
    "\n",
    "# Split the dataset into train and test sets\n",
    "train_data, test_data = train_test_split(titanic_data, test_size=0.3, random_state=42)"
   ]
  },
  {
   "cell_type": "code",
   "execution_count": null,
   "metadata": {},
   "outputs": [],
   "source": [
    "titanic_data"
   ]
  },
  {
   "cell_type": "code",
   "execution_count": null,
   "metadata": {},
   "outputs": [],
   "source": [
    "from pgmpy.estimators import HillClimbSearch, BicScore\n",
    "\n",
    "# Learn the structure of the Bayesian Network\n",
    "hc = HillClimbSearch(train_data)\n",
    "best_model = hc.estimate(scoring_method=BicScore(train_data))\n",
    "\n",
    "# Print the learned structure (edges of the Bayesian network)\n",
    "print(\"Learned structure:\", best_model.edges())\n"
   ]
  },
  {
   "cell_type": "code",
   "execution_count": null,
   "metadata": {},
   "outputs": [],
   "source": [
    "from pgmpy.estimators import MaximumLikelihoodEstimator\n",
    "from pgmpy.models import BayesianNetwork\n",
    "\n",
    "# Define the Bayesian Network model using the learned structure\n",
    "bn_model = BayesianNetwork(best_model.edges())\n",
    "\n",
    "# Learn the CPDs using Maximum Likelihood Estimation\n",
    "bn_model.fit(train_data, estimator=MaximumLikelihoodEstimator)\n",
    "\n",
    "# Display the learned CPDs\n",
    "for cpd in bn_model.get_cpds():\n",
    "    print(cpd)\n"
   ]
  },
  {
   "cell_type": "code",
   "execution_count": null,
   "metadata": {},
   "outputs": [],
   "source": [
    "from pgmpy.inference import VariableElimination\n",
    "\n",
    "# Perform inference on the learned model\n",
    "inference = VariableElimination(bn_model)\n",
    "\n",
    "# Query: Probability of survival given a passenger is in 1st class, male\n",
    "result = inference.query(variables=['Survived'], evidence={'Pclass': 1, 'Sex': 1})\n",
    "print(result)\n"
   ]
  },
  {
   "cell_type": "markdown",
   "metadata": {},
   "source": [
    "## Adult\n",
    "\n",
    "Predict whether annual income of an individual exceeds $50K/yr based on census data. Also known as \"Census Income\" dataset.\n",
    "\n",
    "The dataset contains features like:\n",
    "\n",
    "- Age: The age of the individual.\n",
    "- Education: Level of education (e.g., Bachelor's, Masters).\n",
    "- Marital Status: Marital status of the individual.\n",
    "- Occupation: Type of occupation.\n",
    "- Work Hours per Week: Number of hours worked per week.\n",
    "- Race: Race of the individual.\n",
    "- Sex: Gender of the individual.\n",
    "- Income: Income level, either \">50K\" or \"<=50K\"."
   ]
  },
  {
   "cell_type": "code",
   "execution_count": 3,
   "metadata": {},
   "outputs": [],
   "source": [
    "import pandas as pd\n",
    "\n",
    "data = pd.read_csv('adult.csv')\n",
    "\n",
    "# Assign column names\n",
    "columns = ['id', 'age', 'workclass', 'fnlwgt', 'education', 'education-num', 'marital-status', \n",
    "           'occupation', 'relationship', 'race', 'sex', 'capital-gain', 'capital-loss', \n",
    "           'hours-per-week', 'native-country', 'income']\n",
    "data.columns = columns\n",
    "\n",
    "# Select relevant features and convert categorical columns into numerical codes\n",
    "data = data[['age', 'education', 'marital-status', 'occupation', 'race', 'sex', 'hours-per-week', 'income']]\n",
    "data['education'] = data['education'].astype('category').cat.codes\n",
    "data['marital-status'] = data['marital-status'].astype('category').cat.codes\n",
    "data['occupation'] = data['occupation'].astype('category').cat.codes\n",
    "data['race'] = data['race'].astype('category').cat.codes\n",
    "data['sex'] = data['sex'].astype('category').cat.codes\n",
    "data['income'] = data['income'].apply(lambda x: 1 if x == ' >50K' else 0)  # Income: 1 = >50K, 0 = <=50K"
   ]
  },
  {
   "cell_type": "code",
   "execution_count": null,
   "metadata": {},
   "outputs": [],
   "source": [
    "from pgmpy.estimators import HillClimbSearch, BicScore\n",
    "\n",
    "# Initialize HillClimbSearch with the data\n",
    "hc = HillClimbSearch(data)\n",
    "\n",
    "# Use BIC score to evaluate the network structure\n",
    "best_model = hc.estimate(scoring_method=BicScore(data))\n",
    "\n",
    "# Print the learned structure\n",
    "print(best_model.edges())\n"
   ]
  },
  {
   "cell_type": "code",
   "execution_count": null,
   "metadata": {},
   "outputs": [],
   "source": [
    "from pgmpy.estimators import MaximumLikelihoodEstimator\n",
    "from pgmpy.models import BayesianNetwork\n",
    "\n",
    "# Define the Bayesian Network with the learned structure\n",
    "model = BayesianNetwork(best_model.edges())\n",
    "\n",
    "# Learn CPDs (conditional probability distributions) using MLE\n",
    "model.fit(data, estimator=MaximumLikelihoodEstimator)\n",
    "\n",
    "# Print CPDs for each variable\n",
    "for cpd in model.get_cpds():\n",
    "    print(cpd)\n"
   ]
  },
  {
   "cell_type": "markdown",
   "metadata": {},
   "source": [
    "0 - Divorced\n",
    "1 - Married-AF-spouse\n",
    "2 - Married-civ-spouse\n",
    "3 - Married-spouse-absent\n",
    "4 - Never married\n",
    "5 - Separated\n",
    "6 - Widowed\n"
   ]
  },
  {
   "cell_type": "code",
   "execution_count": null,
   "metadata": {},
   "outputs": [],
   "source": [
    "from pgmpy.inference import VariableElimination\n",
    "\n",
    "# Create inference object\n",
    "inference = VariableElimination(model)\n",
    "\n",
    "# Query the probability of having income >50K given work hours > 40 and marital status\n",
    "result = inference.query(variables=['income'], evidence={'hours-per-week': 20, 'marital-status': 6, 'age': 51})\n",
    "print(result)\n"
   ]
  }
 ],
 "metadata": {
  "kernelspec": {
   "display_name": "Python 3",
   "language": "python",
   "name": "python3"
  },
  "language_info": {
   "codemirror_mode": {
    "name": "ipython",
    "version": 3
   },
   "file_extension": ".py",
   "mimetype": "text/x-python",
   "name": "python",
   "nbconvert_exporter": "python",
   "pygments_lexer": "ipython3",
   "version": "3.10.3"
  }
 },
 "nbformat": 4,
 "nbformat_minor": 2
}
