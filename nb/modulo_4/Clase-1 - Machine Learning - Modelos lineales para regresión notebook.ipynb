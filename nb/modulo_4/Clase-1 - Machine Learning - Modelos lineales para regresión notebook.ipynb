{
 "cells": [
  {
   "cell_type": "markdown",
   "metadata": {},
   "source": [
    "# Diplomatura en Ciencia de Datos - UNNE - 2024\n",
    "### Módulo 4: Aprendizaje Automático\n",
    "### Clase 1: Modelos lineales para regresión"
   ]
  },
  {
   "cell_type": "code",
   "execution_count": null,
   "metadata": {},
   "outputs": [],
   "source": [
    "import matplotlib.pyplot as plt\n",
    "import numpy as np"
   ]
  },
  {
   "cell_type": "markdown",
   "metadata": {},
   "source": [
    "Vamos a definir un modelo sencillo: y = a*x"
   ]
  },
  {
   "cell_type": "code",
   "execution_count": null,
   "metadata": {},
   "outputs": [],
   "source": [
    "x = [0.5, 2.3, 2.9]\n",
    "y = [1.4, 1.9, 3.2]\n",
    "a = 0\n",
    "learning_rate = 0.1"
   ]
  },
  {
   "cell_type": "code",
   "execution_count": null,
   "metadata": {},
   "outputs": [],
   "source": []
  },
  {
   "cell_type": "code",
   "execution_count": null,
   "metadata": {},
   "outputs": [],
   "source": []
  },
  {
   "cell_type": "code",
   "execution_count": null,
   "metadata": {},
   "outputs": [],
   "source": [
    "# Definir el rango de valores para el eje x\n",
    "x1 = np.linspace(0, 10, 400)\n",
    "\n",
    "# Definir el mapa de colores\n",
    "cmap = plt.get_cmap('viridis')\n",
    "\n",
    "# Generar una secuencia de colores\n",
    "num_colores = len(pendientes)\n",
    "colores = [cmap(i / num_colores) for i in range(num_colores)]\n",
    "\n",
    "# Graficar cada recta con su pendiente y color correspondiente\n",
    "for pendiente, color in zip(pendientes, colores):\n",
    "    y1 = pendiente * x1\n",
    "    plt.plot(x1, y1, color=color)\n",
    "\n",
    "# Añadir el scatter plot\n",
    "plt.scatter(x, y, color='red', label='Scatter Plot')\n",
    "\n",
    "# Añadir el colorbar\n",
    "norm = plt.Normalize(vmin=0, vmax=num_colores)\n",
    "sm = plt.cm.ScalarMappable(cmap=cmap, norm=norm)\n",
    "sm.set_array([])  # Hay que definirlo para que funcione\n",
    "cbar = plt.colorbar(sm, ax=plt.gca())\n",
    "cbar.set_label('Epoch')\n",
    "\n",
    "# Añadir título y etiquetas\n",
    "plt.title('Gráfico de varias rectas con distintas pendientes y un scatter plot')\n",
    "plt.xlabel('Eje X')\n",
    "plt.ylabel('Eje Y')\n",
    "\n",
    "# Añadir una leyenda\n",
    "plt.legend()\n",
    "\n",
    "# Mostrar la gráfica\n",
    "plt.show()\n"
   ]
  },
  {
   "cell_type": "markdown",
   "metadata": {},
   "source": [
    "# Descenso del gradiente para dos parámetros\n",
    "Ahora nuestro modelo es: y = ax +b"
   ]
  },
  {
   "cell_type": "code",
   "execution_count": null,
   "metadata": {},
   "outputs": [],
   "source": [
    "x = [0.5, 2.3, 2.9]\n",
    "y = [1.4, 1.9, 3.2]\n",
    "n = len(x)\n",
    "\n",
    "#Inicializamos los parámetros\n",
    "a= 0\n",
    "b= 0\n",
    "\n",
    "learning_rate = 0.1"
   ]
  },
  {
   "cell_type": "code",
   "execution_count": null,
   "metadata": {},
   "outputs": [],
   "source": []
  },
  {
   "cell_type": "code",
   "execution_count": null,
   "metadata": {},
   "outputs": [],
   "source": []
  },
  {
   "cell_type": "code",
   "execution_count": null,
   "metadata": {},
   "outputs": [],
   "source": [
    "#Calculo de los parámetros según Cuadrados Mínimos"
   ]
  },
  {
   "cell_type": "code",
   "execution_count": null,
   "metadata": {},
   "outputs": [],
   "source": [
    "# Definir el rango de valores para el eje x\n",
    "x1 = np.linspace(0, 10, 400)\n",
    "\n",
    "# Definir el mapa de colores\n",
    "cmap = plt.get_cmap('viridis')\n",
    "\n",
    "# Generar una secuencia de colores\n",
    "num_colores = len(pendientes)\n",
    "colores = [cmap(i / num_colores) for i in range(num_colores)]\n",
    "\n",
    "# Graficar cada recta con su pendiente y color correspondiente\n",
    "for pendiente, ordenada, color in zip(pendientes, ordenadas, colores):\n",
    "    y1 = pendiente * x1 + ordenada\n",
    "    plt.plot(x1, y1, color=color)\n",
    "\n",
    "# Añadir el scatter plot\n",
    "plt.scatter(x, y, color='red', label='Datos originales')\n",
    "\n",
    "# Add a colorbar\n",
    "norm = plt.Normalize(vmin=0, vmax=num_colores)\n",
    "sm = plt.cm.ScalarMappable(cmap=cmap, norm=norm)\n",
    "sm.set_array([])  # Hay que definirlo para que funcione\n",
    "cbar = plt.colorbar(sm, ax=plt.gca())\n",
    "cbar.set_label('Epoch')\n",
    "\n",
    "# Añadir título y etiquetas\n",
    "plt.title('Gráfico de varias rectas con distintas pendientes')\n",
    "plt.xlabel('Eje X')\n",
    "plt.ylabel('Eje Y')\n",
    "\n",
    "# Añadir una leyenda\n",
    "plt.legend()\n",
    "\n",
    "# Mostrar la gráfica\n",
    "plt.show()"
   ]
  },
  {
   "cell_type": "code",
   "execution_count": null,
   "metadata": {},
   "outputs": [],
   "source": [
    "fig, axs = plt.subplots(2,1, figsize=(6,10))\n",
    "axs[0].plot(pendientes)\n",
    "axs[0].plot(rectax)\n",
    "axs[0].set_title('Magnitud de la función de error')\n",
    "axs[0].set_xlabel('Iteraciones')\n",
    "axs[0].set_ylabel('Magnitud del MSE')\n",
    "\n",
    "axs[1].plot(ordenadas)\n",
    "axs[1].plot(rectab)\n",
    "axs[1].set_title('Optimización de la pendiente')\n",
    "axs[1].set_xlabel('Iteraciones')\n",
    "axs[1].set_ylabel('Valor de la pendiente')\n",
    "fig.tight_layout()"
   ]
  },
  {
   "cell_type": "markdown",
   "metadata": {},
   "source": [
    "## Optimizacion de una recta con valores ruidosos"
   ]
  },
  {
   "cell_type": "code",
   "execution_count": null,
   "metadata": {},
   "outputs": [],
   "source": [
    "def gradiente(x,y):\n",
    "    da = 0\n",
    "    db = 0\n",
    "    n = len(x)\n",
    "    for i in range(n):\n",
    "        da += a*x[i]**2 -x[i]*y[i] +b*x[i]\n",
    "        db += a*x[i] +b -y[i]\n",
    "    da *= (1/n)\n",
    "    db *= (1/n)\n",
    "    return da,db\n",
    "\n",
    "def error(x,y):\n",
    "    suma = 0\n",
    "    n= len(x)\n",
    "    for i in range(n):\n",
    "        suma += (y[i]-a*x[i]-b)**2\n",
    "    return (1/(2*n))*suma"
   ]
  },
  {
   "cell_type": "code",
   "execution_count": null,
   "metadata": {},
   "outputs": [],
   "source": []
  },
  {
   "cell_type": "code",
   "execution_count": null,
   "metadata": {},
   "outputs": [],
   "source": [
    "fig, axs = plt.subplots(2,2, figsize=(10,10))\n",
    "axs[0,0].plot(func_error)\n",
    "axs[0,0].set_title('Magnitud de la función de error')\n",
    "axs[0,0].set_xlabel('Iteraciones')\n",
    "axs[0,0].set_ylabel('Magnitud del MSE')\n",
    "axs[0,1].scatter(x,y)\n",
    "axs[0,1].plot(x,y_nuevo, color='red')\n",
    "axs[0,1].set_title('Datos originales y resultado del modelo')\n",
    "\n",
    "axs[1,0].plot(pendientes)\n",
    "axs[1,0].plot(rectax)\n",
    "axs[1,0].set_title('Optimización de la pendiente')\n",
    "axs[1,0].set_xlabel('Iteraciones')\n",
    "axs[1,0].set_ylabel('Valor de la pendiente')\n",
    "axs[1,1].plot(ordenadas)\n",
    "axs[1,1].plot(rectab)\n",
    "axs[1,1].set_title('Optimización de la ordenada')\n",
    "axs[1,1].set_xlabel('Iteraciones')\n",
    "axs[1,1].set_ylabel('Valor de la ordenada')\n",
    "\n",
    "fig.tight_layout()"
   ]
  }
 ],
 "metadata": {
  "kernelspec": {
   "display_name": "Python 3",
   "language": "python",
   "name": "python3"
  },
  "language_info": {
   "codemirror_mode": {
    "name": "ipython",
    "version": 3
   },
   "file_extension": ".py",
   "mimetype": "text/x-python",
   "name": "python",
   "nbconvert_exporter": "python",
   "pygments_lexer": "ipython3",
   "version": "3.10.3"
  }
 },
 "nbformat": 4,
 "nbformat_minor": 2
}
